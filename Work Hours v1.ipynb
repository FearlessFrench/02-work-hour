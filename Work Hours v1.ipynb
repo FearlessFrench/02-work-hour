{
 "cells": [
  {
   "cell_type": "markdown",
   "id": "71256a56",
   "metadata": {},
   "source": [
    "## **Assignment 3**\n",
    "\n",
    "**Aug 30, 2025 at 9:00 AM**"
   ]
  },
  {
   "cell_type": "markdown",
   "id": "db28f339",
   "metadata": {},
   "source": [
    "![Flow Sample](flow-sample.png)"
   ]
  },
  {
   "cell_type": "markdown",
   "id": "f9e3043b",
   "metadata": {},
   "source": [
    "### Exploratory Data Analysis (EDA)"
   ]
  },
  {
   "cell_type": "code",
   "execution_count": 2,
   "id": "9e7727a3",
   "metadata": {},
   "outputs": [],
   "source": [
    "# !pip install plotly"
   ]
  },
  {
   "cell_type": "code",
   "execution_count": 3,
   "id": "db99bd19",
   "metadata": {},
   "outputs": [],
   "source": [
    "import pandas as pd\n",
    "import numpy as np\n",
    "import plotly.express as px"
   ]
  },
  {
   "cell_type": "code",
   "execution_count": 4,
   "id": "2853c6f4",
   "metadata": {},
   "outputs": [
    {
     "name": "stderr",
     "output_type": "stream",
     "text": [
      "C:\\Users\\Christopher French\\AppData\\Local\\Temp\\ipykernel_15760\\1607272043.py:1: DtypeWarning: Columns (0) have mixed types. Specify dtype option on import or set low_memory=False.\n",
      "  order = pd.read_csv(\"order_raw.csv\")\n"
     ]
    }
   ],
   "source": [
    "order = pd.read_csv(\"order_raw.csv\")\n",
    "cancel = pd.read_csv(\"professional_cancel_raw.csv\")\n",
    "quality = pd.read_csv(\"professional_quality_problem_raw.csv\")\n",
    "rating = pd.read_csv(\"professional_rating_raw.csv\")"
   ]
  },
  {
   "cell_type": "code",
   "execution_count": 5,
   "id": "02abb312",
   "metadata": {},
   "outputs": [
    {
     "data": {
      "text/html": [
       "<div>\n",
       "<style scoped>\n",
       "    .dataframe tbody tr th:only-of-type {\n",
       "        vertical-align: middle;\n",
       "    }\n",
       "\n",
       "    .dataframe tbody tr th {\n",
       "        vertical-align: top;\n",
       "    }\n",
       "\n",
       "    .dataframe thead th {\n",
       "        text-align: right;\n",
       "    }\n",
       "</style>\n",
       "<table border=\"1\" class=\"dataframe\">\n",
       "  <thead>\n",
       "    <tr style=\"text-align: right;\">\n",
       "      <th></th>\n",
       "      <th>booking_id</th>\n",
       "      <th>professional_id</th>\n",
       "      <th>cleaning_date</th>\n",
       "      <th>total_hour</th>\n",
       "    </tr>\n",
       "  </thead>\n",
       "  <tbody>\n",
       "    <tr>\n",
       "      <th>0</th>\n",
       "      <td>23</td>\n",
       "      <td>8</td>\n",
       "      <td>2016-03-26 13:00:00</td>\n",
       "      <td>2.0</td>\n",
       "    </tr>\n",
       "    <tr>\n",
       "      <th>1</th>\n",
       "      <td>24</td>\n",
       "      <td>5</td>\n",
       "      <td>2016-03-28 13:00:00</td>\n",
       "      <td>2.5</td>\n",
       "    </tr>\n",
       "    <tr>\n",
       "      <th>2</th>\n",
       "      <td>25</td>\n",
       "      <td>7</td>\n",
       "      <td>2016-03-31 17:00:00</td>\n",
       "      <td>2.5</td>\n",
       "    </tr>\n",
       "    <tr>\n",
       "      <th>3</th>\n",
       "      <td>26</td>\n",
       "      <td>7</td>\n",
       "      <td>2016-03-31 13:00:00</td>\n",
       "      <td>2.0</td>\n",
       "    </tr>\n",
       "    <tr>\n",
       "      <th>4</th>\n",
       "      <td>27</td>\n",
       "      <td>8</td>\n",
       "      <td>2016-04-01 13:00:00</td>\n",
       "      <td>2.5</td>\n",
       "    </tr>\n",
       "    <tr>\n",
       "      <th>...</th>\n",
       "      <td>...</td>\n",
       "      <td>...</td>\n",
       "      <td>...</td>\n",
       "      <td>...</td>\n",
       "    </tr>\n",
       "    <tr>\n",
       "      <th>1091449</th>\n",
       "      <td>2503311FRG</td>\n",
       "      <td>12498</td>\n",
       "      <td>2025-03-31 18:00:00</td>\n",
       "      <td>2.0</td>\n",
       "    </tr>\n",
       "    <tr>\n",
       "      <th>1091450</th>\n",
       "      <td>250331TMP0FDP</td>\n",
       "      <td>12086</td>\n",
       "      <td>2025-03-31 15:00:00</td>\n",
       "      <td>2.0</td>\n",
       "    </tr>\n",
       "    <tr>\n",
       "      <th>1091451</th>\n",
       "      <td>250331XWU9</td>\n",
       "      <td>11275</td>\n",
       "      <td>2025-03-31 15:00:00</td>\n",
       "      <td>4.0</td>\n",
       "    </tr>\n",
       "    <tr>\n",
       "      <th>1091452</th>\n",
       "      <td>250331TMPWPER</td>\n",
       "      <td>10019</td>\n",
       "      <td>2025-03-31 16:00:00</td>\n",
       "      <td>4.0</td>\n",
       "    </tr>\n",
       "    <tr>\n",
       "      <th>1091453</th>\n",
       "      <td>250331TMPJC83</td>\n",
       "      <td>9834</td>\n",
       "      <td>2025-03-31 18:00:00</td>\n",
       "      <td>2.0</td>\n",
       "    </tr>\n",
       "  </tbody>\n",
       "</table>\n",
       "<p>1091454 rows × 4 columns</p>\n",
       "</div>"
      ],
      "text/plain": [
       "            booking_id  professional_id        cleaning_date  total_hour\n",
       "0                   23                8  2016-03-26 13:00:00         2.0\n",
       "1                   24                5  2016-03-28 13:00:00         2.5\n",
       "2                   25                7  2016-03-31 17:00:00         2.5\n",
       "3                   26                7  2016-03-31 13:00:00         2.0\n",
       "4                   27                8  2016-04-01 13:00:00         2.5\n",
       "...                ...              ...                  ...         ...\n",
       "1091449     2503311FRG            12498  2025-03-31 18:00:00         2.0\n",
       "1091450  250331TMP0FDP            12086  2025-03-31 15:00:00         2.0\n",
       "1091451     250331XWU9            11275  2025-03-31 15:00:00         4.0\n",
       "1091452  250331TMPWPER            10019  2025-03-31 16:00:00         4.0\n",
       "1091453  250331TMPJC83             9834  2025-03-31 18:00:00         2.0\n",
       "\n",
       "[1091454 rows x 4 columns]"
      ]
     },
     "execution_count": 5,
     "metadata": {},
     "output_type": "execute_result"
    }
   ],
   "source": [
    "order"
   ]
  },
  {
   "cell_type": "code",
   "execution_count": 6,
   "id": "f0b2fbba",
   "metadata": {},
   "outputs": [
    {
     "data": {
      "text/html": [
       "<div>\n",
       "<style scoped>\n",
       "    .dataframe tbody tr th:only-of-type {\n",
       "        vertical-align: middle;\n",
       "    }\n",
       "\n",
       "    .dataframe tbody tr th {\n",
       "        vertical-align: top;\n",
       "    }\n",
       "\n",
       "    .dataframe thead th {\n",
       "        text-align: right;\n",
       "    }\n",
       "</style>\n",
       "<table border=\"1\" class=\"dataframe\">\n",
       "  <thead>\n",
       "    <tr style=\"text-align: right;\">\n",
       "      <th></th>\n",
       "      <th>report_date</th>\n",
       "      <th>professional_id</th>\n",
       "      <th>report_problem_id</th>\n",
       "      <th>problem_name</th>\n",
       "    </tr>\n",
       "  </thead>\n",
       "  <tbody>\n",
       "    <tr>\n",
       "      <th>0</th>\n",
       "      <td>2025-01-01 06:55:00</td>\n",
       "      <td>8246</td>\n",
       "      <td>32182</td>\n",
       "      <td>คืนงาน (กะทันหัน)</td>\n",
       "    </tr>\n",
       "    <tr>\n",
       "      <th>1</th>\n",
       "      <td>2025-01-01 11:03:00</td>\n",
       "      <td>10287</td>\n",
       "      <td>32187</td>\n",
       "      <td>คืนงาน (กะทันหัน)</td>\n",
       "    </tr>\n",
       "    <tr>\n",
       "      <th>2</th>\n",
       "      <td>2025-01-01 10:11:00</td>\n",
       "      <td>79</td>\n",
       "      <td>32189</td>\n",
       "      <td>คืนงาน (ล่วงหน้า)</td>\n",
       "    </tr>\n",
       "    <tr>\n",
       "      <th>3</th>\n",
       "      <td>2025-01-01 11:50:00</td>\n",
       "      <td>11090</td>\n",
       "      <td>32190</td>\n",
       "      <td>คืนงาน (กะทันหัน)</td>\n",
       "    </tr>\n",
       "    <tr>\n",
       "      <th>4</th>\n",
       "      <td>2025-01-01 14:45:00</td>\n",
       "      <td>7810</td>\n",
       "      <td>32191</td>\n",
       "      <td>คืนงาน (กะทันหัน)</td>\n",
       "    </tr>\n",
       "    <tr>\n",
       "      <th>...</th>\n",
       "      <td>...</td>\n",
       "      <td>...</td>\n",
       "      <td>...</td>\n",
       "      <td>...</td>\n",
       "    </tr>\n",
       "    <tr>\n",
       "      <th>1089</th>\n",
       "      <td>2025-03-31 19:21:00</td>\n",
       "      <td>11690</td>\n",
       "      <td>34543</td>\n",
       "      <td>คืนงาน (ล่วงหน้า)</td>\n",
       "    </tr>\n",
       "    <tr>\n",
       "      <th>1090</th>\n",
       "      <td>2025-03-31 19:23:00</td>\n",
       "      <td>11003</td>\n",
       "      <td>34544</td>\n",
       "      <td>คืนงาน (ล่วงหน้า)</td>\n",
       "    </tr>\n",
       "    <tr>\n",
       "      <th>1091</th>\n",
       "      <td>2025-03-31 20:26:00</td>\n",
       "      <td>5186</td>\n",
       "      <td>34545</td>\n",
       "      <td>คืนงาน (โครงการป้อนงานคุณแม่บ้าน)</td>\n",
       "    </tr>\n",
       "    <tr>\n",
       "      <th>1092</th>\n",
       "      <td>2025-03-28 16:45:00</td>\n",
       "      <td>12103</td>\n",
       "      <td>34554</td>\n",
       "      <td>คืนงาน (กะทันหัน)</td>\n",
       "    </tr>\n",
       "    <tr>\n",
       "      <th>1093</th>\n",
       "      <td>2025-03-31 17:54:00</td>\n",
       "      <td>5444</td>\n",
       "      <td>34555</td>\n",
       "      <td>คืนงาน (กะทันหัน)</td>\n",
       "    </tr>\n",
       "  </tbody>\n",
       "</table>\n",
       "<p>1094 rows × 4 columns</p>\n",
       "</div>"
      ],
      "text/plain": [
       "              report_date  professional_id  report_problem_id  \\\n",
       "0     2025-01-01 06:55:00             8246              32182   \n",
       "1     2025-01-01 11:03:00            10287              32187   \n",
       "2     2025-01-01 10:11:00               79              32189   \n",
       "3     2025-01-01 11:50:00            11090              32190   \n",
       "4     2025-01-01 14:45:00             7810              32191   \n",
       "...                   ...              ...                ...   \n",
       "1089  2025-03-31 19:21:00            11690              34543   \n",
       "1090  2025-03-31 19:23:00            11003              34544   \n",
       "1091  2025-03-31 20:26:00             5186              34545   \n",
       "1092  2025-03-28 16:45:00            12103              34554   \n",
       "1093  2025-03-31 17:54:00             5444              34555   \n",
       "\n",
       "                           problem_name  \n",
       "0                     คืนงาน (กะทันหัน)  \n",
       "1                     คืนงาน (กะทันหัน)  \n",
       "2                     คืนงาน (ล่วงหน้า)  \n",
       "3                     คืนงาน (กะทันหัน)  \n",
       "4                     คืนงาน (กะทันหัน)  \n",
       "...                                 ...  \n",
       "1089                  คืนงาน (ล่วงหน้า)  \n",
       "1090                  คืนงาน (ล่วงหน้า)  \n",
       "1091  คืนงาน (โครงการป้อนงานคุณแม่บ้าน)  \n",
       "1092                  คืนงาน (กะทันหัน)  \n",
       "1093                  คืนงาน (กะทันหัน)  \n",
       "\n",
       "[1094 rows x 4 columns]"
      ]
     },
     "execution_count": 6,
     "metadata": {},
     "output_type": "execute_result"
    }
   ],
   "source": [
    "cancel"
   ]
  },
  {
   "cell_type": "code",
   "execution_count": 7,
   "id": "15704ebb",
   "metadata": {},
   "outputs": [
    {
     "data": {
      "text/html": [
       "<div>\n",
       "<style scoped>\n",
       "    .dataframe tbody tr th:only-of-type {\n",
       "        vertical-align: middle;\n",
       "    }\n",
       "\n",
       "    .dataframe tbody tr th {\n",
       "        vertical-align: top;\n",
       "    }\n",
       "\n",
       "    .dataframe thead th {\n",
       "        text-align: right;\n",
       "    }\n",
       "</style>\n",
       "<table border=\"1\" class=\"dataframe\">\n",
       "  <thead>\n",
       "    <tr style=\"text-align: right;\">\n",
       "      <th></th>\n",
       "      <th>report_date</th>\n",
       "      <th>professional_id</th>\n",
       "      <th>report_problem_id</th>\n",
       "      <th>problem_name</th>\n",
       "    </tr>\n",
       "  </thead>\n",
       "  <tbody>\n",
       "    <tr>\n",
       "      <th>0</th>\n",
       "      <td>2025-01-02 15:59:00</td>\n",
       "      <td>9280</td>\n",
       "      <td>32218</td>\n",
       "      <td>เข้าให้บริการสาย</td>\n",
       "    </tr>\n",
       "    <tr>\n",
       "      <th>1</th>\n",
       "      <td>2025-01-11 10:30:00</td>\n",
       "      <td>10555</td>\n",
       "      <td>32434</td>\n",
       "      <td>เข้าให้บริการสาย</td>\n",
       "    </tr>\n",
       "    <tr>\n",
       "      <th>2</th>\n",
       "      <td>2025-01-13 17:22:00</td>\n",
       "      <td>11144</td>\n",
       "      <td>32504</td>\n",
       "      <td>เข้าให้บริการสาย</td>\n",
       "    </tr>\n",
       "    <tr>\n",
       "      <th>3</th>\n",
       "      <td>2025-01-17 18:30:00</td>\n",
       "      <td>11760</td>\n",
       "      <td>32598</td>\n",
       "      <td>เข้าให้บริการสาย</td>\n",
       "    </tr>\n",
       "    <tr>\n",
       "      <th>4</th>\n",
       "      <td>2025-01-18 10:21:00</td>\n",
       "      <td>11760</td>\n",
       "      <td>32606</td>\n",
       "      <td>เข้าให้บริการสาย</td>\n",
       "    </tr>\n",
       "    <tr>\n",
       "      <th>...</th>\n",
       "      <td>...</td>\n",
       "      <td>...</td>\n",
       "      <td>...</td>\n",
       "      <td>...</td>\n",
       "    </tr>\n",
       "    <tr>\n",
       "      <th>897</th>\n",
       "      <td>2025-03-10 06:30:00</td>\n",
       "      <td>12187</td>\n",
       "      <td>33923</td>\n",
       "      <td>แอร์ไม่เย็น</td>\n",
       "    </tr>\n",
       "    <tr>\n",
       "      <th>898</th>\n",
       "      <td>2025-03-10 06:37:00</td>\n",
       "      <td>12187</td>\n",
       "      <td>33931</td>\n",
       "      <td>แอร์ไม่เย็น</td>\n",
       "    </tr>\n",
       "    <tr>\n",
       "      <th>899</th>\n",
       "      <td>2025-02-24 08:06:00</td>\n",
       "      <td>11997</td>\n",
       "      <td>33516</td>\n",
       "      <td>แอร์มีเสียงดัง</td>\n",
       "    </tr>\n",
       "    <tr>\n",
       "      <th>900</th>\n",
       "      <td>2025-02-26 11:02:00</td>\n",
       "      <td>11997</td>\n",
       "      <td>33569</td>\n",
       "      <td>แอร์มีเสียงดัง</td>\n",
       "    </tr>\n",
       "    <tr>\n",
       "      <th>901</th>\n",
       "      <td>2025-03-28 10:51:00</td>\n",
       "      <td>12153</td>\n",
       "      <td>34385</td>\n",
       "      <td>แอร์มีเสียงดัง</td>\n",
       "    </tr>\n",
       "  </tbody>\n",
       "</table>\n",
       "<p>902 rows × 4 columns</p>\n",
       "</div>"
      ],
      "text/plain": [
       "             report_date  professional_id  report_problem_id      problem_name\n",
       "0    2025-01-02 15:59:00             9280              32218  เข้าให้บริการสาย\n",
       "1    2025-01-11 10:30:00            10555              32434  เข้าให้บริการสาย\n",
       "2    2025-01-13 17:22:00            11144              32504  เข้าให้บริการสาย\n",
       "3    2025-01-17 18:30:00            11760              32598  เข้าให้บริการสาย\n",
       "4    2025-01-18 10:21:00            11760              32606  เข้าให้บริการสาย\n",
       "..                   ...              ...                ...               ...\n",
       "897  2025-03-10 06:30:00            12187              33923      แอร์ไม่เย็น \n",
       "898  2025-03-10 06:37:00            12187              33931      แอร์ไม่เย็น \n",
       "899  2025-02-24 08:06:00            11997              33516   แอร์มีเสียงดัง \n",
       "900  2025-02-26 11:02:00            11997              33569   แอร์มีเสียงดัง \n",
       "901  2025-03-28 10:51:00            12153              34385   แอร์มีเสียงดัง \n",
       "\n",
       "[902 rows x 4 columns]"
      ]
     },
     "execution_count": 7,
     "metadata": {},
     "output_type": "execute_result"
    }
   ],
   "source": [
    "quality"
   ]
  },
  {
   "cell_type": "code",
   "execution_count": 8,
   "id": "45c8e563",
   "metadata": {},
   "outputs": [
    {
     "data": {
      "text/html": [
       "<div>\n",
       "<style scoped>\n",
       "    .dataframe tbody tr th:only-of-type {\n",
       "        vertical-align: middle;\n",
       "    }\n",
       "\n",
       "    .dataframe tbody tr th {\n",
       "        vertical-align: top;\n",
       "    }\n",
       "\n",
       "    .dataframe thead th {\n",
       "        text-align: right;\n",
       "    }\n",
       "</style>\n",
       "<table border=\"1\" class=\"dataframe\">\n",
       "  <thead>\n",
       "    <tr style=\"text-align: right;\">\n",
       "      <th></th>\n",
       "      <th>booking_id</th>\n",
       "      <th>professional_id</th>\n",
       "      <th>rating</th>\n",
       "      <th>review_date</th>\n",
       "    </tr>\n",
       "  </thead>\n",
       "  <tbody>\n",
       "    <tr>\n",
       "      <th>0</th>\n",
       "      <td>42</td>\n",
       "      <td>7</td>\n",
       "      <td>5.0</td>\n",
       "      <td>2016-04-14 21:30:08</td>\n",
       "    </tr>\n",
       "    <tr>\n",
       "      <th>1</th>\n",
       "      <td>39</td>\n",
       "      <td>7</td>\n",
       "      <td>5.0</td>\n",
       "      <td>2016-04-16 21:07:52</td>\n",
       "    </tr>\n",
       "    <tr>\n",
       "      <th>2</th>\n",
       "      <td>53</td>\n",
       "      <td>6</td>\n",
       "      <td>4.5</td>\n",
       "      <td>2016-04-17 14:00:00</td>\n",
       "    </tr>\n",
       "    <tr>\n",
       "      <th>3</th>\n",
       "      <td>40</td>\n",
       "      <td>7</td>\n",
       "      <td>5.0</td>\n",
       "      <td>2016-04-18 21:26:28</td>\n",
       "    </tr>\n",
       "    <tr>\n",
       "      <th>4</th>\n",
       "      <td>73</td>\n",
       "      <td>7</td>\n",
       "      <td>5.0</td>\n",
       "      <td>2016-04-20 15:13:19</td>\n",
       "    </tr>\n",
       "    <tr>\n",
       "      <th>...</th>\n",
       "      <td>...</td>\n",
       "      <td>...</td>\n",
       "      <td>...</td>\n",
       "      <td>...</td>\n",
       "    </tr>\n",
       "    <tr>\n",
       "      <th>296684</th>\n",
       "      <td>2504298PD1</td>\n",
       "      <td>10953</td>\n",
       "      <td>5.0</td>\n",
       "      <td>2025-04-29 16:12:19</td>\n",
       "    </tr>\n",
       "    <tr>\n",
       "      <th>296685</th>\n",
       "      <td>2504273879</td>\n",
       "      <td>12617</td>\n",
       "      <td>4.0</td>\n",
       "      <td>2025-04-29 16:13:26</td>\n",
       "    </tr>\n",
       "    <tr>\n",
       "      <th>296686</th>\n",
       "      <td>250425CRYX</td>\n",
       "      <td>12071</td>\n",
       "      <td>5.0</td>\n",
       "      <td>2025-04-29 16:18:59</td>\n",
       "    </tr>\n",
       "    <tr>\n",
       "      <th>296687</th>\n",
       "      <td>250427ZXX8</td>\n",
       "      <td>1256</td>\n",
       "      <td>5.0</td>\n",
       "      <td>2025-04-29 16:23:47</td>\n",
       "    </tr>\n",
       "    <tr>\n",
       "      <th>296688</th>\n",
       "      <td>250427G242</td>\n",
       "      <td>12125</td>\n",
       "      <td>5.0</td>\n",
       "      <td>2025-04-29 16:24:59</td>\n",
       "    </tr>\n",
       "  </tbody>\n",
       "</table>\n",
       "<p>296689 rows × 4 columns</p>\n",
       "</div>"
      ],
      "text/plain": [
       "        booking_id  professional_id  rating          review_date\n",
       "0               42                7     5.0  2016-04-14 21:30:08\n",
       "1               39                7     5.0  2016-04-16 21:07:52\n",
       "2               53                6     4.5  2016-04-17 14:00:00\n",
       "3               40                7     5.0  2016-04-18 21:26:28\n",
       "4               73                7     5.0  2016-04-20 15:13:19\n",
       "...            ...              ...     ...                  ...\n",
       "296684  2504298PD1            10953     5.0  2025-04-29 16:12:19\n",
       "296685  2504273879            12617     4.0  2025-04-29 16:13:26\n",
       "296686  250425CRYX            12071     5.0  2025-04-29 16:18:59\n",
       "296687  250427ZXX8             1256     5.0  2025-04-29 16:23:47\n",
       "296688  250427G242            12125     5.0  2025-04-29 16:24:59\n",
       "\n",
       "[296689 rows x 4 columns]"
      ]
     },
     "execution_count": 8,
     "metadata": {},
     "output_type": "execute_result"
    }
   ],
   "source": [
    "rating"
   ]
  },
  {
   "cell_type": "markdown",
   "id": "dab5b7ba",
   "metadata": {},
   "source": [
    "**Check Missing Data**"
   ]
  },
  {
   "cell_type": "code",
   "execution_count": 9,
   "id": "bc2f9135",
   "metadata": {},
   "outputs": [
    {
     "data": {
      "text/plain": [
       "booking_id         0\n",
       "professional_id    0\n",
       "cleaning_date      0\n",
       "total_hour         0\n",
       "dtype: int64"
      ]
     },
     "execution_count": 9,
     "metadata": {},
     "output_type": "execute_result"
    }
   ],
   "source": [
    "order.isnull().sum()"
   ]
  },
  {
   "cell_type": "code",
   "execution_count": 10,
   "id": "9b371212",
   "metadata": {},
   "outputs": [
    {
     "data": {
      "text/plain": [
       "report_date          0\n",
       "professional_id      0\n",
       "report_problem_id    0\n",
       "problem_name         0\n",
       "dtype: int64"
      ]
     },
     "execution_count": 10,
     "metadata": {},
     "output_type": "execute_result"
    }
   ],
   "source": [
    "cancel.isnull().sum()"
   ]
  },
  {
   "cell_type": "code",
   "execution_count": 11,
   "id": "8447214e",
   "metadata": {},
   "outputs": [
    {
     "data": {
      "text/plain": [
       "report_date          0\n",
       "professional_id      0\n",
       "report_problem_id    0\n",
       "problem_name         0\n",
       "dtype: int64"
      ]
     },
     "execution_count": 11,
     "metadata": {},
     "output_type": "execute_result"
    }
   ],
   "source": [
    "quality.isnull().sum()"
   ]
  },
  {
   "cell_type": "code",
   "execution_count": 12,
   "id": "b73190ab",
   "metadata": {},
   "outputs": [
    {
     "data": {
      "text/plain": [
       "booking_id         29\n",
       "professional_id     0\n",
       "rating              0\n",
       "review_date         0\n",
       "dtype: int64"
      ]
     },
     "execution_count": 12,
     "metadata": {},
     "output_type": "execute_result"
    }
   ],
   "source": [
    "rating.isnull().sum()"
   ]
  },
  {
   "cell_type": "markdown",
   "id": "8be36dfc",
   "metadata": {},
   "source": [
    "<div class=\"alert alert-block alert-warning\">\n",
    "\n",
    "Found 29 missing values in **rating** field **booking_id**\n",
    "\n",
    "**We will deal with this problem later!**\n",
    "</div>"
   ]
  },
  {
   "cell_type": "code",
   "execution_count": 13,
   "id": "89edb07e",
   "metadata": {},
   "outputs": [
    {
     "data": {
      "text/html": [
       "<div>\n",
       "<style scoped>\n",
       "    .dataframe tbody tr th:only-of-type {\n",
       "        vertical-align: middle;\n",
       "    }\n",
       "\n",
       "    .dataframe tbody tr th {\n",
       "        vertical-align: top;\n",
       "    }\n",
       "\n",
       "    .dataframe thead th {\n",
       "        text-align: right;\n",
       "    }\n",
       "</style>\n",
       "<table border=\"1\" class=\"dataframe\">\n",
       "  <thead>\n",
       "    <tr style=\"text-align: right;\">\n",
       "      <th></th>\n",
       "      <th>booking_id</th>\n",
       "      <th>professional_id</th>\n",
       "      <th>rating</th>\n",
       "      <th>review_date</th>\n",
       "    </tr>\n",
       "  </thead>\n",
       "  <tbody>\n",
       "    <tr>\n",
       "      <th>42</th>\n",
       "      <td>NaN</td>\n",
       "      <td>7</td>\n",
       "      <td>5.0</td>\n",
       "      <td>2016-05-19 07:42:53</td>\n",
       "    </tr>\n",
       "    <tr>\n",
       "      <th>3684</th>\n",
       "      <td>NaN</td>\n",
       "      <td>46</td>\n",
       "      <td>5.0</td>\n",
       "      <td>2017-08-22 22:06:36</td>\n",
       "    </tr>\n",
       "    <tr>\n",
       "      <th>10855</th>\n",
       "      <td>NaN</td>\n",
       "      <td>395</td>\n",
       "      <td>1.0</td>\n",
       "      <td>2018-06-16 19:00:15</td>\n",
       "    </tr>\n",
       "    <tr>\n",
       "      <th>10991</th>\n",
       "      <td>NaN</td>\n",
       "      <td>162</td>\n",
       "      <td>5.0</td>\n",
       "      <td>2018-06-22 07:20:57</td>\n",
       "    </tr>\n",
       "    <tr>\n",
       "      <th>11852</th>\n",
       "      <td>NaN</td>\n",
       "      <td>202</td>\n",
       "      <td>4.0</td>\n",
       "      <td>2018-07-20 13:17:48</td>\n",
       "    </tr>\n",
       "    <tr>\n",
       "      <th>14322</th>\n",
       "      <td>NaN</td>\n",
       "      <td>65</td>\n",
       "      <td>1.0</td>\n",
       "      <td>2018-10-01 11:42:23</td>\n",
       "    </tr>\n",
       "    <tr>\n",
       "      <th>16617</th>\n",
       "      <td>NaN</td>\n",
       "      <td>549</td>\n",
       "      <td>5.0</td>\n",
       "      <td>2018-12-01 14:47:29</td>\n",
       "    </tr>\n",
       "    <tr>\n",
       "      <th>18566</th>\n",
       "      <td>NaN</td>\n",
       "      <td>538</td>\n",
       "      <td>5.0</td>\n",
       "      <td>2019-02-09 10:00:26</td>\n",
       "    </tr>\n",
       "    <tr>\n",
       "      <th>18660</th>\n",
       "      <td>NaN</td>\n",
       "      <td>0</td>\n",
       "      <td>5.0</td>\n",
       "      <td>2019-02-11 22:33:56</td>\n",
       "    </tr>\n",
       "    <tr>\n",
       "      <th>34469</th>\n",
       "      <td>NaN</td>\n",
       "      <td>1089</td>\n",
       "      <td>5.0</td>\n",
       "      <td>2019-11-12 18:21:48</td>\n",
       "    </tr>\n",
       "    <tr>\n",
       "      <th>34474</th>\n",
       "      <td>NaN</td>\n",
       "      <td>1386</td>\n",
       "      <td>5.0</td>\n",
       "      <td>2019-11-12 20:18:00</td>\n",
       "    </tr>\n",
       "    <tr>\n",
       "      <th>34490</th>\n",
       "      <td>NaN</td>\n",
       "      <td>1641</td>\n",
       "      <td>5.0</td>\n",
       "      <td>2019-11-13 10:30:24</td>\n",
       "    </tr>\n",
       "    <tr>\n",
       "      <th>34504</th>\n",
       "      <td>NaN</td>\n",
       "      <td>1024</td>\n",
       "      <td>5.0</td>\n",
       "      <td>2019-11-13 16:50:32</td>\n",
       "    </tr>\n",
       "    <tr>\n",
       "      <th>34508</th>\n",
       "      <td>NaN</td>\n",
       "      <td>614</td>\n",
       "      <td>5.0</td>\n",
       "      <td>2019-11-13 17:34:14</td>\n",
       "    </tr>\n",
       "    <tr>\n",
       "      <th>37735</th>\n",
       "      <td>NaN</td>\n",
       "      <td>1440</td>\n",
       "      <td>5.0</td>\n",
       "      <td>2019-12-24 20:54:20</td>\n",
       "    </tr>\n",
       "    <tr>\n",
       "      <th>41883</th>\n",
       "      <td>NaN</td>\n",
       "      <td>1956</td>\n",
       "      <td>5.0</td>\n",
       "      <td>2020-02-11 14:28:39</td>\n",
       "    </tr>\n",
       "    <tr>\n",
       "      <th>43549</th>\n",
       "      <td>NaN</td>\n",
       "      <td>1783</td>\n",
       "      <td>5.0</td>\n",
       "      <td>2020-03-02 10:45:13</td>\n",
       "    </tr>\n",
       "    <tr>\n",
       "      <th>53868</th>\n",
       "      <td>NaN</td>\n",
       "      <td>0</td>\n",
       "      <td>5.0</td>\n",
       "      <td>2020-07-29 13:18:38</td>\n",
       "    </tr>\n",
       "    <tr>\n",
       "      <th>55388</th>\n",
       "      <td>NaN</td>\n",
       "      <td>300</td>\n",
       "      <td>5.0</td>\n",
       "      <td>2020-08-16 15:39:05</td>\n",
       "    </tr>\n",
       "    <tr>\n",
       "      <th>56103</th>\n",
       "      <td>NaN</td>\n",
       "      <td>526</td>\n",
       "      <td>4.0</td>\n",
       "      <td>2020-08-24 18:24:07</td>\n",
       "    </tr>\n",
       "    <tr>\n",
       "      <th>67198</th>\n",
       "      <td>NaN</td>\n",
       "      <td>3286</td>\n",
       "      <td>5.0</td>\n",
       "      <td>2020-12-31 16:49:27</td>\n",
       "    </tr>\n",
       "    <tr>\n",
       "      <th>76982</th>\n",
       "      <td>NaN</td>\n",
       "      <td>300</td>\n",
       "      <td>5.0</td>\n",
       "      <td>2021-04-09 19:26:47</td>\n",
       "    </tr>\n",
       "    <tr>\n",
       "      <th>81591</th>\n",
       "      <td>NaN</td>\n",
       "      <td>2989</td>\n",
       "      <td>5.0</td>\n",
       "      <td>2021-06-03 16:33:16</td>\n",
       "    </tr>\n",
       "    <tr>\n",
       "      <th>98691</th>\n",
       "      <td>NaN</td>\n",
       "      <td>0</td>\n",
       "      <td>5.0</td>\n",
       "      <td>2021-12-16 12:24:26</td>\n",
       "    </tr>\n",
       "    <tr>\n",
       "      <th>98813</th>\n",
       "      <td>NaN</td>\n",
       "      <td>1233</td>\n",
       "      <td>5.0</td>\n",
       "      <td>2021-12-17 14:02:08</td>\n",
       "    </tr>\n",
       "    <tr>\n",
       "      <th>99827</th>\n",
       "      <td>NaN</td>\n",
       "      <td>1233</td>\n",
       "      <td>5.0</td>\n",
       "      <td>2021-12-25 19:02:05</td>\n",
       "    </tr>\n",
       "    <tr>\n",
       "      <th>140343</th>\n",
       "      <td>NaN</td>\n",
       "      <td>4</td>\n",
       "      <td>4.7</td>\n",
       "      <td>2022-10-15 10:00:00</td>\n",
       "    </tr>\n",
       "    <tr>\n",
       "      <th>205312</th>\n",
       "      <td>NaN</td>\n",
       "      <td>8808</td>\n",
       "      <td>5.0</td>\n",
       "      <td>2023-11-11 09:48:13</td>\n",
       "    </tr>\n",
       "    <tr>\n",
       "      <th>260306</th>\n",
       "      <td>NaN</td>\n",
       "      <td>6</td>\n",
       "      <td>5.0</td>\n",
       "      <td>2024-10-18 16:08:52</td>\n",
       "    </tr>\n",
       "  </tbody>\n",
       "</table>\n",
       "</div>"
      ],
      "text/plain": [
       "       booking_id  professional_id  rating          review_date\n",
       "42            NaN                7     5.0  2016-05-19 07:42:53\n",
       "3684          NaN               46     5.0  2017-08-22 22:06:36\n",
       "10855         NaN              395     1.0  2018-06-16 19:00:15\n",
       "10991         NaN              162     5.0  2018-06-22 07:20:57\n",
       "11852         NaN              202     4.0  2018-07-20 13:17:48\n",
       "14322         NaN               65     1.0  2018-10-01 11:42:23\n",
       "16617         NaN              549     5.0  2018-12-01 14:47:29\n",
       "18566         NaN              538     5.0  2019-02-09 10:00:26\n",
       "18660         NaN                0     5.0  2019-02-11 22:33:56\n",
       "34469         NaN             1089     5.0  2019-11-12 18:21:48\n",
       "34474         NaN             1386     5.0  2019-11-12 20:18:00\n",
       "34490         NaN             1641     5.0  2019-11-13 10:30:24\n",
       "34504         NaN             1024     5.0  2019-11-13 16:50:32\n",
       "34508         NaN              614     5.0  2019-11-13 17:34:14\n",
       "37735         NaN             1440     5.0  2019-12-24 20:54:20\n",
       "41883         NaN             1956     5.0  2020-02-11 14:28:39\n",
       "43549         NaN             1783     5.0  2020-03-02 10:45:13\n",
       "53868         NaN                0     5.0  2020-07-29 13:18:38\n",
       "55388         NaN              300     5.0  2020-08-16 15:39:05\n",
       "56103         NaN              526     4.0  2020-08-24 18:24:07\n",
       "67198         NaN             3286     5.0  2020-12-31 16:49:27\n",
       "76982         NaN              300     5.0  2021-04-09 19:26:47\n",
       "81591         NaN             2989     5.0  2021-06-03 16:33:16\n",
       "98691         NaN                0     5.0  2021-12-16 12:24:26\n",
       "98813         NaN             1233     5.0  2021-12-17 14:02:08\n",
       "99827         NaN             1233     5.0  2021-12-25 19:02:05\n",
       "140343        NaN                4     4.7  2022-10-15 10:00:00\n",
       "205312        NaN             8808     5.0  2023-11-11 09:48:13\n",
       "260306        NaN                6     5.0  2024-10-18 16:08:52"
      ]
     },
     "execution_count": 13,
     "metadata": {},
     "output_type": "execute_result"
    }
   ],
   "source": [
    "rating[rating[\"booking_id\"].isnull()]"
   ]
  },
  {
   "cell_type": "markdown",
   "id": "28182607",
   "metadata": {},
   "source": [
    "**Check Data Type**"
   ]
  },
  {
   "cell_type": "code",
   "execution_count": 14,
   "id": "ca3389da",
   "metadata": {},
   "outputs": [
    {
     "name": "stdout",
     "output_type": "stream",
     "text": [
      "<class 'pandas.core.frame.DataFrame'>\n",
      "RangeIndex: 1091454 entries, 0 to 1091453\n",
      "Data columns (total 4 columns):\n",
      " #   Column           Non-Null Count    Dtype  \n",
      "---  ------           --------------    -----  \n",
      " 0   booking_id       1091454 non-null  object \n",
      " 1   professional_id  1091454 non-null  int64  \n",
      " 2   cleaning_date    1091454 non-null  object \n",
      " 3   total_hour       1091454 non-null  float64\n",
      "dtypes: float64(1), int64(1), object(2)\n",
      "memory usage: 33.3+ MB\n",
      "None\n",
      "-------------------------------------\n",
      "<class 'pandas.core.frame.DataFrame'>\n",
      "RangeIndex: 1094 entries, 0 to 1093\n",
      "Data columns (total 4 columns):\n",
      " #   Column             Non-Null Count  Dtype \n",
      "---  ------             --------------  ----- \n",
      " 0   report_date        1094 non-null   object\n",
      " 1   professional_id    1094 non-null   int64 \n",
      " 2   report_problem_id  1094 non-null   int64 \n",
      " 3   problem_name       1094 non-null   object\n",
      "dtypes: int64(2), object(2)\n",
      "memory usage: 34.3+ KB\n",
      "None\n",
      "-------------------------------------\n",
      "<class 'pandas.core.frame.DataFrame'>\n",
      "RangeIndex: 902 entries, 0 to 901\n",
      "Data columns (total 4 columns):\n",
      " #   Column             Non-Null Count  Dtype \n",
      "---  ------             --------------  ----- \n",
      " 0   report_date        902 non-null    object\n",
      " 1   professional_id    902 non-null    int64 \n",
      " 2   report_problem_id  902 non-null    int64 \n",
      " 3   problem_name       902 non-null    object\n",
      "dtypes: int64(2), object(2)\n",
      "memory usage: 28.3+ KB\n",
      "None\n",
      "-------------------------------------\n",
      "<class 'pandas.core.frame.DataFrame'>\n",
      "RangeIndex: 296689 entries, 0 to 296688\n",
      "Data columns (total 4 columns):\n",
      " #   Column           Non-Null Count   Dtype  \n",
      "---  ------           --------------   -----  \n",
      " 0   booking_id       296660 non-null  object \n",
      " 1   professional_id  296689 non-null  int64  \n",
      " 2   rating           296689 non-null  float64\n",
      " 3   review_date      296689 non-null  object \n",
      "dtypes: float64(1), int64(1), object(2)\n",
      "memory usage: 9.1+ MB\n",
      "None\n"
     ]
    }
   ],
   "source": [
    "print(order.info())\n",
    "print(\"-------------------------------------\")\n",
    "print(cancel.info())\n",
    "print(\"-------------------------------------\")\n",
    "print(quality.info())\n",
    "print(\"-------------------------------------\")\n",
    "print(rating.info())"
   ]
  },
  {
   "cell_type": "markdown",
   "id": "3c755998",
   "metadata": {},
   "source": [
    "### **Main Tasks** \n",
    "Get Data from profession_id with work hour more than or equal to 80 hours up from the last 3 months (January - March 2025) to filter the following tasks:\n",
    "<ol>\n",
    "    <li>Task: professional_id</li>\n",
    "    <li>Task: Work Hour on January / February / March</li>\n",
    "    <li>Task: Rating/Review Score from the last 3 months</li>\n",
    "    <li>Task: Service Quality Problem from the last 3 month</li>\n",
    "    <li>Task: Cancel Problem from the last 3 months</li>\n",
    "</ol>\n",
    "\n",
    "<div class=\"alert alert-block alert-info\">\n",
    "\n",
    "**Tools/Techniques:** Use Pandas **GroupBy** and **Pivot Table** functions for these Tasks\n",
    "\n",
    "</div>"
   ]
  },
  {
   "cell_type": "markdown",
   "id": "1ecc6780",
   "metadata": {},
   "source": [
    "#### **1st Task:** Order Data\n",
    "Filter professional_id with work hour more than or equal to 80 hours up from the last 3 months\n",
    "\n"
   ]
  },
  {
   "cell_type": "code",
   "execution_count": 15,
   "id": "a90b4bdb",
   "metadata": {},
   "outputs": [
    {
     "data": {
      "text/html": [
       "<div>\n",
       "<style scoped>\n",
       "    .dataframe tbody tr th:only-of-type {\n",
       "        vertical-align: middle;\n",
       "    }\n",
       "\n",
       "    .dataframe tbody tr th {\n",
       "        vertical-align: top;\n",
       "    }\n",
       "\n",
       "    .dataframe thead th {\n",
       "        text-align: right;\n",
       "    }\n",
       "</style>\n",
       "<table border=\"1\" class=\"dataframe\">\n",
       "  <thead>\n",
       "    <tr style=\"text-align: right;\">\n",
       "      <th></th>\n",
       "      <th>booking_id</th>\n",
       "      <th>professional_id</th>\n",
       "      <th>cleaning_date</th>\n",
       "      <th>total_hour</th>\n",
       "    </tr>\n",
       "  </thead>\n",
       "  <tbody>\n",
       "    <tr>\n",
       "      <th>0</th>\n",
       "      <td>23</td>\n",
       "      <td>8</td>\n",
       "      <td>2016-03-26 13:00:00</td>\n",
       "      <td>2.0</td>\n",
       "    </tr>\n",
       "    <tr>\n",
       "      <th>1</th>\n",
       "      <td>24</td>\n",
       "      <td>5</td>\n",
       "      <td>2016-03-28 13:00:00</td>\n",
       "      <td>2.5</td>\n",
       "    </tr>\n",
       "    <tr>\n",
       "      <th>2</th>\n",
       "      <td>25</td>\n",
       "      <td>7</td>\n",
       "      <td>2016-03-31 17:00:00</td>\n",
       "      <td>2.5</td>\n",
       "    </tr>\n",
       "    <tr>\n",
       "      <th>3</th>\n",
       "      <td>26</td>\n",
       "      <td>7</td>\n",
       "      <td>2016-03-31 13:00:00</td>\n",
       "      <td>2.0</td>\n",
       "    </tr>\n",
       "    <tr>\n",
       "      <th>4</th>\n",
       "      <td>27</td>\n",
       "      <td>8</td>\n",
       "      <td>2016-04-01 13:00:00</td>\n",
       "      <td>2.5</td>\n",
       "    </tr>\n",
       "    <tr>\n",
       "      <th>...</th>\n",
       "      <td>...</td>\n",
       "      <td>...</td>\n",
       "      <td>...</td>\n",
       "      <td>...</td>\n",
       "    </tr>\n",
       "    <tr>\n",
       "      <th>1091449</th>\n",
       "      <td>2503311FRG</td>\n",
       "      <td>12498</td>\n",
       "      <td>2025-03-31 18:00:00</td>\n",
       "      <td>2.0</td>\n",
       "    </tr>\n",
       "    <tr>\n",
       "      <th>1091450</th>\n",
       "      <td>250331TMP0FDP</td>\n",
       "      <td>12086</td>\n",
       "      <td>2025-03-31 15:00:00</td>\n",
       "      <td>2.0</td>\n",
       "    </tr>\n",
       "    <tr>\n",
       "      <th>1091451</th>\n",
       "      <td>250331XWU9</td>\n",
       "      <td>11275</td>\n",
       "      <td>2025-03-31 15:00:00</td>\n",
       "      <td>4.0</td>\n",
       "    </tr>\n",
       "    <tr>\n",
       "      <th>1091452</th>\n",
       "      <td>250331TMPWPER</td>\n",
       "      <td>10019</td>\n",
       "      <td>2025-03-31 16:00:00</td>\n",
       "      <td>4.0</td>\n",
       "    </tr>\n",
       "    <tr>\n",
       "      <th>1091453</th>\n",
       "      <td>250331TMPJC83</td>\n",
       "      <td>9834</td>\n",
       "      <td>2025-03-31 18:00:00</td>\n",
       "      <td>2.0</td>\n",
       "    </tr>\n",
       "  </tbody>\n",
       "</table>\n",
       "<p>1091454 rows × 4 columns</p>\n",
       "</div>"
      ],
      "text/plain": [
       "            booking_id  professional_id        cleaning_date  total_hour\n",
       "0                   23                8  2016-03-26 13:00:00         2.0\n",
       "1                   24                5  2016-03-28 13:00:00         2.5\n",
       "2                   25                7  2016-03-31 17:00:00         2.5\n",
       "3                   26                7  2016-03-31 13:00:00         2.0\n",
       "4                   27                8  2016-04-01 13:00:00         2.5\n",
       "...                ...              ...                  ...         ...\n",
       "1091449     2503311FRG            12498  2025-03-31 18:00:00         2.0\n",
       "1091450  250331TMP0FDP            12086  2025-03-31 15:00:00         2.0\n",
       "1091451     250331XWU9            11275  2025-03-31 15:00:00         4.0\n",
       "1091452  250331TMPWPER            10019  2025-03-31 16:00:00         4.0\n",
       "1091453  250331TMPJC83             9834  2025-03-31 18:00:00         2.0\n",
       "\n",
       "[1091454 rows x 4 columns]"
      ]
     },
     "execution_count": 15,
     "metadata": {},
     "output_type": "execute_result"
    }
   ],
   "source": [
    "order"
   ]
  },
  {
   "cell_type": "markdown",
   "id": "3ff42602",
   "metadata": {},
   "source": [
    "##### **Filter:** Order Data by Month"
   ]
  },
  {
   "cell_type": "code",
   "execution_count": 16,
   "id": "cf2cd65a",
   "metadata": {},
   "outputs": [
    {
     "data": {
      "text/html": [
       "<div>\n",
       "<style scoped>\n",
       "    .dataframe tbody tr th:only-of-type {\n",
       "        vertical-align: middle;\n",
       "    }\n",
       "\n",
       "    .dataframe tbody tr th {\n",
       "        vertical-align: top;\n",
       "    }\n",
       "\n",
       "    .dataframe thead th {\n",
       "        text-align: right;\n",
       "    }\n",
       "</style>\n",
       "<table border=\"1\" class=\"dataframe\">\n",
       "  <thead>\n",
       "    <tr style=\"text-align: right;\">\n",
       "      <th></th>\n",
       "      <th>booking_id</th>\n",
       "      <th>professional_id</th>\n",
       "      <th>cleaning_date</th>\n",
       "      <th>total_hour</th>\n",
       "      <th>date</th>\n",
       "      <th>time</th>\n",
       "      <th>cleaning_month</th>\n",
       "    </tr>\n",
       "  </thead>\n",
       "  <tbody>\n",
       "    <tr>\n",
       "      <th>0</th>\n",
       "      <td>23</td>\n",
       "      <td>8</td>\n",
       "      <td>2016-03-26 13:00:00</td>\n",
       "      <td>2.0</td>\n",
       "      <td>2016-03-26</td>\n",
       "      <td>13:00:00</td>\n",
       "      <td>2016-03</td>\n",
       "    </tr>\n",
       "    <tr>\n",
       "      <th>1</th>\n",
       "      <td>24</td>\n",
       "      <td>5</td>\n",
       "      <td>2016-03-28 13:00:00</td>\n",
       "      <td>2.5</td>\n",
       "      <td>2016-03-28</td>\n",
       "      <td>13:00:00</td>\n",
       "      <td>2016-03</td>\n",
       "    </tr>\n",
       "    <tr>\n",
       "      <th>2</th>\n",
       "      <td>25</td>\n",
       "      <td>7</td>\n",
       "      <td>2016-03-31 17:00:00</td>\n",
       "      <td>2.5</td>\n",
       "      <td>2016-03-31</td>\n",
       "      <td>17:00:00</td>\n",
       "      <td>2016-03</td>\n",
       "    </tr>\n",
       "    <tr>\n",
       "      <th>3</th>\n",
       "      <td>26</td>\n",
       "      <td>7</td>\n",
       "      <td>2016-03-31 13:00:00</td>\n",
       "      <td>2.0</td>\n",
       "      <td>2016-03-31</td>\n",
       "      <td>13:00:00</td>\n",
       "      <td>2016-03</td>\n",
       "    </tr>\n",
       "    <tr>\n",
       "      <th>4</th>\n",
       "      <td>27</td>\n",
       "      <td>8</td>\n",
       "      <td>2016-04-01 13:00:00</td>\n",
       "      <td>2.5</td>\n",
       "      <td>2016-04-01</td>\n",
       "      <td>13:00:00</td>\n",
       "      <td>2016-04</td>\n",
       "    </tr>\n",
       "  </tbody>\n",
       "</table>\n",
       "</div>"
      ],
      "text/plain": [
       "  booking_id  professional_id        cleaning_date  total_hour        date  \\\n",
       "0         23                8  2016-03-26 13:00:00         2.0  2016-03-26   \n",
       "1         24                5  2016-03-28 13:00:00         2.5  2016-03-28   \n",
       "2         25                7  2016-03-31 17:00:00         2.5  2016-03-31   \n",
       "3         26                7  2016-03-31 13:00:00         2.0  2016-03-31   \n",
       "4         27                8  2016-04-01 13:00:00         2.5  2016-04-01   \n",
       "\n",
       "       time cleaning_month  \n",
       "0  13:00:00        2016-03  \n",
       "1  13:00:00        2016-03  \n",
       "2  17:00:00        2016-03  \n",
       "3  13:00:00        2016-03  \n",
       "4  13:00:00        2016-04  "
      ]
     },
     "execution_count": 16,
     "metadata": {},
     "output_type": "execute_result"
    }
   ],
   "source": [
    "# Filter 2025-01-01 - 2025-03-31\n",
    "order[[\"date\", \"time\"]] = order[\"cleaning_date\"].str.split(\" \", expand=True)\n",
    "order[\"cleaning_month\"] = order[\"date\"].str.slice(stop = 7)\n",
    "order.head()"
   ]
  },
  {
   "cell_type": "code",
   "execution_count": 17,
   "id": "311d0b98",
   "metadata": {},
   "outputs": [
    {
     "data": {
      "text/html": [
       "<div>\n",
       "<style scoped>\n",
       "    .dataframe tbody tr th:only-of-type {\n",
       "        vertical-align: middle;\n",
       "    }\n",
       "\n",
       "    .dataframe tbody tr th {\n",
       "        vertical-align: top;\n",
       "    }\n",
       "\n",
       "    .dataframe thead th {\n",
       "        text-align: right;\n",
       "    }\n",
       "</style>\n",
       "<table border=\"1\" class=\"dataframe\">\n",
       "  <thead>\n",
       "    <tr style=\"text-align: right;\">\n",
       "      <th></th>\n",
       "      <th>booking_id</th>\n",
       "      <th>professional_id</th>\n",
       "      <th>cleaning_date</th>\n",
       "      <th>total_hour</th>\n",
       "      <th>date</th>\n",
       "      <th>time</th>\n",
       "      <th>cleaning_month</th>\n",
       "    </tr>\n",
       "  </thead>\n",
       "  <tbody>\n",
       "    <tr>\n",
       "      <th>36919</th>\n",
       "      <td>44397</td>\n",
       "      <td>7873</td>\n",
       "      <td>2025-01-04 11:00:00</td>\n",
       "      <td>6.0</td>\n",
       "      <td>2025-01-04</td>\n",
       "      <td>11:00:00</td>\n",
       "      <td>2025-01</td>\n",
       "    </tr>\n",
       "    <tr>\n",
       "      <th>45830</th>\n",
       "      <td>62349</td>\n",
       "      <td>10890</td>\n",
       "      <td>2025-03-03 17:00:00</td>\n",
       "      <td>2.0</td>\n",
       "      <td>2025-03-03</td>\n",
       "      <td>17:00:00</td>\n",
       "      <td>2025-03</td>\n",
       "    </tr>\n",
       "    <tr>\n",
       "      <th>65533</th>\n",
       "      <td>84447</td>\n",
       "      <td>8409</td>\n",
       "      <td>2025-01-19 09:00:00</td>\n",
       "      <td>6.0</td>\n",
       "      <td>2025-01-19</td>\n",
       "      <td>09:00:00</td>\n",
       "      <td>2025-01</td>\n",
       "    </tr>\n",
       "    <tr>\n",
       "      <th>98458</th>\n",
       "      <td>121641</td>\n",
       "      <td>7935</td>\n",
       "      <td>2025-03-23 14:00:00</td>\n",
       "      <td>3.0</td>\n",
       "      <td>2025-03-23</td>\n",
       "      <td>14:00:00</td>\n",
       "      <td>2025-03</td>\n",
       "    </tr>\n",
       "    <tr>\n",
       "      <th>140820</th>\n",
       "      <td>169608</td>\n",
       "      <td>12180</td>\n",
       "      <td>2025-03-29 10:00:00</td>\n",
       "      <td>6.0</td>\n",
       "      <td>2025-03-29</td>\n",
       "      <td>10:00:00</td>\n",
       "      <td>2025-03</td>\n",
       "    </tr>\n",
       "    <tr>\n",
       "      <th>...</th>\n",
       "      <td>...</td>\n",
       "      <td>...</td>\n",
       "      <td>...</td>\n",
       "      <td>...</td>\n",
       "      <td>...</td>\n",
       "      <td>...</td>\n",
       "      <td>...</td>\n",
       "    </tr>\n",
       "    <tr>\n",
       "      <th>1091449</th>\n",
       "      <td>2503311FRG</td>\n",
       "      <td>12498</td>\n",
       "      <td>2025-03-31 18:00:00</td>\n",
       "      <td>2.0</td>\n",
       "      <td>2025-03-31</td>\n",
       "      <td>18:00:00</td>\n",
       "      <td>2025-03</td>\n",
       "    </tr>\n",
       "    <tr>\n",
       "      <th>1091450</th>\n",
       "      <td>250331TMP0FDP</td>\n",
       "      <td>12086</td>\n",
       "      <td>2025-03-31 15:00:00</td>\n",
       "      <td>2.0</td>\n",
       "      <td>2025-03-31</td>\n",
       "      <td>15:00:00</td>\n",
       "      <td>2025-03</td>\n",
       "    </tr>\n",
       "    <tr>\n",
       "      <th>1091451</th>\n",
       "      <td>250331XWU9</td>\n",
       "      <td>11275</td>\n",
       "      <td>2025-03-31 15:00:00</td>\n",
       "      <td>4.0</td>\n",
       "      <td>2025-03-31</td>\n",
       "      <td>15:00:00</td>\n",
       "      <td>2025-03</td>\n",
       "    </tr>\n",
       "    <tr>\n",
       "      <th>1091452</th>\n",
       "      <td>250331TMPWPER</td>\n",
       "      <td>10019</td>\n",
       "      <td>2025-03-31 16:00:00</td>\n",
       "      <td>4.0</td>\n",
       "      <td>2025-03-31</td>\n",
       "      <td>16:00:00</td>\n",
       "      <td>2025-03</td>\n",
       "    </tr>\n",
       "    <tr>\n",
       "      <th>1091453</th>\n",
       "      <td>250331TMPJC83</td>\n",
       "      <td>9834</td>\n",
       "      <td>2025-03-31 18:00:00</td>\n",
       "      <td>2.0</td>\n",
       "      <td>2025-03-31</td>\n",
       "      <td>18:00:00</td>\n",
       "      <td>2025-03</td>\n",
       "    </tr>\n",
       "  </tbody>\n",
       "</table>\n",
       "<p>80486 rows × 7 columns</p>\n",
       "</div>"
      ],
      "text/plain": [
       "            booking_id  professional_id        cleaning_date  total_hour  \\\n",
       "36919            44397             7873  2025-01-04 11:00:00         6.0   \n",
       "45830            62349            10890  2025-03-03 17:00:00         2.0   \n",
       "65533            84447             8409  2025-01-19 09:00:00         6.0   \n",
       "98458           121641             7935  2025-03-23 14:00:00         3.0   \n",
       "140820          169608            12180  2025-03-29 10:00:00         6.0   \n",
       "...                ...              ...                  ...         ...   \n",
       "1091449     2503311FRG            12498  2025-03-31 18:00:00         2.0   \n",
       "1091450  250331TMP0FDP            12086  2025-03-31 15:00:00         2.0   \n",
       "1091451     250331XWU9            11275  2025-03-31 15:00:00         4.0   \n",
       "1091452  250331TMPWPER            10019  2025-03-31 16:00:00         4.0   \n",
       "1091453  250331TMPJC83             9834  2025-03-31 18:00:00         2.0   \n",
       "\n",
       "               date      time cleaning_month  \n",
       "36919    2025-01-04  11:00:00        2025-01  \n",
       "45830    2025-03-03  17:00:00        2025-03  \n",
       "65533    2025-01-19  09:00:00        2025-01  \n",
       "98458    2025-03-23  14:00:00        2025-03  \n",
       "140820   2025-03-29  10:00:00        2025-03  \n",
       "...             ...       ...            ...  \n",
       "1091449  2025-03-31  18:00:00        2025-03  \n",
       "1091450  2025-03-31  15:00:00        2025-03  \n",
       "1091451  2025-03-31  15:00:00        2025-03  \n",
       "1091452  2025-03-31  16:00:00        2025-03  \n",
       "1091453  2025-03-31  18:00:00        2025-03  \n",
       "\n",
       "[80486 rows x 7 columns]"
      ]
     },
     "execution_count": 17,
     "metadata": {},
     "output_type": "execute_result"
    }
   ],
   "source": [
    "# Filtering data for cleaning month between \"2025-01\" to \"2025-03\"\n",
    "filter_month = order[(order[\"cleaning_month\"] >= \"2025-01\") & (order[\"cleaning_month\"] <= \"2025-03\")]\n",
    "\n",
    "# Show filtered cleaningmonth \"2025-01\" to \"2025-03\"\n",
    "filter_month"
   ]
  },
  {
   "cell_type": "code",
   "execution_count": 18,
   "id": "d9125696",
   "metadata": {},
   "outputs": [
    {
     "data": {
      "text/plain": [
       "19.5"
      ]
     },
     "execution_count": 18,
     "metadata": {},
     "output_type": "execute_result"
    }
   ],
   "source": [
    "3+2+2+2.5+2+2+4+2"
   ]
  },
  {
   "cell_type": "markdown",
   "id": "5332df7b",
   "metadata": {},
   "source": [
    "Now, we only have a filtered data from cleaning_month 2025-01 to 2025-03\n",
    "\n",
    "##### **GroupBy:** cleaning_month, professional_id\n",
    "\n",
    "**Calculate:** Total Work Hour of each professional_id"
   ]
  },
  {
   "cell_type": "code",
   "execution_count": null,
   "id": "b6f95536",
   "metadata": {},
   "outputs": [
    {
     "data": {
      "text/html": [
       "<div>\n",
       "<style scoped>\n",
       "    .dataframe tbody tr th:only-of-type {\n",
       "        vertical-align: middle;\n",
       "    }\n",
       "\n",
       "    .dataframe tbody tr th {\n",
       "        vertical-align: top;\n",
       "    }\n",
       "\n",
       "    .dataframe thead th {\n",
       "        text-align: right;\n",
       "    }\n",
       "</style>\n",
       "<table border=\"1\" class=\"dataframe\">\n",
       "  <thead>\n",
       "    <tr style=\"text-align: right;\">\n",
       "      <th></th>\n",
       "      <th>cleaning_month</th>\n",
       "      <th>professional_id</th>\n",
       "      <th>total_hours</th>\n",
       "    </tr>\n",
       "  </thead>\n",
       "  <tbody>\n",
       "    <tr>\n",
       "      <th>0</th>\n",
       "      <td>2025-01</td>\n",
       "      <td>19</td>\n",
       "      <td>7.5</td>\n",
       "    </tr>\n",
       "    <tr>\n",
       "      <th>1</th>\n",
       "      <td>2025-01</td>\n",
       "      <td>21</td>\n",
       "      <td>99.5</td>\n",
       "    </tr>\n",
       "    <tr>\n",
       "      <th>2</th>\n",
       "      <td>2025-01</td>\n",
       "      <td>24</td>\n",
       "      <td>50.0</td>\n",
       "    </tr>\n",
       "    <tr>\n",
       "      <th>3</th>\n",
       "      <td>2025-01</td>\n",
       "      <td>28</td>\n",
       "      <td>64.0</td>\n",
       "    </tr>\n",
       "    <tr>\n",
       "      <th>4</th>\n",
       "      <td>2025-01</td>\n",
       "      <td>79</td>\n",
       "      <td>50.0</td>\n",
       "    </tr>\n",
       "    <tr>\n",
       "      <th>...</th>\n",
       "      <td>...</td>\n",
       "      <td>...</td>\n",
       "      <td>...</td>\n",
       "    </tr>\n",
       "    <tr>\n",
       "      <th>5841</th>\n",
       "      <td>2025-03</td>\n",
       "      <td>12540</td>\n",
       "      <td>11.0</td>\n",
       "    </tr>\n",
       "    <tr>\n",
       "      <th>5842</th>\n",
       "      <td>2025-03</td>\n",
       "      <td>12541</td>\n",
       "      <td>7.0</td>\n",
       "    </tr>\n",
       "    <tr>\n",
       "      <th>5843</th>\n",
       "      <td>2025-03</td>\n",
       "      <td>12542</td>\n",
       "      <td>2.0</td>\n",
       "    </tr>\n",
       "    <tr>\n",
       "      <th>5844</th>\n",
       "      <td>2025-03</td>\n",
       "      <td>12543</td>\n",
       "      <td>7.0</td>\n",
       "    </tr>\n",
       "    <tr>\n",
       "      <th>5845</th>\n",
       "      <td>2025-03</td>\n",
       "      <td>12549</td>\n",
       "      <td>20.0</td>\n",
       "    </tr>\n",
       "  </tbody>\n",
       "</table>\n",
       "<p>5846 rows × 3 columns</p>\n",
       "</div>"
      ],
      "text/plain": [
       "     cleaning_month  professional_id  total_hours\n",
       "0           2025-01               19          7.5\n",
       "1           2025-01               21         99.5\n",
       "2           2025-01               24         50.0\n",
       "3           2025-01               28         64.0\n",
       "4           2025-01               79         50.0\n",
       "...             ...              ...          ...\n",
       "5841        2025-03            12540         11.0\n",
       "5842        2025-03            12541          7.0\n",
       "5843        2025-03            12542          2.0\n",
       "5844        2025-03            12543          7.0\n",
       "5845        2025-03            12549         20.0\n",
       "\n",
       "[5846 rows x 3 columns]"
      ]
     },
     "execution_count": 19,
     "metadata": {},
     "output_type": "execute_result"
    }
   ],
   "source": [
    "# Group by cleaning_month and professional_id and calculate total work hour\n",
    "order_group = filter_month.groupby([\"cleaning_month\", \"professional_id\"]).agg(\n",
    "                                    total_hours=(\"total_hour\", \"sum\")\n",
    "                                    ).reset_index()\n",
    "order_group"
   ]
  },
  {
   "cell_type": "markdown",
   "id": "8d82ff86",
   "metadata": {},
   "source": [
    "Checking that the grouped data is valid"
   ]
  },
  {
   "cell_type": "code",
   "execution_count": 20,
   "id": "fbf8e2f2",
   "metadata": {},
   "outputs": [
    {
     "data": {
      "text/html": [
       "<div>\n",
       "<style scoped>\n",
       "    .dataframe tbody tr th:only-of-type {\n",
       "        vertical-align: middle;\n",
       "    }\n",
       "\n",
       "    .dataframe tbody tr th {\n",
       "        vertical-align: top;\n",
       "    }\n",
       "\n",
       "    .dataframe thead th {\n",
       "        text-align: right;\n",
       "    }\n",
       "</style>\n",
       "<table border=\"1\" class=\"dataframe\">\n",
       "  <thead>\n",
       "    <tr style=\"text-align: right;\">\n",
       "      <th></th>\n",
       "      <th>cleaning_month</th>\n",
       "      <th>professional_id</th>\n",
       "      <th>total_hours</th>\n",
       "    </tr>\n",
       "  </thead>\n",
       "  <tbody>\n",
       "    <tr>\n",
       "      <th>0</th>\n",
       "      <td>2025-01</td>\n",
       "      <td>19</td>\n",
       "      <td>7.5</td>\n",
       "    </tr>\n",
       "    <tr>\n",
       "      <th>1925</th>\n",
       "      <td>2025-02</td>\n",
       "      <td>19</td>\n",
       "      <td>10.0</td>\n",
       "    </tr>\n",
       "  </tbody>\n",
       "</table>\n",
       "</div>"
      ],
      "text/plain": [
       "     cleaning_month  professional_id  total_hours\n",
       "0           2025-01               19          7.5\n",
       "1925        2025-02               19         10.0"
      ]
     },
     "execution_count": 20,
     "metadata": {},
     "output_type": "execute_result"
    }
   ],
   "source": [
    "order_group[order_group[\"professional_id\"]==19]"
   ]
  },
  {
   "cell_type": "code",
   "execution_count": 21,
   "id": "3721780c",
   "metadata": {},
   "outputs": [
    {
     "name": "stdout",
     "output_type": "stream",
     "text": [
      "Total Work Hour of 19 is 17.5 hours\n"
     ]
    }
   ],
   "source": [
    "id = 19\n",
    "hours = filter_month[filter_month[\"professional_id\"]==id][\"total_hour\"].sum()\n",
    "print(f\"Total Work Hour of {id} is {hours} hours\")"
   ]
  },
  {
   "cell_type": "code",
   "execution_count": 22,
   "id": "8f044ca2",
   "metadata": {},
   "outputs": [
    {
     "data": {
      "text/html": [
       "<div>\n",
       "<style scoped>\n",
       "    .dataframe tbody tr th:only-of-type {\n",
       "        vertical-align: middle;\n",
       "    }\n",
       "\n",
       "    .dataframe tbody tr th {\n",
       "        vertical-align: top;\n",
       "    }\n",
       "\n",
       "    .dataframe thead th {\n",
       "        text-align: right;\n",
       "    }\n",
       "</style>\n",
       "<table border=\"1\" class=\"dataframe\">\n",
       "  <thead>\n",
       "    <tr style=\"text-align: right;\">\n",
       "      <th></th>\n",
       "      <th>cleaning_month</th>\n",
       "      <th>professional_id</th>\n",
       "      <th>total_hours</th>\n",
       "    </tr>\n",
       "  </thead>\n",
       "  <tbody>\n",
       "    <tr>\n",
       "      <th>1</th>\n",
       "      <td>2025-01</td>\n",
       "      <td>21</td>\n",
       "      <td>99.5</td>\n",
       "    </tr>\n",
       "    <tr>\n",
       "      <th>1926</th>\n",
       "      <td>2025-02</td>\n",
       "      <td>21</td>\n",
       "      <td>92.5</td>\n",
       "    </tr>\n",
       "    <tr>\n",
       "      <th>3880</th>\n",
       "      <td>2025-03</td>\n",
       "      <td>21</td>\n",
       "      <td>84.0</td>\n",
       "    </tr>\n",
       "  </tbody>\n",
       "</table>\n",
       "</div>"
      ],
      "text/plain": [
       "     cleaning_month  professional_id  total_hours\n",
       "1           2025-01               21         99.5\n",
       "1926        2025-02               21         92.5\n",
       "3880        2025-03               21         84.0"
      ]
     },
     "execution_count": 22,
     "metadata": {},
     "output_type": "execute_result"
    }
   ],
   "source": [
    "order_group[order_group[\"professional_id\"]==21]"
   ]
  },
  {
   "cell_type": "code",
   "execution_count": 23,
   "id": "bdadfdd6",
   "metadata": {},
   "outputs": [
    {
     "data": {
      "text/plain": [
       "276.0"
      ]
     },
     "execution_count": 23,
     "metadata": {},
     "output_type": "execute_result"
    }
   ],
   "source": [
    "temp = 99.5 + 92.5 + 84.0\n",
    "temp"
   ]
  },
  {
   "cell_type": "code",
   "execution_count": 24,
   "id": "37a9a62e",
   "metadata": {},
   "outputs": [
    {
     "name": "stdout",
     "output_type": "stream",
     "text": [
      "Total Work Hour of 21 is 276.0 hours\n"
     ]
    }
   ],
   "source": [
    "id = 21\n",
    "hours = filter_month[filter_month[\"professional_id\"]==id][\"total_hour\"].sum()\n",
    "print(f\"Total Work Hour of {id} is {hours} hours\")"
   ]
  },
  {
   "cell_type": "code",
   "execution_count": 25,
   "id": "138d24b1",
   "metadata": {},
   "outputs": [
    {
     "data": {
      "text/html": [
       "<div>\n",
       "<style scoped>\n",
       "    .dataframe tbody tr th:only-of-type {\n",
       "        vertical-align: middle;\n",
       "    }\n",
       "\n",
       "    .dataframe tbody tr th {\n",
       "        vertical-align: top;\n",
       "    }\n",
       "\n",
       "    .dataframe thead th {\n",
       "        text-align: right;\n",
       "    }\n",
       "</style>\n",
       "<table border=\"1\" class=\"dataframe\">\n",
       "  <thead>\n",
       "    <tr style=\"text-align: right;\">\n",
       "      <th></th>\n",
       "      <th>cleaning_month</th>\n",
       "      <th>professional_id</th>\n",
       "      <th>total_hours</th>\n",
       "    </tr>\n",
       "  </thead>\n",
       "  <tbody>\n",
       "    <tr>\n",
       "      <th>5845</th>\n",
       "      <td>2025-03</td>\n",
       "      <td>12549</td>\n",
       "      <td>20.0</td>\n",
       "    </tr>\n",
       "  </tbody>\n",
       "</table>\n",
       "</div>"
      ],
      "text/plain": [
       "     cleaning_month  professional_id  total_hours\n",
       "5845        2025-03            12549         20.0"
      ]
     },
     "execution_count": 25,
     "metadata": {},
     "output_type": "execute_result"
    }
   ],
   "source": [
    "order_group[order_group[\"professional_id\"]==12549]"
   ]
  },
  {
   "cell_type": "code",
   "execution_count": 26,
   "id": "0a943580",
   "metadata": {},
   "outputs": [
    {
     "name": "stdout",
     "output_type": "stream",
     "text": [
      "Total Work Hour of 12549 is 20.0 hours\n"
     ]
    }
   ],
   "source": [
    "id = 12549\n",
    "hours = filter_month[filter_month[\"professional_id\"]==id][\"total_hour\"].sum()\n",
    "print(f\"Total Work Hour of {id} is {hours} hours\")"
   ]
  },
  {
   "cell_type": "markdown",
   "id": "638d45d6",
   "metadata": {},
   "source": [
    "##### **Pivot Table:** cleaning_month to increase clarity\n",
    "\n",
    "<div class=\"alert alert-block alert-info\">\n",
    "\n",
    "Don't forget to **fill NaN value with 0** (it means that the total work hour on that month is 0 hour)\n",
    "\n",
    "</div>"
   ]
  },
  {
   "cell_type": "code",
   "execution_count": 27,
   "id": "dfcdc653",
   "metadata": {},
   "outputs": [
    {
     "data": {
      "text/html": [
       "<div>\n",
       "<style scoped>\n",
       "    .dataframe tbody tr th:only-of-type {\n",
       "        vertical-align: middle;\n",
       "    }\n",
       "\n",
       "    .dataframe tbody tr th {\n",
       "        vertical-align: top;\n",
       "    }\n",
       "\n",
       "    .dataframe thead th {\n",
       "        text-align: right;\n",
       "    }\n",
       "</style>\n",
       "<table border=\"1\" class=\"dataframe\">\n",
       "  <thead>\n",
       "    <tr style=\"text-align: right;\">\n",
       "      <th>cleaning_month</th>\n",
       "      <th>2025-01</th>\n",
       "      <th>2025-02</th>\n",
       "      <th>2025-03</th>\n",
       "    </tr>\n",
       "    <tr>\n",
       "      <th>professional_id</th>\n",
       "      <th></th>\n",
       "      <th></th>\n",
       "      <th></th>\n",
       "    </tr>\n",
       "  </thead>\n",
       "  <tbody>\n",
       "    <tr>\n",
       "      <th>19</th>\n",
       "      <td>7.5</td>\n",
       "      <td>10.0</td>\n",
       "      <td>0.0</td>\n",
       "    </tr>\n",
       "    <tr>\n",
       "      <th>21</th>\n",
       "      <td>99.5</td>\n",
       "      <td>92.5</td>\n",
       "      <td>84.0</td>\n",
       "    </tr>\n",
       "    <tr>\n",
       "      <th>24</th>\n",
       "      <td>50.0</td>\n",
       "      <td>44.0</td>\n",
       "      <td>51.0</td>\n",
       "    </tr>\n",
       "    <tr>\n",
       "      <th>28</th>\n",
       "      <td>64.0</td>\n",
       "      <td>54.0</td>\n",
       "      <td>64.0</td>\n",
       "    </tr>\n",
       "    <tr>\n",
       "      <th>79</th>\n",
       "      <td>50.0</td>\n",
       "      <td>20.0</td>\n",
       "      <td>33.0</td>\n",
       "    </tr>\n",
       "    <tr>\n",
       "      <th>...</th>\n",
       "      <td>...</td>\n",
       "      <td>...</td>\n",
       "      <td>...</td>\n",
       "    </tr>\n",
       "    <tr>\n",
       "      <th>12540</th>\n",
       "      <td>0.0</td>\n",
       "      <td>0.0</td>\n",
       "      <td>11.0</td>\n",
       "    </tr>\n",
       "    <tr>\n",
       "      <th>12541</th>\n",
       "      <td>0.0</td>\n",
       "      <td>0.0</td>\n",
       "      <td>7.0</td>\n",
       "    </tr>\n",
       "    <tr>\n",
       "      <th>12542</th>\n",
       "      <td>0.0</td>\n",
       "      <td>0.0</td>\n",
       "      <td>2.0</td>\n",
       "    </tr>\n",
       "    <tr>\n",
       "      <th>12543</th>\n",
       "      <td>0.0</td>\n",
       "      <td>0.0</td>\n",
       "      <td>7.0</td>\n",
       "    </tr>\n",
       "    <tr>\n",
       "      <th>12549</th>\n",
       "      <td>0.0</td>\n",
       "      <td>0.0</td>\n",
       "      <td>20.0</td>\n",
       "    </tr>\n",
       "  </tbody>\n",
       "</table>\n",
       "<p>2294 rows × 3 columns</p>\n",
       "</div>"
      ],
      "text/plain": [
       "cleaning_month   2025-01  2025-02  2025-03\n",
       "professional_id                           \n",
       "19                   7.5     10.0      0.0\n",
       "21                  99.5     92.5     84.0\n",
       "24                  50.0     44.0     51.0\n",
       "28                  64.0     54.0     64.0\n",
       "79                  50.0     20.0     33.0\n",
       "...                  ...      ...      ...\n",
       "12540                0.0      0.0     11.0\n",
       "12541                0.0      0.0      7.0\n",
       "12542                0.0      0.0      2.0\n",
       "12543                0.0      0.0      7.0\n",
       "12549                0.0      0.0     20.0\n",
       "\n",
       "[2294 rows x 3 columns]"
      ]
     },
     "execution_count": 27,
     "metadata": {},
     "output_type": "execute_result"
    }
   ],
   "source": [
    "order_pivot = pd.pivot_table(order_group,\n",
    "                             values=\"total_hours\",\n",
    "                             index=\"professional_id\",\n",
    "                             columns=\"cleaning_month\",\n",
    "                             fill_value=0)\n",
    "order_pivot"
   ]
  },
  {
   "cell_type": "markdown",
   "id": "7a215107",
   "metadata": {},
   "source": [
    "##### **Filter:** Select professional_id with total_hour >= 80.0 on each month"
   ]
  },
  {
   "cell_type": "code",
   "execution_count": 28,
   "id": "99b15370",
   "metadata": {},
   "outputs": [
    {
     "data": {
      "text/plain": [
       "Index(['2025-01', '2025-02', '2025-03'], dtype='object', name='cleaning_month')"
      ]
     },
     "execution_count": 28,
     "metadata": {},
     "output_type": "execute_result"
    }
   ],
   "source": [
    "order_pivot.columns"
   ]
  },
  {
   "cell_type": "code",
   "execution_count": 29,
   "id": "36dce4f7",
   "metadata": {},
   "outputs": [
    {
     "data": {
      "text/html": [
       "<div>\n",
       "<style scoped>\n",
       "    .dataframe tbody tr th:only-of-type {\n",
       "        vertical-align: middle;\n",
       "    }\n",
       "\n",
       "    .dataframe tbody tr th {\n",
       "        vertical-align: top;\n",
       "    }\n",
       "\n",
       "    .dataframe thead th {\n",
       "        text-align: right;\n",
       "    }\n",
       "</style>\n",
       "<table border=\"1\" class=\"dataframe\">\n",
       "  <thead>\n",
       "    <tr style=\"text-align: right;\">\n",
       "      <th>cleaning_month</th>\n",
       "      <th>2025-01</th>\n",
       "      <th>2025-02</th>\n",
       "      <th>2025-03</th>\n",
       "    </tr>\n",
       "    <tr>\n",
       "      <th>professional_id</th>\n",
       "      <th></th>\n",
       "      <th></th>\n",
       "      <th></th>\n",
       "    </tr>\n",
       "  </thead>\n",
       "  <tbody>\n",
       "    <tr>\n",
       "      <th>19</th>\n",
       "      <td>7.5</td>\n",
       "      <td>10.0</td>\n",
       "      <td>0.0</td>\n",
       "    </tr>\n",
       "    <tr>\n",
       "      <th>21</th>\n",
       "      <td>99.5</td>\n",
       "      <td>92.5</td>\n",
       "      <td>84.0</td>\n",
       "    </tr>\n",
       "    <tr>\n",
       "      <th>24</th>\n",
       "      <td>50.0</td>\n",
       "      <td>44.0</td>\n",
       "      <td>51.0</td>\n",
       "    </tr>\n",
       "    <tr>\n",
       "      <th>28</th>\n",
       "      <td>64.0</td>\n",
       "      <td>54.0</td>\n",
       "      <td>64.0</td>\n",
       "    </tr>\n",
       "    <tr>\n",
       "      <th>79</th>\n",
       "      <td>50.0</td>\n",
       "      <td>20.0</td>\n",
       "      <td>33.0</td>\n",
       "    </tr>\n",
       "    <tr>\n",
       "      <th>...</th>\n",
       "      <td>...</td>\n",
       "      <td>...</td>\n",
       "      <td>...</td>\n",
       "    </tr>\n",
       "    <tr>\n",
       "      <th>12540</th>\n",
       "      <td>0.0</td>\n",
       "      <td>0.0</td>\n",
       "      <td>11.0</td>\n",
       "    </tr>\n",
       "    <tr>\n",
       "      <th>12541</th>\n",
       "      <td>0.0</td>\n",
       "      <td>0.0</td>\n",
       "      <td>7.0</td>\n",
       "    </tr>\n",
       "    <tr>\n",
       "      <th>12542</th>\n",
       "      <td>0.0</td>\n",
       "      <td>0.0</td>\n",
       "      <td>2.0</td>\n",
       "    </tr>\n",
       "    <tr>\n",
       "      <th>12543</th>\n",
       "      <td>0.0</td>\n",
       "      <td>0.0</td>\n",
       "      <td>7.0</td>\n",
       "    </tr>\n",
       "    <tr>\n",
       "      <th>12549</th>\n",
       "      <td>0.0</td>\n",
       "      <td>0.0</td>\n",
       "      <td>20.0</td>\n",
       "    </tr>\n",
       "  </tbody>\n",
       "</table>\n",
       "<p>2294 rows × 3 columns</p>\n",
       "</div>"
      ],
      "text/plain": [
       "cleaning_month   2025-01  2025-02  2025-03\n",
       "professional_id                           \n",
       "19                   7.5     10.0      0.0\n",
       "21                  99.5     92.5     84.0\n",
       "24                  50.0     44.0     51.0\n",
       "28                  64.0     54.0     64.0\n",
       "79                  50.0     20.0     33.0\n",
       "...                  ...      ...      ...\n",
       "12540                0.0      0.0     11.0\n",
       "12541                0.0      0.0      7.0\n",
       "12542                0.0      0.0      2.0\n",
       "12543                0.0      0.0      7.0\n",
       "12549                0.0      0.0     20.0\n",
       "\n",
       "[2294 rows x 3 columns]"
      ]
     },
     "execution_count": 29,
     "metadata": {},
     "output_type": "execute_result"
    }
   ],
   "source": [
    "order_pivot[[\"2025-01\", \"2025-02\", \"2025-03\"]]"
   ]
  },
  {
   "cell_type": "code",
   "execution_count": 30,
   "id": "b53ace78",
   "metadata": {},
   "outputs": [
    {
     "data": {
      "text/html": [
       "<div>\n",
       "<style scoped>\n",
       "    .dataframe tbody tr th:only-of-type {\n",
       "        vertical-align: middle;\n",
       "    }\n",
       "\n",
       "    .dataframe tbody tr th {\n",
       "        vertical-align: top;\n",
       "    }\n",
       "\n",
       "    .dataframe thead th {\n",
       "        text-align: right;\n",
       "    }\n",
       "</style>\n",
       "<table border=\"1\" class=\"dataframe\">\n",
       "  <thead>\n",
       "    <tr style=\"text-align: right;\">\n",
       "      <th>cleaning_month</th>\n",
       "      <th>2025-01</th>\n",
       "      <th>2025-02</th>\n",
       "      <th>2025-03</th>\n",
       "    </tr>\n",
       "    <tr>\n",
       "      <th>professional_id</th>\n",
       "      <th></th>\n",
       "      <th></th>\n",
       "      <th></th>\n",
       "    </tr>\n",
       "  </thead>\n",
       "  <tbody>\n",
       "    <tr>\n",
       "      <th>21</th>\n",
       "      <td>99.5</td>\n",
       "      <td>92.5</td>\n",
       "      <td>84.0</td>\n",
       "    </tr>\n",
       "    <tr>\n",
       "      <th>203</th>\n",
       "      <td>143.0</td>\n",
       "      <td>145.0</td>\n",
       "      <td>145.5</td>\n",
       "    </tr>\n",
       "    <tr>\n",
       "      <th>238</th>\n",
       "      <td>105.0</td>\n",
       "      <td>98.5</td>\n",
       "      <td>101.0</td>\n",
       "    </tr>\n",
       "    <tr>\n",
       "      <th>239</th>\n",
       "      <td>86.5</td>\n",
       "      <td>84.0</td>\n",
       "      <td>108.5</td>\n",
       "    </tr>\n",
       "    <tr>\n",
       "      <th>243</th>\n",
       "      <td>116.5</td>\n",
       "      <td>100.0</td>\n",
       "      <td>100.5</td>\n",
       "    </tr>\n",
       "    <tr>\n",
       "      <th>...</th>\n",
       "      <td>...</td>\n",
       "      <td>...</td>\n",
       "      <td>...</td>\n",
       "    </tr>\n",
       "    <tr>\n",
       "      <th>11973</th>\n",
       "      <td>117.0</td>\n",
       "      <td>110.5</td>\n",
       "      <td>136.0</td>\n",
       "    </tr>\n",
       "    <tr>\n",
       "      <th>11974</th>\n",
       "      <td>133.5</td>\n",
       "      <td>163.0</td>\n",
       "      <td>165.5</td>\n",
       "    </tr>\n",
       "    <tr>\n",
       "      <th>11993</th>\n",
       "      <td>129.5</td>\n",
       "      <td>118.0</td>\n",
       "      <td>119.0</td>\n",
       "    </tr>\n",
       "    <tr>\n",
       "      <th>11994</th>\n",
       "      <td>107.5</td>\n",
       "      <td>107.0</td>\n",
       "      <td>100.0</td>\n",
       "    </tr>\n",
       "    <tr>\n",
       "      <th>12015</th>\n",
       "      <td>121.0</td>\n",
       "      <td>82.5</td>\n",
       "      <td>137.5</td>\n",
       "    </tr>\n",
       "  </tbody>\n",
       "</table>\n",
       "<p>173 rows × 3 columns</p>\n",
       "</div>"
      ],
      "text/plain": [
       "cleaning_month   2025-01  2025-02  2025-03\n",
       "professional_id                           \n",
       "21                  99.5     92.5     84.0\n",
       "203                143.0    145.0    145.5\n",
       "238                105.0     98.5    101.0\n",
       "239                 86.5     84.0    108.5\n",
       "243                116.5    100.0    100.5\n",
       "...                  ...      ...      ...\n",
       "11973              117.0    110.5    136.0\n",
       "11974              133.5    163.0    165.5\n",
       "11993              129.5    118.0    119.0\n",
       "11994              107.5    107.0    100.0\n",
       "12015              121.0     82.5    137.5\n",
       "\n",
       "[173 rows x 3 columns]"
      ]
     },
     "execution_count": 30,
     "metadata": {},
     "output_type": "execute_result"
    }
   ],
   "source": [
    "order_result = order_pivot[(order_pivot[\"2025-01\"] >= 80.0) &\n",
    "                           (order_pivot[\"2025-02\"] >= 80.0) &\n",
    "                           (order_pivot[\"2025-03\"] >= 80.0)]\n",
    "order_result"
   ]
  },
  {
   "cell_type": "markdown",
   "id": "c0fa34ab",
   "metadata": {},
   "source": [
    "##### **Visualize:** Scatter Plot with Trendline"
   ]
  },
  {
   "cell_type": "code",
   "execution_count": 31,
   "id": "f352a98a",
   "metadata": {},
   "outputs": [],
   "source": [
    "# Install Neccessary Libraries\n",
    "#!pip install statsmodels\n",
    "#!pip install nbformat\n",
    "#!pip install ipython nbformat"
   ]
  },
  {
   "cell_type": "code",
   "execution_count": 36,
   "id": "60bb380d",
   "metadata": {},
   "outputs": [
    {
     "data": {
      "application/vnd.plotly.v1+json": {
       "config": {
        "plotlyServerURL": "https://plot.ly"
       },
       "data": [
        {
         "hovertemplate": "Month=2025-01<br>professional_id=%{x}<br>Work Hours=%{y}<extra></extra>",
         "legendgroup": "2025-01",
         "marker": {
          "color": "#636efa",
          "symbol": "circle"
         },
         "mode": "markers",
         "name": "2025-01",
         "orientation": "v",
         "showlegend": true,
         "type": "scatter",
         "x": {
          "bdata": "FQDLAO4A7wDzAPoAnAEvAtwC4QIkBEsEWASJBFAF6wY+CPsNHQ5KDq8O0Q4REQYSFhJpEm8TkBOWE9UTQBRCFEQUeBSOFN0UXhXmFegVnBZTF18XhReQF8QXJBk3GYMZzRnVGQ0aDhpwGoYaRhuHG94b5xt6HNkcBR2CHqQe0x45HzwfIiCVIKcg2SDaINwgDCEwIXIhhSHqIe4hPSJXIl4jlSPAIyEklSTPJOEk7STuJAMlFSWsJeclGCYkJjQmRCZqJoEmsSbFJvQmBCeDJ5EnkiecJz8oQShCKFAofSiXKJ0ooCiwKLYovSgRKUUpaynyKfgpBSoGKhYqQypfKnsqmiqdKqMq7Cr4KhsrHCslK2krdysVLDEsiCzBLM0s7CzvLPYsCC0LLRItKi02LVktXS2ALYwtkS3HLfctIy4zLkkuTC5uLnUulC69Lr4uxS7GLtku2i7vLg==",
          "dtype": "i2"
         },
         "xaxis": "x",
         "y": {
          "bdata": "AAAAAADgWEAAAAAAAOBhQAAAAAAAQFpAAAAAAACgVUAAAAAAACBdQAAAAAAA6HBAAAAAAACAWUAAAAAAAMBdQAAAAAAAIG5AAAAAAADAV0AAAAAAAGBiQAAAAAAAgF9AAAAAAACAVUAAAAAAAKBgQAAAAAAAkGFAAAAAAADwa0AAAAAAAMBYQAAAAAAA4FRAAAAAAACAV0AAAAAAAFBhQAAAAAAAYFpAAAAAAABAVkAAAAAAAHBhQAAAAAAAoFlAAAAAAABgYEAAAAAAAABdQAAAAAAA4FlAAAAAAADAVUAAAAAAAGBeQAAAAAAAkGFAAAAAAADQYEAAAAAAAGBYQAAAAAAAQFhAAAAAAAAAWEAAAAAAADBkQAAAAAAAIFxAAAAAAABgVUAAAAAAAEBrQAAAAAAAYFtAAAAAAABAYEAAAAAAAIBaQAAAAAAA4FhAAAAAAAAwYUAAAAAAAKBXQAAAAAAAYGBAAAAAAAAAVEAAAAAAAIBeQAAAAAAAgFxAAAAAAACAWkAAAAAAAEBeQAAAAAAAIFZAAAAAAACgYUAAAAAAAABlQAAAAAAAIFZAAAAAAADAY0AAAAAAACBnQAAAAAAAwGNAAAAAAADgXEAAAAAAAABZQAAAAAAAYF9AAAAAAAAgV0AAAAAAAEBjQAAAAAAAQFpAAAAAAAAgXkAAAAAAAEBcQAAAAAAA4F1AAAAAAAAAVkAAAAAAAEBXQAAAAAAAQFxAAAAAAADgVUAAAAAAAMBUQAAAAAAAkGJAAAAAAABAWUAAAAAAAEBhQAAAAAAAIFVAAAAAAAAgXUAAAAAAAABhQAAAAAAAwF1AAAAAAACAXEAAAAAAABBoQAAAAAAAoFZAAAAAAABQYEAAAAAAAMBXQAAAAAAAIFxAAAAAAACAVkAAAAAAAMBgQAAAAAAAIF5AAAAAAACgXUAAAAAAAEBZQAAAAAAAwGRAAAAAAAAgW0AAAAAAAIBcQAAAAAAAAFtAAAAAAADAW0AAAAAAACBZQAAAAAAAIFxAAAAAAACAX0AAAAAAAKBVQAAAAAAAwGJAAAAAAABgYkAAAAAAAOBUQAAAAAAAQFhAAAAAAAAAWkAAAAAAAKBcQAAAAAAAEGJAAAAAAABAX0AAAAAAACBmQAAAAAAAwGJAAAAAAACgZEAAAAAAANBgQAAAAAAAUGRAAAAAAACAYEAAAAAAACBYQAAAAAAA4FZAAAAAAAAAYEAAAAAAAOBgQAAAAAAAoFpAAAAAAAAAZEAAAAAAACBcQAAAAAAAIFdAAAAAAABAVEAAAAAAACBWQAAAAAAAYFtAAAAAAADgZkAAAAAAAOBWQAAAAAAAIFRAAAAAAADgV0AAAAAAAKBaQAAAAAAA4F5AAAAAAACAXkAAAAAAAEBVQAAAAAAAoFZAAAAAAACAW0AAAAAAAKBWQAAAAAAA0GFAAAAAAACgW0AAAAAAAKBeQAAAAAAAQFpAAAAAAACgX0AAAAAAAFBgQAAAAAAAIGJAAAAAAABgYEAAAAAAACBaQAAAAAAAUGNAAAAAAADAXEAAAAAAACBXQAAAAAAAIFxAAAAAAADAYEAAAAAAAMBYQAAAAAAAMGJAAAAAAAAwaUAAAAAAACBbQAAAAAAAYF1AAAAAAAAAYUAAAAAAACBcQAAAAAAAAFxAAAAAAADAZkAAAAAAAOBiQAAAAAAAYF9AAAAAAACgVEAAAAAAAIBaQAAAAAAAwGFAAAAAAAAgVEAAAAAAALBiQAAAAAAAMGBAAAAAAAAgVkAAAAAAAKBUQAAAAAAAEGNAAAAAAABAXUAAAAAAALBgQAAAAAAAMGBAAAAAAADgWkAAAAAAAEBeQA==",
          "dtype": "f8"
         },
         "yaxis": "y"
        },
        {
         "hovertemplate": "<b>OLS trendline</b><br>value = -0.000832691 * professional_id + 127.76<br>R<sup>2</sup>=0.008046<br><br>Month=2025-01<br>professional_id=%{x}<br>Work Hours=%{y} <b>(trend)</b><extra></extra>",
         "legendgroup": "2025-01",
         "marker": {
          "color": "#636efa",
          "symbol": "circle"
         },
         "mode": "lines",
         "name": "2025-01",
         "showlegend": false,
         "type": "scatter",
         "x": {
          "bdata": "FQDLAO4A7wDzAPoAnAEvAtwC4QIkBEsEWASJBFAF6wY+CPsNHQ5KDq8O0Q4REQYSFhJpEm8TkBOWE9UTQBRCFEQUeBSOFN0UXhXmFegVnBZTF18XhReQF8QXJBk3GYMZzRnVGQ0aDhpwGoYaRhuHG94b5xt6HNkcBR2CHqQe0x45HzwfIiCVIKcg2SDaINwgDCEwIXIhhSHqIe4hPSJXIl4jlSPAIyEklSTPJOEk7STuJAMlFSWsJeclGCYkJjQmRCZqJoEmsSbFJvQmBCeDJ5EnkiecJz8oQShCKFAofSiXKJ0ooCiwKLYovSgRKUUpaynyKfgpBSoGKhYqQypfKnsqmiqdKqMq7Cr4KhsrHCslK2krdysVLDEsiCzBLM0s7CzvLPYsCC0LLRItKi02LVktXS2ALYwtkS3HLfctIy4zLkkuTC5uLnUulC69Lr4uxS7GLtku2i7vLg==",
          "dtype": "i2"
         },
         "xaxis": "x",
         "y": {
          "bdata": "nv+By4nvX0Alts3N1uVfQLW7Pk75419APa2vqevjX0Bcc3MXteNfQBIOipdV419A/eUCdbPaX0D0lt323dJfQLXPMMKlyV9AW4dli2HJX0CqRebqKrhfQFkRG9kWtl9APlXXfWW1X0A7kHX+yLJfQMZQQRMuqF9AwBWV4UaSX0CL7CT4NYBfQKXkPq/sMV9Arvg+1BwwX0CMbRnnti1fQB24qPpUKF9AJcyoH4UmX0CiPcjd0gdfQJJk32DE+l5AD33uF+r5XkAUzIy9ffVeQAj9I1OH515AiR+zHMXlXkC3yFhBc+VeQCE5JMIX4l5A4SxZ+mPcXkDwDzuxSNxeQADzHGgt3F5AlAIO+2fZXkA/xMLWO9heQCVNnQ4G1F5AkAKHIibNXkCxUoe25sVeQMA1aW3LxV5ANwnTuDO8XkBGsY8Wc7JeQKMD21/PsV5Ayt2e8sivXkCgPnngMq9eQDROanNtrF5A5Gi2LquZXkD4VRj4p5heQEYKoB2blF5AhttFjKmQXkDEZ81nPJBeQHc9gmhAjV5A/y7zwzKNXkD5pC/F+YdeQKRm5KDNhl5AeIyZNZJ8XkDx30ZtG3leQBX1qIB4dF5A23Kht/1zXkDSI3w5KGxeQDTFZSgYZ15AikjP379kXkCcv+b2cVBeQKTT5huiTl5AkSuj5SBMXkCqZ6NUsUZeQEI89maIRl5APTxvjkY6XkA7vCuiJTReQMe3HBAwM15ATOQr7IUwXkDT1ZxHeDBeQOO4fv5cMF5AWAKsI84tXkBw+Y3/4iteQHE+rJJeKF5AhCsOXFsnXkAWdp1v+SFeQDU8Yd3CIV5AG8U7FY0dXkDlTLReKhxeQGFvvE8mDl5AjFMA9TcLXkBb5fhQ7QheQM1pxPbBA15AUtvxZZP9XUAVlIgdfPpdQKGPeYuG+V1A/uHE1OL4XUCG0zUw1fhdQKmjebC2911ANZ9qHsH2XUBLFgkOte5dQJbAECGQ611AkvuuofPoXUDwTfrqT+hdQGxmCaJ1511A6H4YWZvmXUAQWdzrlORdQEIMAiNb411AuFUvSMzgXUBTNAJtu99dQECMvjY63V1AvaTN7V/cXUAYd9VKm9VdQIWsAkvc1F1ADJ5zps7UXUBaDd04RtRdQM3WxnGWy11A3bmoKHvLXUBkqxmEbctdQNHgRoSuyl1Ar1Uhl0jIXUB53Zng5cZdQKiGPwWUxl1AP1uSF2vGXUC7c6HOkMVdQOocR/M+xV1AoLddc9/EXUAt+Gx0ZcBdQMIHXgegvV1A6eEhmpm7XUCCQLHSZ7RdQLHpVvcVtF1Ali0TnGSzXUAeH4T3VrNdQJo3k658sl1AeKxtwRawXUBSF8jBmK5dQCuCIsIarV1AnMHP1HOrXUAzliLnSqtdQGI/yAv5ql1AGR/9HhWnXUB3cUhocaZdQAd3ueiTpF1AjmgqRIakXUBU5iJ7C6RdQGUOI8VroF1A0kNQxayfXUCeVQU1QZddQHjAXzXDlV1AnNXBSCCRXUDXnOekFo5dQDTvMu5yjV1ApS7gAMyLXUA8AzMTo4tdQPOdSZNDi11Af5k6AU6KXUAWbo0TJYpdQMwIpJPFiV1Ah606Jn6IXUDk/4Vv2oddQHQF9+/8hV1Ak8u6XcaFXUAj0Sve6INdQIEjdydFg11AKNur8ACDXUDLzX46IIBdQEAXrF+RfV1AlpoVFzl7XUATsyTOXnpdQL502akyeV1AVUksvAl5XUBdXSzhOXddQBT4QmHadl1AhTfwczN1XUBD5gYZBHNdQMvXd3T2cl1AgnKO9JZyXUAJZP9PiXJdQB1RYRmGcV1ApULSdHhxXUDIEhb1WXBdQA==",
          "dtype": "f8"
         },
         "yaxis": "y"
        },
        {
         "hovertemplate": "Month=2025-02<br>professional_id=%{x}<br>Work Hours=%{y}<extra></extra>",
         "legendgroup": "2025-02",
         "marker": {
          "color": "#EF553B",
          "symbol": "circle"
         },
         "mode": "markers",
         "name": "2025-02",
         "orientation": "v",
         "showlegend": true,
         "type": "scatter",
         "x": {
          "bdata": "FQDLAO4A7wDzAPoAnAEvAtwC4QIkBEsEWASJBFAF6wY+CPsNHQ5KDq8O0Q4REQYSFhJpEm8TkBOWE9UTQBRCFEQUeBSOFN0UXhXmFegVnBZTF18XhReQF8QXJBk3GYMZzRnVGQ0aDhpwGoYaRhuHG94b5xt6HNkcBR2CHqQe0x45HzwfIiCVIKcg2SDaINwgDCEwIXIhhSHqIe4hPSJXIl4jlSPAIyEklSTPJOEk7STuJAMlFSWsJeclGCYkJjQmRCZqJoEmsSbFJvQmBCeDJ5EnkiecJz8oQShCKFAofSiXKJ0ooCiwKLYovSgRKUUpaynyKfgpBSoGKhYqQypfKnsqmiqdKqMq7Cr4KhsrHCslK2krdysVLDEsiCzBLM0s7CzvLPYsCC0LLRItKi02LVktXS2ALYwtkS3HLfctIy4zLkkuTC5uLnUulC69Lr4uxS7GLtku2i7vLg==",
          "dtype": "i2"
         },
         "xaxis": "x",
         "y": {
          "bdata": "AAAAAAAgV0AAAAAAACBiQAAAAAAAoFhAAAAAAAAAVUAAAAAAAABZQAAAAAAAcGtAAAAAAABAVEAAAAAAAEBWQAAAAAAAEGlAAAAAAACgV0AAAAAAAHBgQAAAAAAAYFtAAAAAAAAgVUAAAAAAAABbQAAAAAAAgGBAAAAAAAAQZkAAAAAAAOBVQAAAAAAAQFVAAAAAAABgVUAAAAAAAGBcQAAAAAAAwFpAAAAAAABgWEAAAAAAAEBXQAAAAAAA4FdAAAAAAADAVUAAAAAAAKBcQAAAAAAA4FtAAAAAAAAAVkAAAAAAAMBiQAAAAAAAwFlAAAAAAACgXUAAAAAAAOBUQAAAAAAAYFdAAAAAAADAVUAAAAAAAEBgQAAAAAAAAFtAAAAAAABgVEAAAAAAACBsQAAAAAAAQF1AAAAAAACAXUAAAAAAAIBVQAAAAAAA4FRAAAAAAACgWkAAAAAAAKBfQAAAAAAAAGJAAAAAAACAVkAAAAAAAKBcQAAAAAAAgFRAAAAAAACAV0AAAAAAAGBeQAAAAAAAoFRAAAAAAABAWEAAAAAAAPBgQAAAAAAAAFRAAAAAAADgW0AAAAAAAPBhQAAAAAAAoF5AAAAAAACAWEAAAAAAAIBUQAAAAAAAAFxAAAAAAABAXEAAAAAAAMBiQAAAAAAAIFpAAAAAAACAV0AAAAAAAIBZQAAAAAAA4FlAAAAAAAAgXEAAAAAAAOBWQAAAAAAAoFhAAAAAAACAVEAAAAAAAMBVQAAAAAAAIF1AAAAAAADgXUAAAAAAAKBcQAAAAAAAwFdAAAAAAADgXEAAAAAAACBeQAAAAAAAwFlAAAAAAACgX0AAAAAAAHBlQAAAAAAAIFdAAAAAAABwYEAAAAAAACBfQAAAAAAAwFxAAAAAAAAgVUAAAAAAAGBZQAAAAAAAYFdAAAAAAACAXUAAAAAAAOBZQAAAAAAAUGNAAAAAAACgWkAAAAAAAOBXQAAAAAAAoFlAAAAAAACAXUAAAAAAAIBbQAAAAAAAYF5AAAAAAABAWUAAAAAAAABaQAAAAAAAsGNAAAAAAACgYUAAAAAAAMBYQAAAAAAAwFVAAAAAAABAXEAAAAAAAKBZQAAAAAAAAGVAAAAAAABAWEAAAAAAAEBZQAAAAAAAIGBAAAAAAABwYUAAAAAAAGBcQAAAAAAAgF9AAAAAAABwYUAAAAAAAABXQAAAAAAAAFRAAAAAAADgWkAAAAAAAOBeQAAAAAAAAGJAAAAAAAAQYUAAAAAAAIBcQAAAAAAAIFZAAAAAAADgVkAAAAAAAIBVQAAAAAAAYFpAAAAAAAAgXkAAAAAAACBWQAAAAAAAAFVAAAAAAACgXUAAAAAAACBYQAAAAAAAYFlAAAAAAABgW0AAAAAAAABcQAAAAAAA4FRAAAAAAADAWkAAAAAAAMBVQAAAAAAAgF5AAAAAAADgXUAAAAAAAIBbQAAAAAAAgFlAAAAAAACAWkAAAAAAAIBcQAAAAAAA4F5AAAAAAACAVEAAAAAAAEBXQAAAAAAA4FlAAAAAAAAAXEAAAAAAAOBUQAAAAAAAwFZAAAAAAACwZkAAAAAAAABUQAAAAAAA4F5AAAAAAAAwZUAAAAAAAEBUQAAAAAAAIFtAAAAAAADgXkAAAAAAAOBXQAAAAAAA4FRAAAAAAACgY0AAAAAAACBcQAAAAAAAwFRAAAAAAADAX0AAAAAAAKBZQAAAAAAAsGBAAAAAAACAYEAAAAAAAEBdQAAAAAAAgFtAAAAAAABgVUAAAAAAAEBUQAAAAAAAoF5AAAAAAACgW0AAAAAAAGBkQAAAAAAAgF1AAAAAAADAWkAAAAAAAKBUQA==",
          "dtype": "f8"
         },
         "yaxis": "y"
        },
        {
         "hovertemplate": "<b>OLS trendline</b><br>value = -0.000295035 * professional_id + 113.312<br>R<sup>2</sup>=0.001480<br><br>Month=2025-02<br>professional_id=%{x}<br>Work Hours=%{y} <b>(trend)</b><extra></extra>",
         "legendgroup": "2025-02",
         "marker": {
          "color": "#EF553B",
          "symbol": "circle"
         },
         "mode": "lines",
         "name": "2025-02",
         "showlegend": false,
         "type": "scatter",
         "x": {
          "bdata": "FQDLAO4A7wDzAPoAnAEvAtwC4QIkBEsEWASJBFAF6wY+CPsNHQ5KDq8O0Q4REQYSFhJpEm8TkBOWE9UTQBRCFEQUeBSOFN0UXhXmFegVnBZTF18XhReQF8QXJBk3GYMZzRnVGQ0aDhpwGoYaRhuHG94b5xt6HNkcBR2CHqQe0x45HzwfIiCVIKcg2SDaINwgDCEwIXIhhSHqIe4hPSJXIl4jlSPAIyEklSTPJOEk7STuJAMlFSWsJeclGCYkJjQmRCZqJoEmsSbFJvQmBCeDJ5EnkiecJz8oQShCKFAofSiXKJ0ooCiwKLYovSgRKUUpaynyKfgpBSoGKhYqQypfKnsqmiqdKqMq7Cr4KhsrHCslK2krdysVLDEsiCzBLM0s7CzvLPYsCC0LLRItKi02LVktXS2ALYwtkS3HLfctIy4zLkkuTC5uLnUulC69Lr4uxS7GLtku2i7vLg==",
          "dtype": "i2"
         },
         "xaxis": "x",
         "y": {
          "bdata": "wZpkWplTXECMrVGXKVBcQD1s9WeAT1xAJcJ9kntPXEDEGZ88aE9cQBtzWWZGT1xAys+fUDdMXEDkI+m8cElcQIkxC3ssRlxAEN+0TxRGXECHQrn5+j9cQNdYfnQ+P1xAnbVqnf8+XED7JoPBEj5cQCvufdFQOlxAUNlfGo4yXEBEm+lsJyxcQGSOPn1qEFxALfdZI8YPXEDsEFGd7A5cQF/1GmUEDVxAKV42C2AMXEC0p/e9fwFcQIvecXLf/FtACD33GpL8W0AvFyvlAPtbQGoCs2wO9ltATBVG6G71W0C6GHjnUfVbQMY8BV8h9FtAqCQBJhzyW0B40BF7EvJbQEd8ItAI8ltAXe/Tcw3xW0BIUYsbo/BbQNDTnTsl71tAnh1RqrXsW0DDwL5CJOpbQJNsz5ca6ltAjtOrf7TmW0BCPCHnP+NbQB9DheUF41tAhwPCNU7iW0B9tJ0JGeJbQJMnT60d4VtATEbFKHjaW0CApuNQHNpbQFEnXfGs2FtAUvzFPEfXW0CQqwiRINdbQEV2294R1ltALcxjCQ3WW0DprpRRM9RbQNQQTPnI01tArn6M3yjQW0CJTiqs7s5bQE+AfyBKzVtAdYVKnx7NW0CQ2ZMLWMpbQJW6K9SMyFtAbH6aI7jHW0BnWIJwhsBbQDDBnRbiv1tAv4al5f6+W0AawffXEb1bQNHCkFcDvVtAE/ENjqu4W0A0iEypf7ZbQICS4qYotltAxlmD9Ta1W0CurwsgMrVbQH5bHHUotVtA9HasbkC0W0CNi9hpkrNbQE+x/mBTsltAgxEdifexW0D39eZQD7BbQJZNCPv7r1tAHtAaG36uW0CpifNsAK5bQMzKAx8JqVtAmT9OQv+nW0CIrTRnL6dbQF063YRapVtAZSekyimjW0DqnYdtEaJbQDaoHWu6oVtAFK+BaYChW0D8BAqUe6FbQP8QOREWoVtATBvPDr+gW0AFxzkl5Z1bQHGTpfLHnFtAzwS+FtubW0CtCyIVoZtbQCpqp71Tm1tAp8gsZgabW0APiWm2TppbQOJAqYjfmVtAWVw5gveYW0B1EuDUlphbQAPY56Ozl1tAgDZtTGaXW0B+1A9mAJVbQCuHhLm8lFtAE90M5LeUW0AhOGCNh5RbQLjqLqJzkVtAiJY/92mRW0Bw7MchZZFbQB2fPHUhkVtA3Lgz70eQW0BncgxByo9bQNV1PkCtj1tAjXfXv56PW0AK1lxoUY9bQHjZjmc0j1tAzzJJkRKPW0DeYgWGfI1bQPTVtimBjFtAXJbzecmLW0CZ49jnPIlbQAjnCucfiVtAzUP3D+GIW0C1mX863IhbQDH4BOOOiFtA8BH8XLWHW0BLd+UDLodbQKXczqqmhltAt0NR0RCGW0BuRepQAoZbQN1IHFDlhVtA9sf8cISEW0DUzmBvSoRbQIWNBEChg1tAbeOMapyDW0CT6FfpcINbQCW6jjUogltA0mwDieSBW0DicSjJ6H5bQD3XEXBhfltAAwln5Lx8W0CgKcJcqXtbQH0wJltve1tAj5eogdl6W0BHmUEBy3pbQJ3y+yqpeltA6vyRKFJ6W0Ch/iqoQ3pbQPdX5dEheltAs2Wtzq15W0CQbBHNc3lbQEErtZ3KeFtA4ILWR7d4W0CRQXoYDnhbQG9I3hbUd1tA9vWH67t3W0DbFErktnZbQFEw2t3OdVtAKPRILfp0W0ClUs7VrHRbQJG0hX1CdFtASLYe/TN0W0ARHzqjj3NbQGh49Mxtc1tAet9289dyW0CZoUzDEXJbQIH31O0McltA2FCPF+txW0DAphdC5nFbQPQGNmqKcVtA3Fy+lIVxW0DfaO0RIHFbQA==",
          "dtype": "f8"
         },
         "yaxis": "y"
        },
        {
         "hovertemplate": "Month=2025-03<br>professional_id=%{x}<br>Work Hours=%{y}<extra></extra>",
         "legendgroup": "2025-03",
         "marker": {
          "color": "#00cc96",
          "symbol": "circle"
         },
         "mode": "markers",
         "name": "2025-03",
         "orientation": "v",
         "showlegend": true,
         "type": "scatter",
         "x": {
          "bdata": "FQDLAO4A7wDzAPoAnAEvAtwC4QIkBEsEWASJBFAF6wY+CPsNHQ5KDq8O0Q4REQYSFhJpEm8TkBOWE9UTQBRCFEQUeBSOFN0UXhXmFegVnBZTF18XhReQF8QXJBk3GYMZzRnVGQ0aDhpwGoYaRhuHG94b5xt6HNkcBR2CHqQe0x45HzwfIiCVIKcg2SDaINwgDCEwIXIhhSHqIe4hPSJXIl4jlSPAIyEklSTPJOEk7STuJAMlFSWsJeclGCYkJjQmRCZqJoEmsSbFJvQmBCeDJ5EnkiecJz8oQShCKFAofSiXKJ0ooCiwKLYovSgRKUUpaynyKfgpBSoGKhYqQypfKnsqmiqdKqMq7Cr4KhsrHCslK2krdysVLDEsiCzBLM0s7CzvLPYsCC0LLRItKi02LVktXS2ALYwtkS3HLfctIy4zLkkuTC5uLnUulC69Lr4uxS7GLtku2i7vLg==",
          "dtype": "i2"
         },
         "xaxis": "x",
         "y": {
          "bdata": "AAAAAAAAVUAAAAAAADBiQAAAAAAAQFlAAAAAAAAgW0AAAAAAACBZQAAAAAAAwGtAAAAAAABAXEAAAAAAAKBUQAAAAAAAgGlAAAAAAADAV0AAAAAAAPBgQAAAAAAAwFdAAAAAAAAgWEAAAAAAAIBgQAAAAAAA4GFAAAAAAADgYEAAAAAAACBUQAAAAAAAgFRAAAAAAAAgVUAAAAAAAOBgQAAAAAAAgFxAAAAAAACAVEAAAAAAAIBUQAAAAAAAgF1AAAAAAACAXUAAAAAAAABZQAAAAAAAwF5AAAAAAABAV0AAAAAAADBkQAAAAAAAQF9AAAAAAAAgXkAAAAAAAMBYQAAAAAAAYFRAAAAAAADgW0AAAAAAAHBkQAAAAAAAQFtAAAAAAAAgVkAAAAAAACBsQAAAAAAAAGBAAAAAAADAXEAAAAAAAOBWQAAAAAAAAFVAAAAAAADAYEAAAAAAACBdQAAAAAAA8GZAAAAAAACAV0AAAAAAAIBcQAAAAAAAoFVAAAAAAADgWEAAAAAAAOBeQAAAAAAAoFZAAAAAAABgW0AAAAAAABBmQAAAAAAAMGJAAAAAAABgV0AAAAAAAFBmQAAAAAAAAFhAAAAAAAAgV0AAAAAAAABWQAAAAAAAQF9AAAAAAABAVUAAAAAAAMBbQAAAAAAAYFtAAAAAAABgX0AAAAAAAGBiQAAAAAAA4FlAAAAAAABgVkAAAAAAAABWQAAAAAAA4F9AAAAAAABAVkAAAAAAAEBYQAAAAAAAYGFAAAAAAACAXEAAAAAAAMBWQAAAAAAAIFpAAAAAAACgWEAAAAAAAGBVQAAAAAAAwFpAAAAAAACAXkAAAAAAAHBmQAAAAAAAIFVAAAAAAADAX0AAAAAAALBgQAAAAAAA4F5AAAAAAACgVkAAAAAAAGBhQAAAAAAAYFRAAAAAAACwYEAAAAAAAABcQAAAAAAAYGJAAAAAAABgW0AAAAAAAIBUQAAAAAAAAFdAAAAAAAAgYEAAAAAAAIBaQAAAAAAAQF5AAAAAAACgXUAAAAAAAKBZQAAAAAAAoGBAAAAAAABQYkAAAAAAAGBhQAAAAAAAIFZAAAAAAACAXUAAAAAAAMBaQAAAAAAAgGRAAAAAAADAXUAAAAAAAABkQAAAAAAA4FxAAAAAAABAZEAAAAAAAEBfQAAAAAAA4FRAAAAAAAAgXkAAAAAAAABXQAAAAAAAwFdAAAAAAAAAYUAAAAAAAEBiQAAAAAAAwFpAAAAAAADgYUAAAAAAAMBbQAAAAAAAwFZAAAAAAABAW0AAAAAAAIBVQAAAAAAAQF9AAAAAAABAW0AAAAAAAOBaQAAAAAAA4FZAAAAAAABAXkAAAAAAAOBcQAAAAAAAIFdAAAAAAABAYkAAAAAAAMBdQAAAAAAAIFpAAAAAAABAVkAAAAAAAMBWQAAAAAAAwGNAAAAAAAAgWkAAAAAAACBdQAAAAAAA4FxAAAAAAAAQYUAAAAAAAKBWQAAAAAAAIFxAAAAAAAAgWUAAAAAAAABVQAAAAAAAIFxAAAAAAAAgWUAAAAAAAABXQAAAAAAAQFlAAAAAAABwZkAAAAAAAGBZQAAAAAAAAGFAAAAAAACQaEAAAAAAAABWQAAAAAAAYF5AAAAAAADgY0AAAAAAAIBXQAAAAAAAgFZAAAAAAABwYkAAAAAAAGBXQAAAAAAAAFRAAAAAAADAWEAAAAAAAMBUQAAAAAAAAF5AAAAAAAAgWEAAAAAAAMBcQAAAAAAAgFVAAAAAAACAW0AAAAAAACBWQAAAAAAAAFpAAAAAAAAAYUAAAAAAALBkQAAAAAAAwF1AAAAAAAAAWUAAAAAAADBhQA==",
          "dtype": "f8"
         },
         "yaxis": "y"
        },
        {
         "hovertemplate": "<b>OLS trendline</b><br>value = -0.00045201 * professional_id + 119.223<br>R<sup>2</sup>=0.002876<br><br>Month=2025-03<br>professional_id=%{x}<br>Work Hours=%{y} <b>(trend)</b><extra></extra>",
         "legendgroup": "2025-03",
         "marker": {
          "color": "#00cc96",
          "symbol": "circle"
         },
         "mode": "lines",
         "name": "2025-03",
         "showlegend": false,
         "type": "scatter",
         "x": {
          "bdata": "FQDLAO4A7wDzAPoAnAEvAtwC4QIkBEsEWASJBFAF6wY+CPsNHQ5KDq8O0Q4REQYSFhJpEm8TkBOWE9UTQBRCFEQUeBSOFN0UXhXmFegVnBZTF18XhReQF8QXJBk3GYMZzRnVGQ0aDhpwGoYaRhuHG94b5xt6HNkcBR2CHqQe0x45HzwfIiCVIKcg2SDaINwgDCEwIXIhhSHqIe4hPSJXIl4jlSPAIyEklSTPJOEk7STuJAMlFSWsJeclGCYkJjQmRCZqJoEmsSbFJvQmBCeDJ5EnkiecJz8oQShCKFAofSiXKJ0ooCiwKLYovSgRKUUpaynyKfgpBSoGKhYqQypfKnsqmiqdKqMq7Cr4KhsrHCslK2krdysVLDEsiCzBLM0s7CzvLPYsCC0LLRItKi02LVktXS2ALYwtkS3HLfctIy4zLkkuTC5uLnUulC69Lr4uxS7GLtku2i7vLg==",
          "dtype": "i2"
         },
         "xaxis": "x",
         "y": {
          "bdata": "j15aYKbNXUB8kNaIYshdQIz8i1Vfx11AWW2u7VfHXUCOMDhOOsddQCtGKXcGx11ADqj0vFbCXUDqbbsYFr5dQKCoAegUuV1Aotyt4O+4XUCbLyLUl69dQOBeYQF3rl1ATBkhuxauXUCWsLjZq6xdQCRgfhzqpl1Aq3nJWwabXUB52WTRN5FdQEgjBs+4Zl1Aix6ZA71lXUCf8qbBb2RdQJpzPceDYV1A3G7Q+4dgXUCvPE5J3k9dQB8xROLHSF1A8z1rZFFIXUB/0JW36kVdQJBC1WpWPl1ABc1FB2I9XUDUcRSYNT1dQFg0jghjO11AIlrznko4XUC8OzjPOzhdQFcdff8sOF1ACAd85qs2XUCsuHH5CDZdQAOIEuy/M11AcV9tlQQwXUB7TLlnFSxdQBYu/pcGLF1AaH41kNEmXUAhIdRQhiFdQMBqcXItIV1AOCmOBxQgXUAKAgmRwh9dQLvrB3hBHl1A9QVjpxIUXUAxZfHxhRNdQCDiKhxTEV1AdX0fFi8PXUDfAzPX8w5dQMWwux5VDV1AkiHetk0NXUAlUA30dwpdQMkBAwfVCV1AupvXIEcEXUDXP5bBZQJdQJmVSnXh/1xA0IyAzp7/XECsUkcqXvtcQNguD5+e+FxAH5L6xFj3XECZczwwU+xcQNxuz2RX61xAiiQiU/vpXEBSFtvwB+dcQLpoQrnx5lxAI8EzaErgXEBXbay/9txcQMZbGHJx3FxA3GPSKP/aXECq1PTA99pcQES2OfHo2lxAwNyud4XZXECeuYbcethcQIjOZxWS1lxAxC32XwXWXEC/roxlGdNcQPRxFsb70lxAS0G3uLLQXEAktjYs8s9cQAKZmHdWyFxAG9X+Jr/GXECVx8e0gMVcQFqF1FmywlxAXKJvSVe/XEDdMD3Bqb1cQEsfqXMkvVxA6mhGlcu8XEC42WgtxLxcQI4aPKgovFxA/QioWqO7XEAOkvgWRbdcQFyR6CaQtVxApiiARSW0XEBFch1nzLNcQBl/ROlVs1xA7Ytra9+yXEBlSogAxrFcQNVsoKsbsVxAUpMVMrivXEBbY8YUJK9cQAoZGQPIrVxA3iVAhVGtXECxG1b+pKlcQOtGOFA9qVxAuLda6DWpXEC8H7PZ66hcQG3yoLc0pFxACNTl5yWkXEDVRAiAHqRcQA5w6tG2o1xAI0T4j2miXED7uHcDqaFcQMtdRpR8oVxAM7CtXGahXEAHvdTe76BcQNZho2/DoFxAc3eUmI+gXEDNeuGDIZ5cQH5k4GqgnFxA9iL9/4abXEAznyY6n5dcQAJE9cpyl1xAb/60hBKXXEA8b9ccC5dcQBB8/p6UllxAJFAMXUeVXECYptAAeJRcQAv9lKSok1xA5qXAEMOSXEBN+CfZrJJcQB2d9mmAklxApcfIy2OQXEBEEWbtCpBcQFR9G7oHj1xAIe49UgCPXEBY5XOrvY5cQN3bmRTGjFxAFwd8Zl6MXEDFpb1LzIdcQDj8ge/8hlxA+lE2o3iEXECtb+GC0oJcQEy5fqR5glxAJ2KqEJSBXECPtBHZfYFcQCzKAgJKgVxAmrhutMSAXEACC9Z8roBcQJ8gx6V6gFxA3bMB6ch/XEB8/Z4KcH9cQIxpVNdsflxAwSzeN09+XEDRmJMETH1cQHDiMCbzfFxAchbdHs58XEC+4SA2PntcQDoIlrzaeVxAgWuB4pR4XEBVeKhkHnhcQPkpnnd7d1xAYXwFQGV3XECjd5h0aXZcQECNiZ01dlxAGza1CVB1XED6RjlnIHRcQMi3W/8YdFxAZM1MKOVzXEAyPm/A3XNcQG6d/QpRc1xAOw4go0lzXEART/MdrnJcQA==",
          "dtype": "f8"
         },
         "yaxis": "y"
        }
       ],
       "layout": {
        "legend": {
         "title": {
          "text": "Month"
         },
         "tracegroupgap": 0
        },
        "template": {
         "data": {
          "bar": [
           {
            "error_x": {
             "color": "#2a3f5f"
            },
            "error_y": {
             "color": "#2a3f5f"
            },
            "marker": {
             "line": {
              "color": "#E5ECF6",
              "width": 0.5
             },
             "pattern": {
              "fillmode": "overlay",
              "size": 10,
              "solidity": 0.2
             }
            },
            "type": "bar"
           }
          ],
          "barpolar": [
           {
            "marker": {
             "line": {
              "color": "#E5ECF6",
              "width": 0.5
             },
             "pattern": {
              "fillmode": "overlay",
              "size": 10,
              "solidity": 0.2
             }
            },
            "type": "barpolar"
           }
          ],
          "carpet": [
           {
            "aaxis": {
             "endlinecolor": "#2a3f5f",
             "gridcolor": "white",
             "linecolor": "white",
             "minorgridcolor": "white",
             "startlinecolor": "#2a3f5f"
            },
            "baxis": {
             "endlinecolor": "#2a3f5f",
             "gridcolor": "white",
             "linecolor": "white",
             "minorgridcolor": "white",
             "startlinecolor": "#2a3f5f"
            },
            "type": "carpet"
           }
          ],
          "choropleth": [
           {
            "colorbar": {
             "outlinewidth": 0,
             "ticks": ""
            },
            "type": "choropleth"
           }
          ],
          "contour": [
           {
            "colorbar": {
             "outlinewidth": 0,
             "ticks": ""
            },
            "colorscale": [
             [
              0,
              "#0d0887"
             ],
             [
              0.1111111111111111,
              "#46039f"
             ],
             [
              0.2222222222222222,
              "#7201a8"
             ],
             [
              0.3333333333333333,
              "#9c179e"
             ],
             [
              0.4444444444444444,
              "#bd3786"
             ],
             [
              0.5555555555555556,
              "#d8576b"
             ],
             [
              0.6666666666666666,
              "#ed7953"
             ],
             [
              0.7777777777777778,
              "#fb9f3a"
             ],
             [
              0.8888888888888888,
              "#fdca26"
             ],
             [
              1,
              "#f0f921"
             ]
            ],
            "type": "contour"
           }
          ],
          "contourcarpet": [
           {
            "colorbar": {
             "outlinewidth": 0,
             "ticks": ""
            },
            "type": "contourcarpet"
           }
          ],
          "heatmap": [
           {
            "colorbar": {
             "outlinewidth": 0,
             "ticks": ""
            },
            "colorscale": [
             [
              0,
              "#0d0887"
             ],
             [
              0.1111111111111111,
              "#46039f"
             ],
             [
              0.2222222222222222,
              "#7201a8"
             ],
             [
              0.3333333333333333,
              "#9c179e"
             ],
             [
              0.4444444444444444,
              "#bd3786"
             ],
             [
              0.5555555555555556,
              "#d8576b"
             ],
             [
              0.6666666666666666,
              "#ed7953"
             ],
             [
              0.7777777777777778,
              "#fb9f3a"
             ],
             [
              0.8888888888888888,
              "#fdca26"
             ],
             [
              1,
              "#f0f921"
             ]
            ],
            "type": "heatmap"
           }
          ],
          "histogram": [
           {
            "marker": {
             "pattern": {
              "fillmode": "overlay",
              "size": 10,
              "solidity": 0.2
             }
            },
            "type": "histogram"
           }
          ],
          "histogram2d": [
           {
            "colorbar": {
             "outlinewidth": 0,
             "ticks": ""
            },
            "colorscale": [
             [
              0,
              "#0d0887"
             ],
             [
              0.1111111111111111,
              "#46039f"
             ],
             [
              0.2222222222222222,
              "#7201a8"
             ],
             [
              0.3333333333333333,
              "#9c179e"
             ],
             [
              0.4444444444444444,
              "#bd3786"
             ],
             [
              0.5555555555555556,
              "#d8576b"
             ],
             [
              0.6666666666666666,
              "#ed7953"
             ],
             [
              0.7777777777777778,
              "#fb9f3a"
             ],
             [
              0.8888888888888888,
              "#fdca26"
             ],
             [
              1,
              "#f0f921"
             ]
            ],
            "type": "histogram2d"
           }
          ],
          "histogram2dcontour": [
           {
            "colorbar": {
             "outlinewidth": 0,
             "ticks": ""
            },
            "colorscale": [
             [
              0,
              "#0d0887"
             ],
             [
              0.1111111111111111,
              "#46039f"
             ],
             [
              0.2222222222222222,
              "#7201a8"
             ],
             [
              0.3333333333333333,
              "#9c179e"
             ],
             [
              0.4444444444444444,
              "#bd3786"
             ],
             [
              0.5555555555555556,
              "#d8576b"
             ],
             [
              0.6666666666666666,
              "#ed7953"
             ],
             [
              0.7777777777777778,
              "#fb9f3a"
             ],
             [
              0.8888888888888888,
              "#fdca26"
             ],
             [
              1,
              "#f0f921"
             ]
            ],
            "type": "histogram2dcontour"
           }
          ],
          "mesh3d": [
           {
            "colorbar": {
             "outlinewidth": 0,
             "ticks": ""
            },
            "type": "mesh3d"
           }
          ],
          "parcoords": [
           {
            "line": {
             "colorbar": {
              "outlinewidth": 0,
              "ticks": ""
             }
            },
            "type": "parcoords"
           }
          ],
          "pie": [
           {
            "automargin": true,
            "type": "pie"
           }
          ],
          "scatter": [
           {
            "fillpattern": {
             "fillmode": "overlay",
             "size": 10,
             "solidity": 0.2
            },
            "type": "scatter"
           }
          ],
          "scatter3d": [
           {
            "line": {
             "colorbar": {
              "outlinewidth": 0,
              "ticks": ""
             }
            },
            "marker": {
             "colorbar": {
              "outlinewidth": 0,
              "ticks": ""
             }
            },
            "type": "scatter3d"
           }
          ],
          "scattercarpet": [
           {
            "marker": {
             "colorbar": {
              "outlinewidth": 0,
              "ticks": ""
             }
            },
            "type": "scattercarpet"
           }
          ],
          "scattergeo": [
           {
            "marker": {
             "colorbar": {
              "outlinewidth": 0,
              "ticks": ""
             }
            },
            "type": "scattergeo"
           }
          ],
          "scattergl": [
           {
            "marker": {
             "colorbar": {
              "outlinewidth": 0,
              "ticks": ""
             }
            },
            "type": "scattergl"
           }
          ],
          "scattermap": [
           {
            "marker": {
             "colorbar": {
              "outlinewidth": 0,
              "ticks": ""
             }
            },
            "type": "scattermap"
           }
          ],
          "scattermapbox": [
           {
            "marker": {
             "colorbar": {
              "outlinewidth": 0,
              "ticks": ""
             }
            },
            "type": "scattermapbox"
           }
          ],
          "scatterpolar": [
           {
            "marker": {
             "colorbar": {
              "outlinewidth": 0,
              "ticks": ""
             }
            },
            "type": "scatterpolar"
           }
          ],
          "scatterpolargl": [
           {
            "marker": {
             "colorbar": {
              "outlinewidth": 0,
              "ticks": ""
             }
            },
            "type": "scatterpolargl"
           }
          ],
          "scatterternary": [
           {
            "marker": {
             "colorbar": {
              "outlinewidth": 0,
              "ticks": ""
             }
            },
            "type": "scatterternary"
           }
          ],
          "surface": [
           {
            "colorbar": {
             "outlinewidth": 0,
             "ticks": ""
            },
            "colorscale": [
             [
              0,
              "#0d0887"
             ],
             [
              0.1111111111111111,
              "#46039f"
             ],
             [
              0.2222222222222222,
              "#7201a8"
             ],
             [
              0.3333333333333333,
              "#9c179e"
             ],
             [
              0.4444444444444444,
              "#bd3786"
             ],
             [
              0.5555555555555556,
              "#d8576b"
             ],
             [
              0.6666666666666666,
              "#ed7953"
             ],
             [
              0.7777777777777778,
              "#fb9f3a"
             ],
             [
              0.8888888888888888,
              "#fdca26"
             ],
             [
              1,
              "#f0f921"
             ]
            ],
            "type": "surface"
           }
          ],
          "table": [
           {
            "cells": {
             "fill": {
              "color": "#EBF0F8"
             },
             "line": {
              "color": "white"
             }
            },
            "header": {
             "fill": {
              "color": "#C8D4E3"
             },
             "line": {
              "color": "white"
             }
            },
            "type": "table"
           }
          ]
         },
         "layout": {
          "annotationdefaults": {
           "arrowcolor": "#2a3f5f",
           "arrowhead": 0,
           "arrowwidth": 1
          },
          "autotypenumbers": "strict",
          "coloraxis": {
           "colorbar": {
            "outlinewidth": 0,
            "ticks": ""
           }
          },
          "colorscale": {
           "diverging": [
            [
             0,
             "#8e0152"
            ],
            [
             0.1,
             "#c51b7d"
            ],
            [
             0.2,
             "#de77ae"
            ],
            [
             0.3,
             "#f1b6da"
            ],
            [
             0.4,
             "#fde0ef"
            ],
            [
             0.5,
             "#f7f7f7"
            ],
            [
             0.6,
             "#e6f5d0"
            ],
            [
             0.7,
             "#b8e186"
            ],
            [
             0.8,
             "#7fbc41"
            ],
            [
             0.9,
             "#4d9221"
            ],
            [
             1,
             "#276419"
            ]
           ],
           "sequential": [
            [
             0,
             "#0d0887"
            ],
            [
             0.1111111111111111,
             "#46039f"
            ],
            [
             0.2222222222222222,
             "#7201a8"
            ],
            [
             0.3333333333333333,
             "#9c179e"
            ],
            [
             0.4444444444444444,
             "#bd3786"
            ],
            [
             0.5555555555555556,
             "#d8576b"
            ],
            [
             0.6666666666666666,
             "#ed7953"
            ],
            [
             0.7777777777777778,
             "#fb9f3a"
            ],
            [
             0.8888888888888888,
             "#fdca26"
            ],
            [
             1,
             "#f0f921"
            ]
           ],
           "sequentialminus": [
            [
             0,
             "#0d0887"
            ],
            [
             0.1111111111111111,
             "#46039f"
            ],
            [
             0.2222222222222222,
             "#7201a8"
            ],
            [
             0.3333333333333333,
             "#9c179e"
            ],
            [
             0.4444444444444444,
             "#bd3786"
            ],
            [
             0.5555555555555556,
             "#d8576b"
            ],
            [
             0.6666666666666666,
             "#ed7953"
            ],
            [
             0.7777777777777778,
             "#fb9f3a"
            ],
            [
             0.8888888888888888,
             "#fdca26"
            ],
            [
             1,
             "#f0f921"
            ]
           ]
          },
          "colorway": [
           "#636efa",
           "#EF553B",
           "#00cc96",
           "#ab63fa",
           "#FFA15A",
           "#19d3f3",
           "#FF6692",
           "#B6E880",
           "#FF97FF",
           "#FECB52"
          ],
          "font": {
           "color": "#2a3f5f"
          },
          "geo": {
           "bgcolor": "white",
           "lakecolor": "white",
           "landcolor": "#E5ECF6",
           "showlakes": true,
           "showland": true,
           "subunitcolor": "white"
          },
          "hoverlabel": {
           "align": "left"
          },
          "hovermode": "closest",
          "mapbox": {
           "style": "light"
          },
          "paper_bgcolor": "white",
          "plot_bgcolor": "#E5ECF6",
          "polar": {
           "angularaxis": {
            "gridcolor": "white",
            "linecolor": "white",
            "ticks": ""
           },
           "bgcolor": "#E5ECF6",
           "radialaxis": {
            "gridcolor": "white",
            "linecolor": "white",
            "ticks": ""
           }
          },
          "scene": {
           "xaxis": {
            "backgroundcolor": "#E5ECF6",
            "gridcolor": "white",
            "gridwidth": 2,
            "linecolor": "white",
            "showbackground": true,
            "ticks": "",
            "zerolinecolor": "white"
           },
           "yaxis": {
            "backgroundcolor": "#E5ECF6",
            "gridcolor": "white",
            "gridwidth": 2,
            "linecolor": "white",
            "showbackground": true,
            "ticks": "",
            "zerolinecolor": "white"
           },
           "zaxis": {
            "backgroundcolor": "#E5ECF6",
            "gridcolor": "white",
            "gridwidth": 2,
            "linecolor": "white",
            "showbackground": true,
            "ticks": "",
            "zerolinecolor": "white"
           }
          },
          "shapedefaults": {
           "line": {
            "color": "#2a3f5f"
           }
          },
          "ternary": {
           "aaxis": {
            "gridcolor": "white",
            "linecolor": "white",
            "ticks": ""
           },
           "baxis": {
            "gridcolor": "white",
            "linecolor": "white",
            "ticks": ""
           },
           "bgcolor": "#E5ECF6",
           "caxis": {
            "gridcolor": "white",
            "linecolor": "white",
            "ticks": ""
           }
          },
          "title": {
           "x": 0.05
          },
          "xaxis": {
           "automargin": true,
           "gridcolor": "white",
           "linecolor": "white",
           "ticks": "",
           "title": {
            "standoff": 15
           },
           "zerolinecolor": "white",
           "zerolinewidth": 2
          },
          "yaxis": {
           "automargin": true,
           "gridcolor": "white",
           "linecolor": "white",
           "ticks": "",
           "title": {
            "standoff": 15
           },
           "zerolinecolor": "white",
           "zerolinewidth": 2
          }
         }
        },
        "title": {
         "text": "Scatter Plot of Work Hours with Trend Line"
        },
        "xaxis": {
         "anchor": "y",
         "domain": [
          0,
          1
         ],
         "title": {
          "text": "professional_id"
         }
        },
        "yaxis": {
         "anchor": "x",
         "domain": [
          0,
          1
         ],
         "title": {
          "text": "Work Hours"
         }
        }
       }
      }
     },
     "metadata": {},
     "output_type": "display_data"
    }
   ],
   "source": [
    "import plotly.express as px\n",
    "\n",
    "if 'professional_id' not in order_result.columns:\n",
    "    order_result = order_result.reset_index()\n",
    "    \n",
    "fig = px.scatter(\n",
    "    order_result,\n",
    "    x=\"professional_id\",\n",
    "    y=[\"2025-01\", \"2025-02\", \"2025-03\"],\n",
    "    title=\"Scatter Plot of Work Hours with Trend Line\",\n",
    "    labels={\"value\": \"Work Hours\", \"variable\": \"Month\"},\n",
    "    trendline=\"ols\"\n",
    ")\n",
    "\n",
    "fig.show()\n"
   ]
  },
  {
   "cell_type": "markdown",
   "id": "e5186cd8",
   "metadata": {},
   "source": [
    "#### **2nd Task:** Rating Score\n",
    "\n",
    "Get Data from profession_id with work hour more than or equal to 80 hours up from the last 3 months (January - March 2025) to filter the following tasks:\n",
    "<ol>\n",
    "    <li>Task: professional_id ✅ <b>DONE!</b></li>\n",
    "    <li>Task: Work Hour on January / February / March ✅ <b>DONE!</b></li>\n",
    "    <li>Task: Rating/Review Score from the last 3 months</li>\n",
    "    <li>Task: Service Quality Problem from the last 3 month</li>\n",
    "    <li>Task: Cancel Problem from the last 3 months</li>\n",
    "</ol>\n",
    "\n",
    "<div class=\"alert alert-block alert-info\">\n",
    "\n",
    "**Tools/Techniques:** Use Pandas **GroupBy** and **Pivot Table** functions for these Tasks\n",
    "\n",
    "</div>"
   ]
  },
  {
   "cell_type": "code",
   "execution_count": null,
   "id": "30056482",
   "metadata": {},
   "outputs": [
    {
     "data": {
      "text/html": [
       "<div>\n",
       "<style scoped>\n",
       "    .dataframe tbody tr th:only-of-type {\n",
       "        vertical-align: middle;\n",
       "    }\n",
       "\n",
       "    .dataframe tbody tr th {\n",
       "        vertical-align: top;\n",
       "    }\n",
       "\n",
       "    .dataframe thead th {\n",
       "        text-align: right;\n",
       "    }\n",
       "</style>\n",
       "<table border=\"1\" class=\"dataframe\">\n",
       "  <thead>\n",
       "    <tr style=\"text-align: right;\">\n",
       "      <th></th>\n",
       "      <th>booking_id</th>\n",
       "      <th>professional_id</th>\n",
       "      <th>rating</th>\n",
       "      <th>review_date</th>\n",
       "    </tr>\n",
       "  </thead>\n",
       "  <tbody>\n",
       "    <tr>\n",
       "      <th>0</th>\n",
       "      <td>42</td>\n",
       "      <td>7</td>\n",
       "      <td>5.0</td>\n",
       "      <td>2016-04-14 21:30:08</td>\n",
       "    </tr>\n",
       "    <tr>\n",
       "      <th>1</th>\n",
       "      <td>39</td>\n",
       "      <td>7</td>\n",
       "      <td>5.0</td>\n",
       "      <td>2016-04-16 21:07:52</td>\n",
       "    </tr>\n",
       "    <tr>\n",
       "      <th>2</th>\n",
       "      <td>53</td>\n",
       "      <td>6</td>\n",
       "      <td>4.5</td>\n",
       "      <td>2016-04-17 14:00:00</td>\n",
       "    </tr>\n",
       "    <tr>\n",
       "      <th>3</th>\n",
       "      <td>40</td>\n",
       "      <td>7</td>\n",
       "      <td>5.0</td>\n",
       "      <td>2016-04-18 21:26:28</td>\n",
       "    </tr>\n",
       "    <tr>\n",
       "      <th>4</th>\n",
       "      <td>73</td>\n",
       "      <td>7</td>\n",
       "      <td>5.0</td>\n",
       "      <td>2016-04-20 15:13:19</td>\n",
       "    </tr>\n",
       "    <tr>\n",
       "      <th>...</th>\n",
       "      <td>...</td>\n",
       "      <td>...</td>\n",
       "      <td>...</td>\n",
       "      <td>...</td>\n",
       "    </tr>\n",
       "    <tr>\n",
       "      <th>296684</th>\n",
       "      <td>2504298PD1</td>\n",
       "      <td>10953</td>\n",
       "      <td>5.0</td>\n",
       "      <td>2025-04-29 16:12:19</td>\n",
       "    </tr>\n",
       "    <tr>\n",
       "      <th>296685</th>\n",
       "      <td>2504273879</td>\n",
       "      <td>12617</td>\n",
       "      <td>4.0</td>\n",
       "      <td>2025-04-29 16:13:26</td>\n",
       "    </tr>\n",
       "    <tr>\n",
       "      <th>296686</th>\n",
       "      <td>250425CRYX</td>\n",
       "      <td>12071</td>\n",
       "      <td>5.0</td>\n",
       "      <td>2025-04-29 16:18:59</td>\n",
       "    </tr>\n",
       "    <tr>\n",
       "      <th>296687</th>\n",
       "      <td>250427ZXX8</td>\n",
       "      <td>1256</td>\n",
       "      <td>5.0</td>\n",
       "      <td>2025-04-29 16:23:47</td>\n",
       "    </tr>\n",
       "    <tr>\n",
       "      <th>296688</th>\n",
       "      <td>250427G242</td>\n",
       "      <td>12125</td>\n",
       "      <td>5.0</td>\n",
       "      <td>2025-04-29 16:24:59</td>\n",
       "    </tr>\n",
       "  </tbody>\n",
       "</table>\n",
       "<p>296689 rows × 4 columns</p>\n",
       "</div>"
      ],
      "text/plain": [
       "        booking_id  professional_id  rating          review_date\n",
       "0               42                7     5.0  2016-04-14 21:30:08\n",
       "1               39                7     5.0  2016-04-16 21:07:52\n",
       "2               53                6     4.5  2016-04-17 14:00:00\n",
       "3               40                7     5.0  2016-04-18 21:26:28\n",
       "4               73                7     5.0  2016-04-20 15:13:19\n",
       "...            ...              ...     ...                  ...\n",
       "296684  2504298PD1            10953     5.0  2025-04-29 16:12:19\n",
       "296685  2504273879            12617     4.0  2025-04-29 16:13:26\n",
       "296686  250425CRYX            12071     5.0  2025-04-29 16:18:59\n",
       "296687  250427ZXX8             1256     5.0  2025-04-29 16:23:47\n",
       "296688  250427G242            12125     5.0  2025-04-29 16:24:59\n",
       "\n",
       "[296689 rows x 4 columns]"
      ]
     },
     "execution_count": 47,
     "metadata": {},
     "output_type": "execute_result"
    }
   ],
   "source": [
    "# rating = pd.read_csv(\"professional_rating_raw.csv\")\n",
    "rating"
   ]
  },
  {
   "cell_type": "markdown",
   "id": "2384f33b",
   "metadata": {},
   "source": [
    "##### **Filter:** Rating Data by Month"
   ]
  },
  {
   "cell_type": "code",
   "execution_count": 48,
   "id": "a593708e",
   "metadata": {},
   "outputs": [
    {
     "data": {
      "text/html": [
       "<div>\n",
       "<style scoped>\n",
       "    .dataframe tbody tr th:only-of-type {\n",
       "        vertical-align: middle;\n",
       "    }\n",
       "\n",
       "    .dataframe tbody tr th {\n",
       "        vertical-align: top;\n",
       "    }\n",
       "\n",
       "    .dataframe thead th {\n",
       "        text-align: right;\n",
       "    }\n",
       "</style>\n",
       "<table border=\"1\" class=\"dataframe\">\n",
       "  <thead>\n",
       "    <tr style=\"text-align: right;\">\n",
       "      <th></th>\n",
       "      <th>booking_id</th>\n",
       "      <th>professional_id</th>\n",
       "      <th>rating</th>\n",
       "      <th>review_date</th>\n",
       "      <th>date</th>\n",
       "      <th>time</th>\n",
       "      <th>review_month</th>\n",
       "    </tr>\n",
       "  </thead>\n",
       "  <tbody>\n",
       "    <tr>\n",
       "      <th>0</th>\n",
       "      <td>42</td>\n",
       "      <td>7</td>\n",
       "      <td>5.0</td>\n",
       "      <td>2016-04-14 21:30:08</td>\n",
       "      <td>2016-04-14</td>\n",
       "      <td>21:30:08</td>\n",
       "      <td>2016-04</td>\n",
       "    </tr>\n",
       "    <tr>\n",
       "      <th>1</th>\n",
       "      <td>39</td>\n",
       "      <td>7</td>\n",
       "      <td>5.0</td>\n",
       "      <td>2016-04-16 21:07:52</td>\n",
       "      <td>2016-04-16</td>\n",
       "      <td>21:07:52</td>\n",
       "      <td>2016-04</td>\n",
       "    </tr>\n",
       "    <tr>\n",
       "      <th>2</th>\n",
       "      <td>53</td>\n",
       "      <td>6</td>\n",
       "      <td>4.5</td>\n",
       "      <td>2016-04-17 14:00:00</td>\n",
       "      <td>2016-04-17</td>\n",
       "      <td>14:00:00</td>\n",
       "      <td>2016-04</td>\n",
       "    </tr>\n",
       "    <tr>\n",
       "      <th>3</th>\n",
       "      <td>40</td>\n",
       "      <td>7</td>\n",
       "      <td>5.0</td>\n",
       "      <td>2016-04-18 21:26:28</td>\n",
       "      <td>2016-04-18</td>\n",
       "      <td>21:26:28</td>\n",
       "      <td>2016-04</td>\n",
       "    </tr>\n",
       "    <tr>\n",
       "      <th>4</th>\n",
       "      <td>73</td>\n",
       "      <td>7</td>\n",
       "      <td>5.0</td>\n",
       "      <td>2016-04-20 15:13:19</td>\n",
       "      <td>2016-04-20</td>\n",
       "      <td>15:13:19</td>\n",
       "      <td>2016-04</td>\n",
       "    </tr>\n",
       "  </tbody>\n",
       "</table>\n",
       "</div>"
      ],
      "text/plain": [
       "  booking_id  professional_id  rating          review_date        date  \\\n",
       "0         42                7     5.0  2016-04-14 21:30:08  2016-04-14   \n",
       "1         39                7     5.0  2016-04-16 21:07:52  2016-04-16   \n",
       "2         53                6     4.5  2016-04-17 14:00:00  2016-04-17   \n",
       "3         40                7     5.0  2016-04-18 21:26:28  2016-04-18   \n",
       "4         73                7     5.0  2016-04-20 15:13:19  2016-04-20   \n",
       "\n",
       "       time review_month  \n",
       "0  21:30:08      2016-04  \n",
       "1  21:07:52      2016-04  \n",
       "2  14:00:00      2016-04  \n",
       "3  21:26:28      2016-04  \n",
       "4  15:13:19      2016-04  "
      ]
     },
     "execution_count": 48,
     "metadata": {},
     "output_type": "execute_result"
    }
   ],
   "source": [
    "rating[[\"date\", \"time\"]] = rating[\"review_date\"].str.split(\" \", expand=True)\n",
    "rating[\"review_month\"] = rating[\"date\"].str.slice(stop = 7)\n",
    "rating.head()"
   ]
  },
  {
   "cell_type": "code",
   "execution_count": 50,
   "id": "1a469690",
   "metadata": {},
   "outputs": [
    {
     "data": {
      "text/html": [
       "<div>\n",
       "<style scoped>\n",
       "    .dataframe tbody tr th:only-of-type {\n",
       "        vertical-align: middle;\n",
       "    }\n",
       "\n",
       "    .dataframe tbody tr th {\n",
       "        vertical-align: top;\n",
       "    }\n",
       "\n",
       "    .dataframe thead th {\n",
       "        text-align: right;\n",
       "    }\n",
       "</style>\n",
       "<table border=\"1\" class=\"dataframe\">\n",
       "  <thead>\n",
       "    <tr style=\"text-align: right;\">\n",
       "      <th></th>\n",
       "      <th>booking_id</th>\n",
       "      <th>professional_id</th>\n",
       "      <th>rating</th>\n",
       "      <th>review_date</th>\n",
       "      <th>date</th>\n",
       "      <th>time</th>\n",
       "      <th>review_month</th>\n",
       "    </tr>\n",
       "  </thead>\n",
       "  <tbody>\n",
       "    <tr>\n",
       "      <th>273848</th>\n",
       "      <td>2412294F7S</td>\n",
       "      <td>5859</td>\n",
       "      <td>5.0</td>\n",
       "      <td>2025-01-01 01:15:17</td>\n",
       "      <td>2025-01-01</td>\n",
       "      <td>01:15:17</td>\n",
       "      <td>2025-01</td>\n",
       "    </tr>\n",
       "    <tr>\n",
       "      <th>273849</th>\n",
       "      <td>241226Q97L</td>\n",
       "      <td>10110</td>\n",
       "      <td>5.0</td>\n",
       "      <td>2025-01-01 01:35:33</td>\n",
       "      <td>2025-01-01</td>\n",
       "      <td>01:35:33</td>\n",
       "      <td>2025-01</td>\n",
       "    </tr>\n",
       "    <tr>\n",
       "      <th>273850</th>\n",
       "      <td>241230GWV4</td>\n",
       "      <td>9503</td>\n",
       "      <td>5.0</td>\n",
       "      <td>2025-01-01 02:18:09</td>\n",
       "      <td>2025-01-01</td>\n",
       "      <td>02:18:09</td>\n",
       "      <td>2025-01</td>\n",
       "    </tr>\n",
       "    <tr>\n",
       "      <th>273851</th>\n",
       "      <td>241220AQAS</td>\n",
       "      <td>9338</td>\n",
       "      <td>5.0</td>\n",
       "      <td>2025-01-01 04:06:38</td>\n",
       "      <td>2025-01-01</td>\n",
       "      <td>04:06:38</td>\n",
       "      <td>2025-01</td>\n",
       "    </tr>\n",
       "    <tr>\n",
       "      <th>273852</th>\n",
       "      <td>2405157J5L</td>\n",
       "      <td>5341</td>\n",
       "      <td>5.0</td>\n",
       "      <td>2025-01-01 06:17:13</td>\n",
       "      <td>2025-01-01</td>\n",
       "      <td>06:17:13</td>\n",
       "      <td>2025-01</td>\n",
       "    </tr>\n",
       "    <tr>\n",
       "      <th>...</th>\n",
       "      <td>...</td>\n",
       "      <td>...</td>\n",
       "      <td>...</td>\n",
       "      <td>...</td>\n",
       "      <td>...</td>\n",
       "      <td>...</td>\n",
       "      <td>...</td>\n",
       "    </tr>\n",
       "    <tr>\n",
       "      <th>291344</th>\n",
       "      <td>250330VXTK</td>\n",
       "      <td>9191</td>\n",
       "      <td>5.0</td>\n",
       "      <td>2025-03-31 22:56:46</td>\n",
       "      <td>2025-03-31</td>\n",
       "      <td>22:56:46</td>\n",
       "      <td>2025-03</td>\n",
       "    </tr>\n",
       "    <tr>\n",
       "      <th>291345</th>\n",
       "      <td>250330P2Y3</td>\n",
       "      <td>9233</td>\n",
       "      <td>5.0</td>\n",
       "      <td>2025-03-31 23:06:38</td>\n",
       "      <td>2025-03-31</td>\n",
       "      <td>23:06:38</td>\n",
       "      <td>2025-03</td>\n",
       "    </tr>\n",
       "    <tr>\n",
       "      <th>291346</th>\n",
       "      <td>250324QCLU</td>\n",
       "      <td>10216</td>\n",
       "      <td>5.0</td>\n",
       "      <td>2025-03-31 23:15:50</td>\n",
       "      <td>2025-03-31</td>\n",
       "      <td>23:15:50</td>\n",
       "      <td>2025-03</td>\n",
       "    </tr>\n",
       "    <tr>\n",
       "      <th>291347</th>\n",
       "      <td>250330HF44</td>\n",
       "      <td>5273</td>\n",
       "      <td>5.0</td>\n",
       "      <td>2025-03-31 23:35:44</td>\n",
       "      <td>2025-03-31</td>\n",
       "      <td>23:35:44</td>\n",
       "      <td>2025-03</td>\n",
       "    </tr>\n",
       "    <tr>\n",
       "      <th>291348</th>\n",
       "      <td>250326JF4K</td>\n",
       "      <td>12336</td>\n",
       "      <td>5.0</td>\n",
       "      <td>2025-03-31 23:39:02</td>\n",
       "      <td>2025-03-31</td>\n",
       "      <td>23:39:02</td>\n",
       "      <td>2025-03</td>\n",
       "    </tr>\n",
       "  </tbody>\n",
       "</table>\n",
       "<p>17501 rows × 7 columns</p>\n",
       "</div>"
      ],
      "text/plain": [
       "        booking_id  professional_id  rating          review_date        date  \\\n",
       "273848  2412294F7S             5859     5.0  2025-01-01 01:15:17  2025-01-01   \n",
       "273849  241226Q97L            10110     5.0  2025-01-01 01:35:33  2025-01-01   \n",
       "273850  241230GWV4             9503     5.0  2025-01-01 02:18:09  2025-01-01   \n",
       "273851  241220AQAS             9338     5.0  2025-01-01 04:06:38  2025-01-01   \n",
       "273852  2405157J5L             5341     5.0  2025-01-01 06:17:13  2025-01-01   \n",
       "...            ...              ...     ...                  ...         ...   \n",
       "291344  250330VXTK             9191     5.0  2025-03-31 22:56:46  2025-03-31   \n",
       "291345  250330P2Y3             9233     5.0  2025-03-31 23:06:38  2025-03-31   \n",
       "291346  250324QCLU            10216     5.0  2025-03-31 23:15:50  2025-03-31   \n",
       "291347  250330HF44             5273     5.0  2025-03-31 23:35:44  2025-03-31   \n",
       "291348  250326JF4K            12336     5.0  2025-03-31 23:39:02  2025-03-31   \n",
       "\n",
       "            time review_month  \n",
       "273848  01:15:17      2025-01  \n",
       "273849  01:35:33      2025-01  \n",
       "273850  02:18:09      2025-01  \n",
       "273851  04:06:38      2025-01  \n",
       "273852  06:17:13      2025-01  \n",
       "...          ...          ...  \n",
       "291344  22:56:46      2025-03  \n",
       "291345  23:06:38      2025-03  \n",
       "291346  23:15:50      2025-03  \n",
       "291347  23:35:44      2025-03  \n",
       "291348  23:39:02      2025-03  \n",
       "\n",
       "[17501 rows x 7 columns]"
      ]
     },
     "execution_count": 50,
     "metadata": {},
     "output_type": "execute_result"
    }
   ],
   "source": [
    "filter_month = rating[(rating[\"review_month\"] >= \"2025-01\") & (rating[\"review_month\"] <= \"2025-03\")]\n",
    "filter_month"
   ]
  },
  {
   "cell_type": "code",
   "execution_count": 51,
   "id": "8defb430",
   "metadata": {},
   "outputs": [
    {
     "data": {
      "text/plain": [
       "array(['2025-01', '2025-02', '2025-03'], dtype=object)"
      ]
     },
     "execution_count": 51,
     "metadata": {},
     "output_type": "execute_result"
    }
   ],
   "source": [
    "filter_month.review_month.unique()"
   ]
  },
  {
   "cell_type": "code",
   "execution_count": 52,
   "id": "21a88420",
   "metadata": {},
   "outputs": [
    {
     "data": {
      "text/plain": [
       "professional_id\n",
       "732      71\n",
       "11993    58\n",
       "10744    51\n",
       "10129    50\n",
       "11528    48\n",
       "         ..\n",
       "11447     1\n",
       "5094      1\n",
       "9349      1\n",
       "2607      1\n",
       "8590      1\n",
       "Name: count, Length: 1934, dtype: int64"
      ]
     },
     "execution_count": 52,
     "metadata": {},
     "output_type": "execute_result"
    }
   ],
   "source": [
    "filter_month.professional_id.value_counts()"
   ]
  },
  {
   "cell_type": "markdown",
   "id": "8d9c38f6",
   "metadata": {},
   "source": [
    "##### **GroupBy:** cleaning_month, professional_id\n",
    "\n",
    "**Calculate:** Average Rating"
   ]
  },
  {
   "cell_type": "code",
   "execution_count": 58,
   "id": "63ac788f",
   "metadata": {},
   "outputs": [
    {
     "data": {
      "text/html": [
       "<div>\n",
       "<style scoped>\n",
       "    .dataframe tbody tr th:only-of-type {\n",
       "        vertical-align: middle;\n",
       "    }\n",
       "\n",
       "    .dataframe tbody tr th {\n",
       "        vertical-align: top;\n",
       "    }\n",
       "\n",
       "    .dataframe thead th {\n",
       "        text-align: right;\n",
       "    }\n",
       "</style>\n",
       "<table border=\"1\" class=\"dataframe\">\n",
       "  <thead>\n",
       "    <tr style=\"text-align: right;\">\n",
       "      <th></th>\n",
       "      <th>review_month</th>\n",
       "      <th>professional_id</th>\n",
       "      <th>avr_review</th>\n",
       "    </tr>\n",
       "  </thead>\n",
       "  <tbody>\n",
       "    <tr>\n",
       "      <th>0</th>\n",
       "      <td>2025-01</td>\n",
       "      <td>21</td>\n",
       "      <td>5.0</td>\n",
       "    </tr>\n",
       "    <tr>\n",
       "      <th>1</th>\n",
       "      <td>2025-01</td>\n",
       "      <td>79</td>\n",
       "      <td>5.0</td>\n",
       "    </tr>\n",
       "    <tr>\n",
       "      <th>2</th>\n",
       "      <td>2025-01</td>\n",
       "      <td>104</td>\n",
       "      <td>5.0</td>\n",
       "    </tr>\n",
       "    <tr>\n",
       "      <th>3</th>\n",
       "      <td>2025-01</td>\n",
       "      <td>145</td>\n",
       "      <td>5.0</td>\n",
       "    </tr>\n",
       "    <tr>\n",
       "      <th>4</th>\n",
       "      <td>2025-01</td>\n",
       "      <td>203</td>\n",
       "      <td>5.0</td>\n",
       "    </tr>\n",
       "    <tr>\n",
       "      <th>...</th>\n",
       "      <td>...</td>\n",
       "      <td>...</td>\n",
       "      <td>...</td>\n",
       "    </tr>\n",
       "    <tr>\n",
       "      <th>4316</th>\n",
       "      <td>2025-03</td>\n",
       "      <td>12516</td>\n",
       "      <td>5.0</td>\n",
       "    </tr>\n",
       "    <tr>\n",
       "      <th>4317</th>\n",
       "      <td>2025-03</td>\n",
       "      <td>12517</td>\n",
       "      <td>5.0</td>\n",
       "    </tr>\n",
       "    <tr>\n",
       "      <th>4318</th>\n",
       "      <td>2025-03</td>\n",
       "      <td>12539</td>\n",
       "      <td>5.0</td>\n",
       "    </tr>\n",
       "    <tr>\n",
       "      <th>4319</th>\n",
       "      <td>2025-03</td>\n",
       "      <td>12541</td>\n",
       "      <td>5.0</td>\n",
       "    </tr>\n",
       "    <tr>\n",
       "      <th>4320</th>\n",
       "      <td>2025-03</td>\n",
       "      <td>12549</td>\n",
       "      <td>5.0</td>\n",
       "    </tr>\n",
       "  </tbody>\n",
       "</table>\n",
       "<p>4321 rows × 3 columns</p>\n",
       "</div>"
      ],
      "text/plain": [
       "     review_month  professional_id  avr_review\n",
       "0         2025-01               21         5.0\n",
       "1         2025-01               79         5.0\n",
       "2         2025-01              104         5.0\n",
       "3         2025-01              145         5.0\n",
       "4         2025-01              203         5.0\n",
       "...           ...              ...         ...\n",
       "4316      2025-03            12516         5.0\n",
       "4317      2025-03            12517         5.0\n",
       "4318      2025-03            12539         5.0\n",
       "4319      2025-03            12541         5.0\n",
       "4320      2025-03            12549         5.0\n",
       "\n",
       "[4321 rows x 3 columns]"
      ]
     },
     "execution_count": 58,
     "metadata": {},
     "output_type": "execute_result"
    }
   ],
   "source": [
    "rating_group = filter_month.groupby([\"review_month\", \"professional_id\"]).agg(\n",
    "                              avr_review=(\"rating\", \"mean\")\n",
    "                              ).reset_index()\n",
    "rating_group"
   ]
  },
  {
   "cell_type": "markdown",
   "id": "8371ed76",
   "metadata": {},
   "source": [
    "Checking that the grouped data is valid"
   ]
  },
  {
   "cell_type": "code",
   "execution_count": 60,
   "id": "5ebd80c6",
   "metadata": {},
   "outputs": [
    {
     "data": {
      "text/html": [
       "<div>\n",
       "<style scoped>\n",
       "    .dataframe tbody tr th:only-of-type {\n",
       "        vertical-align: middle;\n",
       "    }\n",
       "\n",
       "    .dataframe tbody tr th {\n",
       "        vertical-align: top;\n",
       "    }\n",
       "\n",
       "    .dataframe thead th {\n",
       "        text-align: right;\n",
       "    }\n",
       "</style>\n",
       "<table border=\"1\" class=\"dataframe\">\n",
       "  <thead>\n",
       "    <tr style=\"text-align: right;\">\n",
       "      <th></th>\n",
       "      <th>review_month</th>\n",
       "      <th>professional_id</th>\n",
       "      <th>avr_review</th>\n",
       "    </tr>\n",
       "  </thead>\n",
       "  <tbody>\n",
       "    <tr>\n",
       "      <th>4</th>\n",
       "      <td>2025-01</td>\n",
       "      <td>203</td>\n",
       "      <td>5.0</td>\n",
       "    </tr>\n",
       "    <tr>\n",
       "      <th>1455</th>\n",
       "      <td>2025-02</td>\n",
       "      <td>203</td>\n",
       "      <td>5.0</td>\n",
       "    </tr>\n",
       "    <tr>\n",
       "      <th>2872</th>\n",
       "      <td>2025-03</td>\n",
       "      <td>203</td>\n",
       "      <td>5.0</td>\n",
       "    </tr>\n",
       "  </tbody>\n",
       "</table>\n",
       "</div>"
      ],
      "text/plain": [
       "     review_month  professional_id  avr_review\n",
       "4         2025-01              203         5.0\n",
       "1455      2025-02              203         5.0\n",
       "2872      2025-03              203         5.0"
      ]
     },
     "execution_count": 60,
     "metadata": {},
     "output_type": "execute_result"
    }
   ],
   "source": [
    "rating_group[rating_group[\"professional_id\"] == 203]"
   ]
  },
  {
   "cell_type": "code",
   "execution_count": 62,
   "id": "d57d41ac",
   "metadata": {},
   "outputs": [
    {
     "data": {
      "text/plain": [
       "rating\n",
       "5.0    1367\n",
       "4.0      11\n",
       "3.0       2\n",
       "Name: count, dtype: int64"
      ]
     },
     "execution_count": 62,
     "metadata": {},
     "output_type": "execute_result"
    }
   ],
   "source": [
    "rating[rating[\"professional_id\"] == 203][\"rating\"].value_counts()"
   ]
  },
  {
   "cell_type": "code",
   "execution_count": 70,
   "id": "30b99d70",
   "metadata": {},
   "outputs": [
    {
     "data": {
      "text/plain": [
       "avr_review\n",
       "5.000000    3582\n",
       "4.500000      76\n",
       "4.666667      73\n",
       "4.000000      64\n",
       "4.750000      54\n",
       "            ... \n",
       "3.250000       1\n",
       "4.100000       1\n",
       "4.375000       1\n",
       "3.714286       1\n",
       "4.545455       1\n",
       "Name: count, Length: 76, dtype: int64"
      ]
     },
     "execution_count": 70,
     "metadata": {},
     "output_type": "execute_result"
    }
   ],
   "source": [
    "rating_group[\"avr_review\"].value_counts()"
   ]
  },
  {
   "cell_type": "code",
   "execution_count": 89,
   "id": "0001ec3e",
   "metadata": {},
   "outputs": [
    {
     "data": {
      "text/html": [
       "<div>\n",
       "<style scoped>\n",
       "    .dataframe tbody tr th:only-of-type {\n",
       "        vertical-align: middle;\n",
       "    }\n",
       "\n",
       "    .dataframe tbody tr th {\n",
       "        vertical-align: top;\n",
       "    }\n",
       "\n",
       "    .dataframe thead th {\n",
       "        text-align: right;\n",
       "    }\n",
       "</style>\n",
       "<table border=\"1\" class=\"dataframe\">\n",
       "  <thead>\n",
       "    <tr style=\"text-align: right;\">\n",
       "      <th></th>\n",
       "      <th>review_month</th>\n",
       "      <th>professional_id</th>\n",
       "      <th>avr_review</th>\n",
       "    </tr>\n",
       "  </thead>\n",
       "  <tbody>\n",
       "    <tr>\n",
       "      <th>2396</th>\n",
       "      <td>2025-02</td>\n",
       "      <td>10988</td>\n",
       "      <td>3.25</td>\n",
       "    </tr>\n",
       "  </tbody>\n",
       "</table>\n",
       "</div>"
      ],
      "text/plain": [
       "     review_month  professional_id  avr_review\n",
       "2396      2025-02            10988        3.25"
      ]
     },
     "execution_count": 89,
     "metadata": {},
     "output_type": "execute_result"
    }
   ],
   "source": [
    "rating_group[rating_group[\"avr_review\"] == 3.25]"
   ]
  },
  {
   "cell_type": "code",
   "execution_count": 91,
   "id": "e17c4a36",
   "metadata": {},
   "outputs": [
    {
     "data": {
      "text/html": [
       "<div>\n",
       "<style scoped>\n",
       "    .dataframe tbody tr th:only-of-type {\n",
       "        vertical-align: middle;\n",
       "    }\n",
       "\n",
       "    .dataframe tbody tr th {\n",
       "        vertical-align: top;\n",
       "    }\n",
       "\n",
       "    .dataframe thead th {\n",
       "        text-align: right;\n",
       "    }\n",
       "</style>\n",
       "<table border=\"1\" class=\"dataframe\">\n",
       "  <thead>\n",
       "    <tr style=\"text-align: right;\">\n",
       "      <th></th>\n",
       "      <th>review_month</th>\n",
       "      <th>professional_id</th>\n",
       "      <th>avr_review</th>\n",
       "    </tr>\n",
       "  </thead>\n",
       "  <tbody>\n",
       "    <tr>\n",
       "      <th>1011</th>\n",
       "      <td>2025-01</td>\n",
       "      <td>10988</td>\n",
       "      <td>5.00</td>\n",
       "    </tr>\n",
       "    <tr>\n",
       "      <th>2396</th>\n",
       "      <td>2025-02</td>\n",
       "      <td>10988</td>\n",
       "      <td>3.25</td>\n",
       "    </tr>\n",
       "    <tr>\n",
       "      <th>3778</th>\n",
       "      <td>2025-03</td>\n",
       "      <td>10988</td>\n",
       "      <td>4.50</td>\n",
       "    </tr>\n",
       "  </tbody>\n",
       "</table>\n",
       "</div>"
      ],
      "text/plain": [
       "     review_month  professional_id  avr_review\n",
       "1011      2025-01            10988        5.00\n",
       "2396      2025-02            10988        3.25\n",
       "3778      2025-03            10988        4.50"
      ]
     },
     "execution_count": 91,
     "metadata": {},
     "output_type": "execute_result"
    }
   ],
   "source": [
    "rating_group[rating_group[\"professional_id\"] == 10988]"
   ]
  },
  {
   "cell_type": "code",
   "execution_count": 93,
   "id": "80ddb98d",
   "metadata": {},
   "outputs": [
    {
     "name": "stdout",
     "output_type": "stream",
     "text": [
      "Average Rating of 10988 in January is 5.0 ⭐⭐⭐⭐⭐\n",
      "Average Rating of 10988 in February is 3.25 ⭐⭐⭐\n",
      "Average Rating of 10988 in March is 4.5 ⭐⭐⭐⭐\n"
     ]
    },
    {
     "data": {
      "text/html": [
       "<div>\n",
       "<style scoped>\n",
       "    .dataframe tbody tr th:only-of-type {\n",
       "        vertical-align: middle;\n",
       "    }\n",
       "\n",
       "    .dataframe tbody tr th {\n",
       "        vertical-align: top;\n",
       "    }\n",
       "\n",
       "    .dataframe thead th {\n",
       "        text-align: right;\n",
       "    }\n",
       "</style>\n",
       "<table border=\"1\" class=\"dataframe\">\n",
       "  <thead>\n",
       "    <tr style=\"text-align: right;\">\n",
       "      <th></th>\n",
       "      <th>booking_id</th>\n",
       "      <th>professional_id</th>\n",
       "      <th>rating</th>\n",
       "      <th>review_date</th>\n",
       "      <th>date</th>\n",
       "      <th>time</th>\n",
       "      <th>review_month</th>\n",
       "    </tr>\n",
       "  </thead>\n",
       "  <tbody>\n",
       "    <tr>\n",
       "      <th>276225</th>\n",
       "      <td>250110AP8K</td>\n",
       "      <td>10988</td>\n",
       "      <td>5.0</td>\n",
       "      <td>2025-01-13 13:28:06</td>\n",
       "      <td>2025-01-13</td>\n",
       "      <td>13:28:06</td>\n",
       "      <td>2025-01</td>\n",
       "    </tr>\n",
       "    <tr>\n",
       "      <th>277085</th>\n",
       "      <td>250117TYC4</td>\n",
       "      <td>10988</td>\n",
       "      <td>5.0</td>\n",
       "      <td>2025-01-18 13:19:41</td>\n",
       "      <td>2025-01-18</td>\n",
       "      <td>13:19:41</td>\n",
       "      <td>2025-01</td>\n",
       "    </tr>\n",
       "    <tr>\n",
       "      <th>278445</th>\n",
       "      <td>250112CTKK</td>\n",
       "      <td>10988</td>\n",
       "      <td>5.0</td>\n",
       "      <td>2025-01-25 13:46:42</td>\n",
       "      <td>2025-01-25</td>\n",
       "      <td>13:46:42</td>\n",
       "      <td>2025-01</td>\n",
       "    </tr>\n",
       "    <tr>\n",
       "      <th>280450</th>\n",
       "      <td>25012732H8</td>\n",
       "      <td>10988</td>\n",
       "      <td>5.0</td>\n",
       "      <td>2025-02-03 18:14:23</td>\n",
       "      <td>2025-02-03</td>\n",
       "      <td>18:14:23</td>\n",
       "      <td>2025-02</td>\n",
       "    </tr>\n",
       "    <tr>\n",
       "      <th>282388</th>\n",
       "      <td>250212QXV3</td>\n",
       "      <td>10988</td>\n",
       "      <td>2.0</td>\n",
       "      <td>2025-02-13 07:57:46</td>\n",
       "      <td>2025-02-13</td>\n",
       "      <td>07:57:46</td>\n",
       "      <td>2025-02</td>\n",
       "    </tr>\n",
       "    <tr>\n",
       "      <th>283018</th>\n",
       "      <td>250210ZJT8</td>\n",
       "      <td>10988</td>\n",
       "      <td>1.0</td>\n",
       "      <td>2025-02-16 15:10:45</td>\n",
       "      <td>2025-02-16</td>\n",
       "      <td>15:10:45</td>\n",
       "      <td>2025-02</td>\n",
       "    </tr>\n",
       "    <tr>\n",
       "      <th>284495</th>\n",
       "      <td>250224F4YF</td>\n",
       "      <td>10988</td>\n",
       "      <td>5.0</td>\n",
       "      <td>2025-02-24 15:15:09</td>\n",
       "      <td>2025-02-24</td>\n",
       "      <td>15:15:09</td>\n",
       "      <td>2025-02</td>\n",
       "    </tr>\n",
       "    <tr>\n",
       "      <th>287050</th>\n",
       "      <td>250304PDNQ</td>\n",
       "      <td>10988</td>\n",
       "      <td>4.0</td>\n",
       "      <td>2025-03-08 20:10:18</td>\n",
       "      <td>2025-03-08</td>\n",
       "      <td>20:10:18</td>\n",
       "      <td>2025-03</td>\n",
       "    </tr>\n",
       "    <tr>\n",
       "      <th>288066</th>\n",
       "      <td>2503078PNR</td>\n",
       "      <td>10988</td>\n",
       "      <td>5.0</td>\n",
       "      <td>2025-03-13 21:16:25</td>\n",
       "      <td>2025-03-13</td>\n",
       "      <td>21:16:25</td>\n",
       "      <td>2025-03</td>\n",
       "    </tr>\n",
       "  </tbody>\n",
       "</table>\n",
       "</div>"
      ],
      "text/plain": [
       "        booking_id  professional_id  rating          review_date        date  \\\n",
       "276225  250110AP8K            10988     5.0  2025-01-13 13:28:06  2025-01-13   \n",
       "277085  250117TYC4            10988     5.0  2025-01-18 13:19:41  2025-01-18   \n",
       "278445  250112CTKK            10988     5.0  2025-01-25 13:46:42  2025-01-25   \n",
       "280450  25012732H8            10988     5.0  2025-02-03 18:14:23  2025-02-03   \n",
       "282388  250212QXV3            10988     2.0  2025-02-13 07:57:46  2025-02-13   \n",
       "283018  250210ZJT8            10988     1.0  2025-02-16 15:10:45  2025-02-16   \n",
       "284495  250224F4YF            10988     5.0  2025-02-24 15:15:09  2025-02-24   \n",
       "287050  250304PDNQ            10988     4.0  2025-03-08 20:10:18  2025-03-08   \n",
       "288066  2503078PNR            10988     5.0  2025-03-13 21:16:25  2025-03-13   \n",
       "\n",
       "            time review_month  \n",
       "276225  13:28:06      2025-01  \n",
       "277085  13:19:41      2025-01  \n",
       "278445  13:46:42      2025-01  \n",
       "280450  18:14:23      2025-02  \n",
       "282388  07:57:46      2025-02  \n",
       "283018  15:10:45      2025-02  \n",
       "284495  15:15:09      2025-02  \n",
       "287050  20:10:18      2025-03  \n",
       "288066  21:16:25      2025-03  "
      ]
     },
     "execution_count": 93,
     "metadata": {},
     "output_type": "execute_result"
    }
   ],
   "source": [
    "id = 10988\n",
    "temp = filter_month[filter_month[\"professional_id\"] == id]\n",
    "print(f\"Average Rating of {id} in January is {(5+5+5)/3} ⭐⭐⭐⭐⭐\")\n",
    "print(f\"Average Rating of {id} in February is {(5+2+1+5)/4} ⭐⭐⭐\")\n",
    "print(f\"Average Rating of {id} in March is {(4+5)/2} ⭐⭐⭐⭐\")\n",
    "temp"
   ]
  },
  {
   "cell_type": "markdown",
   "id": "699a6d55",
   "metadata": {},
   "source": [
    "##### **Pivot Table:** review_month for a ease of use\n",
    "<div class=\"alert alert-block alert-success\">\n",
    "\n",
    "**NaN value** in booking_id field has already been dealt with in Filter phase\n",
    "\n",
    "</div>"
   ]
  },
  {
   "cell_type": "code",
   "execution_count": 94,
   "id": "59e23256",
   "metadata": {},
   "outputs": [
    {
     "data": {
      "text/plain": [
       "review_month       0\n",
       "professional_id    0\n",
       "avr_review         0\n",
       "dtype: int64"
      ]
     },
     "execution_count": 94,
     "metadata": {},
     "output_type": "execute_result"
    }
   ],
   "source": [
    "rating_group.isnull().sum()"
   ]
  },
  {
   "cell_type": "code",
   "execution_count": 95,
   "id": "3f67089f",
   "metadata": {},
   "outputs": [
    {
     "data": {
      "text/html": [
       "<div>\n",
       "<style scoped>\n",
       "    .dataframe tbody tr th:only-of-type {\n",
       "        vertical-align: middle;\n",
       "    }\n",
       "\n",
       "    .dataframe tbody tr th {\n",
       "        vertical-align: top;\n",
       "    }\n",
       "\n",
       "    .dataframe thead th {\n",
       "        text-align: right;\n",
       "    }\n",
       "</style>\n",
       "<table border=\"1\" class=\"dataframe\">\n",
       "  <thead>\n",
       "    <tr style=\"text-align: right;\">\n",
       "      <th></th>\n",
       "      <th>review_month</th>\n",
       "      <th>professional_id</th>\n",
       "      <th>avr_review</th>\n",
       "    </tr>\n",
       "  </thead>\n",
       "  <tbody>\n",
       "    <tr>\n",
       "      <th>0</th>\n",
       "      <td>2025-01</td>\n",
       "      <td>21</td>\n",
       "      <td>5.0</td>\n",
       "    </tr>\n",
       "    <tr>\n",
       "      <th>1</th>\n",
       "      <td>2025-01</td>\n",
       "      <td>79</td>\n",
       "      <td>5.0</td>\n",
       "    </tr>\n",
       "    <tr>\n",
       "      <th>2</th>\n",
       "      <td>2025-01</td>\n",
       "      <td>104</td>\n",
       "      <td>5.0</td>\n",
       "    </tr>\n",
       "    <tr>\n",
       "      <th>3</th>\n",
       "      <td>2025-01</td>\n",
       "      <td>145</td>\n",
       "      <td>5.0</td>\n",
       "    </tr>\n",
       "    <tr>\n",
       "      <th>4</th>\n",
       "      <td>2025-01</td>\n",
       "      <td>203</td>\n",
       "      <td>5.0</td>\n",
       "    </tr>\n",
       "  </tbody>\n",
       "</table>\n",
       "</div>"
      ],
      "text/plain": [
       "  review_month  professional_id  avr_review\n",
       "0      2025-01               21         5.0\n",
       "1      2025-01               79         5.0\n",
       "2      2025-01              104         5.0\n",
       "3      2025-01              145         5.0\n",
       "4      2025-01              203         5.0"
      ]
     },
     "execution_count": 95,
     "metadata": {},
     "output_type": "execute_result"
    }
   ],
   "source": [
    "rating_group.head()"
   ]
  },
  {
   "cell_type": "code",
   "execution_count": null,
   "id": "c8ecd87b",
   "metadata": {},
   "outputs": [
    {
     "data": {
      "text/plain": [
       "array([5. , 4.5, 4. , 2.5, 3. , 3.5, 1. , 2. , 0.5, 1.5, 4.7])"
      ]
     },
     "execution_count": 97,
     "metadata": {},
     "output_type": "execute_result"
    }
   ],
   "source": [
    "rating.rating.unique() # There are no 0 in rating data\n",
    "# Only Rating 1 - 5 is available\n",
    "# So 0 will means no review/rating"
   ]
  },
  {
   "cell_type": "markdown",
   "id": "061e1a1c",
   "metadata": {},
   "source": [
    "<div class=\"alert alert-block alert-info\">\n",
    "\n",
    "Don't forget to **fill NaN value with 0** (it means that there are no review on that month)\n",
    "\n",
    "</div>"
   ]
  },
  {
   "cell_type": "code",
   "execution_count": 96,
   "id": "bf835933",
   "metadata": {},
   "outputs": [
    {
     "data": {
      "text/html": [
       "<div>\n",
       "<style scoped>\n",
       "    .dataframe tbody tr th:only-of-type {\n",
       "        vertical-align: middle;\n",
       "    }\n",
       "\n",
       "    .dataframe tbody tr th {\n",
       "        vertical-align: top;\n",
       "    }\n",
       "\n",
       "    .dataframe thead th {\n",
       "        text-align: right;\n",
       "    }\n",
       "</style>\n",
       "<table border=\"1\" class=\"dataframe\">\n",
       "  <thead>\n",
       "    <tr style=\"text-align: right;\">\n",
       "      <th>review_month</th>\n",
       "      <th>2025-01</th>\n",
       "      <th>2025-02</th>\n",
       "      <th>2025-03</th>\n",
       "    </tr>\n",
       "    <tr>\n",
       "      <th>professional_id</th>\n",
       "      <th></th>\n",
       "      <th></th>\n",
       "      <th></th>\n",
       "    </tr>\n",
       "  </thead>\n",
       "  <tbody>\n",
       "    <tr>\n",
       "      <th>21</th>\n",
       "      <td>5.0</td>\n",
       "      <td>5.0</td>\n",
       "      <td>5.0</td>\n",
       "    </tr>\n",
       "    <tr>\n",
       "      <th>79</th>\n",
       "      <td>5.0</td>\n",
       "      <td>0.0</td>\n",
       "      <td>0.0</td>\n",
       "    </tr>\n",
       "    <tr>\n",
       "      <th>104</th>\n",
       "      <td>5.0</td>\n",
       "      <td>0.0</td>\n",
       "      <td>0.0</td>\n",
       "    </tr>\n",
       "    <tr>\n",
       "      <th>145</th>\n",
       "      <td>5.0</td>\n",
       "      <td>5.0</td>\n",
       "      <td>0.0</td>\n",
       "    </tr>\n",
       "    <tr>\n",
       "      <th>155</th>\n",
       "      <td>0.0</td>\n",
       "      <td>5.0</td>\n",
       "      <td>0.0</td>\n",
       "    </tr>\n",
       "    <tr>\n",
       "      <th>...</th>\n",
       "      <td>...</td>\n",
       "      <td>...</td>\n",
       "      <td>...</td>\n",
       "    </tr>\n",
       "    <tr>\n",
       "      <th>12516</th>\n",
       "      <td>0.0</td>\n",
       "      <td>0.0</td>\n",
       "      <td>5.0</td>\n",
       "    </tr>\n",
       "    <tr>\n",
       "      <th>12517</th>\n",
       "      <td>0.0</td>\n",
       "      <td>0.0</td>\n",
       "      <td>5.0</td>\n",
       "    </tr>\n",
       "    <tr>\n",
       "      <th>12539</th>\n",
       "      <td>0.0</td>\n",
       "      <td>0.0</td>\n",
       "      <td>5.0</td>\n",
       "    </tr>\n",
       "    <tr>\n",
       "      <th>12541</th>\n",
       "      <td>0.0</td>\n",
       "      <td>0.0</td>\n",
       "      <td>5.0</td>\n",
       "    </tr>\n",
       "    <tr>\n",
       "      <th>12549</th>\n",
       "      <td>0.0</td>\n",
       "      <td>0.0</td>\n",
       "      <td>5.0</td>\n",
       "    </tr>\n",
       "  </tbody>\n",
       "</table>\n",
       "<p>1934 rows × 3 columns</p>\n",
       "</div>"
      ],
      "text/plain": [
       "review_month     2025-01  2025-02  2025-03\n",
       "professional_id                           \n",
       "21                   5.0      5.0      5.0\n",
       "79                   5.0      0.0      0.0\n",
       "104                  5.0      0.0      0.0\n",
       "145                  5.0      5.0      0.0\n",
       "155                  0.0      5.0      0.0\n",
       "...                  ...      ...      ...\n",
       "12516                0.0      0.0      5.0\n",
       "12517                0.0      0.0      5.0\n",
       "12539                0.0      0.0      5.0\n",
       "12541                0.0      0.0      5.0\n",
       "12549                0.0      0.0      5.0\n",
       "\n",
       "[1934 rows x 3 columns]"
      ]
     },
     "execution_count": 96,
     "metadata": {},
     "output_type": "execute_result"
    }
   ],
   "source": [
    "rating_pivot = pd.pivot_table(rating_group,\n",
    "                              values=\"avr_review\",\n",
    "                              index=\"professional_id\",\n",
    "                              columns=\"review_month\",\n",
    "                              fill_value=0)\n",
    "rating_pivot"
   ]
  },
  {
   "cell_type": "markdown",
   "id": "3f44e065",
   "metadata": {},
   "source": [
    "#### **3rd Task: Cancel Problem Analysis**\n",
    "\n",
    "**Cancel Data** must be filter to select only the \"abruptly\" one which is the **MAIN PROBLEM**"
   ]
  },
  {
   "cell_type": "code",
   "execution_count": 98,
   "id": "de715534",
   "metadata": {},
   "outputs": [
    {
     "data": {
      "text/html": [
       "<div>\n",
       "<style scoped>\n",
       "    .dataframe tbody tr th:only-of-type {\n",
       "        vertical-align: middle;\n",
       "    }\n",
       "\n",
       "    .dataframe tbody tr th {\n",
       "        vertical-align: top;\n",
       "    }\n",
       "\n",
       "    .dataframe thead th {\n",
       "        text-align: right;\n",
       "    }\n",
       "</style>\n",
       "<table border=\"1\" class=\"dataframe\">\n",
       "  <thead>\n",
       "    <tr style=\"text-align: right;\">\n",
       "      <th></th>\n",
       "      <th>report_date</th>\n",
       "      <th>professional_id</th>\n",
       "      <th>report_problem_id</th>\n",
       "      <th>problem_name</th>\n",
       "    </tr>\n",
       "  </thead>\n",
       "  <tbody>\n",
       "    <tr>\n",
       "      <th>0</th>\n",
       "      <td>2025-01-01 06:55:00</td>\n",
       "      <td>8246</td>\n",
       "      <td>32182</td>\n",
       "      <td>คืนงาน (กะทันหัน)</td>\n",
       "    </tr>\n",
       "    <tr>\n",
       "      <th>1</th>\n",
       "      <td>2025-01-01 11:03:00</td>\n",
       "      <td>10287</td>\n",
       "      <td>32187</td>\n",
       "      <td>คืนงาน (กะทันหัน)</td>\n",
       "    </tr>\n",
       "    <tr>\n",
       "      <th>2</th>\n",
       "      <td>2025-01-01 10:11:00</td>\n",
       "      <td>79</td>\n",
       "      <td>32189</td>\n",
       "      <td>คืนงาน (ล่วงหน้า)</td>\n",
       "    </tr>\n",
       "    <tr>\n",
       "      <th>3</th>\n",
       "      <td>2025-01-01 11:50:00</td>\n",
       "      <td>11090</td>\n",
       "      <td>32190</td>\n",
       "      <td>คืนงาน (กะทันหัน)</td>\n",
       "    </tr>\n",
       "    <tr>\n",
       "      <th>4</th>\n",
       "      <td>2025-01-01 14:45:00</td>\n",
       "      <td>7810</td>\n",
       "      <td>32191</td>\n",
       "      <td>คืนงาน (กะทันหัน)</td>\n",
       "    </tr>\n",
       "    <tr>\n",
       "      <th>...</th>\n",
       "      <td>...</td>\n",
       "      <td>...</td>\n",
       "      <td>...</td>\n",
       "      <td>...</td>\n",
       "    </tr>\n",
       "    <tr>\n",
       "      <th>1089</th>\n",
       "      <td>2025-03-31 19:21:00</td>\n",
       "      <td>11690</td>\n",
       "      <td>34543</td>\n",
       "      <td>คืนงาน (ล่วงหน้า)</td>\n",
       "    </tr>\n",
       "    <tr>\n",
       "      <th>1090</th>\n",
       "      <td>2025-03-31 19:23:00</td>\n",
       "      <td>11003</td>\n",
       "      <td>34544</td>\n",
       "      <td>คืนงาน (ล่วงหน้า)</td>\n",
       "    </tr>\n",
       "    <tr>\n",
       "      <th>1091</th>\n",
       "      <td>2025-03-31 20:26:00</td>\n",
       "      <td>5186</td>\n",
       "      <td>34545</td>\n",
       "      <td>คืนงาน (โครงการป้อนงานคุณแม่บ้าน)</td>\n",
       "    </tr>\n",
       "    <tr>\n",
       "      <th>1092</th>\n",
       "      <td>2025-03-28 16:45:00</td>\n",
       "      <td>12103</td>\n",
       "      <td>34554</td>\n",
       "      <td>คืนงาน (กะทันหัน)</td>\n",
       "    </tr>\n",
       "    <tr>\n",
       "      <th>1093</th>\n",
       "      <td>2025-03-31 17:54:00</td>\n",
       "      <td>5444</td>\n",
       "      <td>34555</td>\n",
       "      <td>คืนงาน (กะทันหัน)</td>\n",
       "    </tr>\n",
       "  </tbody>\n",
       "</table>\n",
       "<p>1094 rows × 4 columns</p>\n",
       "</div>"
      ],
      "text/plain": [
       "              report_date  professional_id  report_problem_id  \\\n",
       "0     2025-01-01 06:55:00             8246              32182   \n",
       "1     2025-01-01 11:03:00            10287              32187   \n",
       "2     2025-01-01 10:11:00               79              32189   \n",
       "3     2025-01-01 11:50:00            11090              32190   \n",
       "4     2025-01-01 14:45:00             7810              32191   \n",
       "...                   ...              ...                ...   \n",
       "1089  2025-03-31 19:21:00            11690              34543   \n",
       "1090  2025-03-31 19:23:00            11003              34544   \n",
       "1091  2025-03-31 20:26:00             5186              34545   \n",
       "1092  2025-03-28 16:45:00            12103              34554   \n",
       "1093  2025-03-31 17:54:00             5444              34555   \n",
       "\n",
       "                           problem_name  \n",
       "0                     คืนงาน (กะทันหัน)  \n",
       "1                     คืนงาน (กะทันหัน)  \n",
       "2                     คืนงาน (ล่วงหน้า)  \n",
       "3                     คืนงาน (กะทันหัน)  \n",
       "4                     คืนงาน (กะทันหัน)  \n",
       "...                                 ...  \n",
       "1089                  คืนงาน (ล่วงหน้า)  \n",
       "1090                  คืนงาน (ล่วงหน้า)  \n",
       "1091  คืนงาน (โครงการป้อนงานคุณแม่บ้าน)  \n",
       "1092                  คืนงาน (กะทันหัน)  \n",
       "1093                  คืนงาน (กะทันหัน)  \n",
       "\n",
       "[1094 rows x 4 columns]"
      ]
     },
     "execution_count": 98,
     "metadata": {},
     "output_type": "execute_result"
    }
   ],
   "source": [
    "cancel"
   ]
  },
  {
   "cell_type": "code",
   "execution_count": 102,
   "id": "aabd74bd",
   "metadata": {},
   "outputs": [
    {
     "data": {
      "text/plain": [
       "problem_name\n",
       "คืนงาน (กะทันหัน)                    635\n",
       "คืนงาน (ล่วงหน้า)                    434\n",
       "คืนงาน (โครงการป้อนงานคุณแม่บ้าน)     25\n",
       "Name: count, dtype: int64"
      ]
     },
     "execution_count": 102,
     "metadata": {},
     "output_type": "execute_result"
    }
   ],
   "source": [
    "cancel.problem_name.value_counts()"
   ]
  },
  {
   "cell_type": "markdown",
   "id": "f4a9bb8d",
   "metadata": {},
   "source": [
    "##### **Filter:** Cancel Data by Month and Problem (Abruptly)"
   ]
  },
  {
   "cell_type": "code",
   "execution_count": 106,
   "id": "c4c22e2d",
   "metadata": {},
   "outputs": [
    {
     "data": {
      "text/html": [
       "<div>\n",
       "<style scoped>\n",
       "    .dataframe tbody tr th:only-of-type {\n",
       "        vertical-align: middle;\n",
       "    }\n",
       "\n",
       "    .dataframe tbody tr th {\n",
       "        vertical-align: top;\n",
       "    }\n",
       "\n",
       "    .dataframe thead th {\n",
       "        text-align: right;\n",
       "    }\n",
       "</style>\n",
       "<table border=\"1\" class=\"dataframe\">\n",
       "  <thead>\n",
       "    <tr style=\"text-align: right;\">\n",
       "      <th></th>\n",
       "      <th>report_date</th>\n",
       "      <th>professional_id</th>\n",
       "      <th>report_problem_id</th>\n",
       "      <th>problem_name</th>\n",
       "      <th>date</th>\n",
       "      <th>time</th>\n",
       "      <th>report_month</th>\n",
       "    </tr>\n",
       "  </thead>\n",
       "  <tbody>\n",
       "    <tr>\n",
       "      <th>0</th>\n",
       "      <td>2025-01-01 06:55:00</td>\n",
       "      <td>8246</td>\n",
       "      <td>32182</td>\n",
       "      <td>คืนงาน (กะทันหัน)</td>\n",
       "      <td>2025-01-01</td>\n",
       "      <td>06:55:00</td>\n",
       "      <td>2025-01</td>\n",
       "    </tr>\n",
       "    <tr>\n",
       "      <th>1</th>\n",
       "      <td>2025-01-01 11:03:00</td>\n",
       "      <td>10287</td>\n",
       "      <td>32187</td>\n",
       "      <td>คืนงาน (กะทันหัน)</td>\n",
       "      <td>2025-01-01</td>\n",
       "      <td>11:03:00</td>\n",
       "      <td>2025-01</td>\n",
       "    </tr>\n",
       "    <tr>\n",
       "      <th>2</th>\n",
       "      <td>2025-01-01 10:11:00</td>\n",
       "      <td>79</td>\n",
       "      <td>32189</td>\n",
       "      <td>คืนงาน (ล่วงหน้า)</td>\n",
       "      <td>2025-01-01</td>\n",
       "      <td>10:11:00</td>\n",
       "      <td>2025-01</td>\n",
       "    </tr>\n",
       "    <tr>\n",
       "      <th>3</th>\n",
       "      <td>2025-01-01 11:50:00</td>\n",
       "      <td>11090</td>\n",
       "      <td>32190</td>\n",
       "      <td>คืนงาน (กะทันหัน)</td>\n",
       "      <td>2025-01-01</td>\n",
       "      <td>11:50:00</td>\n",
       "      <td>2025-01</td>\n",
       "    </tr>\n",
       "    <tr>\n",
       "      <th>4</th>\n",
       "      <td>2025-01-01 14:45:00</td>\n",
       "      <td>7810</td>\n",
       "      <td>32191</td>\n",
       "      <td>คืนงาน (กะทันหัน)</td>\n",
       "      <td>2025-01-01</td>\n",
       "      <td>14:45:00</td>\n",
       "      <td>2025-01</td>\n",
       "    </tr>\n",
       "  </tbody>\n",
       "</table>\n",
       "</div>"
      ],
      "text/plain": [
       "           report_date  professional_id  report_problem_id       problem_name  \\\n",
       "0  2025-01-01 06:55:00             8246              32182  คืนงาน (กะทันหัน)   \n",
       "1  2025-01-01 11:03:00            10287              32187  คืนงาน (กะทันหัน)   \n",
       "2  2025-01-01 10:11:00               79              32189  คืนงาน (ล่วงหน้า)   \n",
       "3  2025-01-01 11:50:00            11090              32190  คืนงาน (กะทันหัน)   \n",
       "4  2025-01-01 14:45:00             7810              32191  คืนงาน (กะทันหัน)   \n",
       "\n",
       "         date      time report_month  \n",
       "0  2025-01-01  06:55:00      2025-01  \n",
       "1  2025-01-01  11:03:00      2025-01  \n",
       "2  2025-01-01  10:11:00      2025-01  \n",
       "3  2025-01-01  11:50:00      2025-01  \n",
       "4  2025-01-01  14:45:00      2025-01  "
      ]
     },
     "execution_count": 106,
     "metadata": {},
     "output_type": "execute_result"
    }
   ],
   "source": [
    "cancel[[\"date\", \"time\"]] = cancel[\"report_date\"].str.split(\" \", expand=True)\n",
    "cancel[\"report_month\"] = cancel[\"date\"].str.slice(stop = 7)\n",
    "cancel.head()"
   ]
  },
  {
   "cell_type": "code",
   "execution_count": 107,
   "id": "7920562e",
   "metadata": {},
   "outputs": [
    {
     "data": {
      "text/html": [
       "<div>\n",
       "<style scoped>\n",
       "    .dataframe tbody tr th:only-of-type {\n",
       "        vertical-align: middle;\n",
       "    }\n",
       "\n",
       "    .dataframe tbody tr th {\n",
       "        vertical-align: top;\n",
       "    }\n",
       "\n",
       "    .dataframe thead th {\n",
       "        text-align: right;\n",
       "    }\n",
       "</style>\n",
       "<table border=\"1\" class=\"dataframe\">\n",
       "  <thead>\n",
       "    <tr style=\"text-align: right;\">\n",
       "      <th></th>\n",
       "      <th>report_date</th>\n",
       "      <th>professional_id</th>\n",
       "      <th>report_problem_id</th>\n",
       "      <th>problem_name</th>\n",
       "      <th>date</th>\n",
       "      <th>time</th>\n",
       "      <th>report_month</th>\n",
       "    </tr>\n",
       "  </thead>\n",
       "  <tbody>\n",
       "    <tr>\n",
       "      <th>0</th>\n",
       "      <td>2025-01-01 06:55:00</td>\n",
       "      <td>8246</td>\n",
       "      <td>32182</td>\n",
       "      <td>คืนงาน (กะทันหัน)</td>\n",
       "      <td>2025-01-01</td>\n",
       "      <td>06:55:00</td>\n",
       "      <td>2025-01</td>\n",
       "    </tr>\n",
       "    <tr>\n",
       "      <th>1</th>\n",
       "      <td>2025-01-01 11:03:00</td>\n",
       "      <td>10287</td>\n",
       "      <td>32187</td>\n",
       "      <td>คืนงาน (กะทันหัน)</td>\n",
       "      <td>2025-01-01</td>\n",
       "      <td>11:03:00</td>\n",
       "      <td>2025-01</td>\n",
       "    </tr>\n",
       "    <tr>\n",
       "      <th>3</th>\n",
       "      <td>2025-01-01 11:50:00</td>\n",
       "      <td>11090</td>\n",
       "      <td>32190</td>\n",
       "      <td>คืนงาน (กะทันหัน)</td>\n",
       "      <td>2025-01-01</td>\n",
       "      <td>11:50:00</td>\n",
       "      <td>2025-01</td>\n",
       "    </tr>\n",
       "    <tr>\n",
       "      <th>4</th>\n",
       "      <td>2025-01-01 14:45:00</td>\n",
       "      <td>7810</td>\n",
       "      <td>32191</td>\n",
       "      <td>คืนงาน (กะทันหัน)</td>\n",
       "      <td>2025-01-01</td>\n",
       "      <td>14:45:00</td>\n",
       "      <td>2025-01</td>\n",
       "    </tr>\n",
       "    <tr>\n",
       "      <th>5</th>\n",
       "      <td>2025-01-01 19:28:00</td>\n",
       "      <td>10777</td>\n",
       "      <td>32194</td>\n",
       "      <td>คืนงาน (กะทันหัน)</td>\n",
       "      <td>2025-01-01</td>\n",
       "      <td>19:28:00</td>\n",
       "      <td>2025-01</td>\n",
       "    </tr>\n",
       "    <tr>\n",
       "      <th>...</th>\n",
       "      <td>...</td>\n",
       "      <td>...</td>\n",
       "      <td>...</td>\n",
       "      <td>...</td>\n",
       "      <td>...</td>\n",
       "      <td>...</td>\n",
       "      <td>...</td>\n",
       "    </tr>\n",
       "    <tr>\n",
       "      <th>1084</th>\n",
       "      <td>2025-03-31 16:55:00</td>\n",
       "      <td>12426</td>\n",
       "      <td>34537</td>\n",
       "      <td>คืนงาน (กะทันหัน)</td>\n",
       "      <td>2025-03-31</td>\n",
       "      <td>16:55:00</td>\n",
       "      <td>2025-03</td>\n",
       "    </tr>\n",
       "    <tr>\n",
       "      <th>1087</th>\n",
       "      <td>2025-03-31 18:41:00</td>\n",
       "      <td>9520</td>\n",
       "      <td>34540</td>\n",
       "      <td>คืนงาน (กะทันหัน)</td>\n",
       "      <td>2025-03-31</td>\n",
       "      <td>18:41:00</td>\n",
       "      <td>2025-03</td>\n",
       "    </tr>\n",
       "    <tr>\n",
       "      <th>1088</th>\n",
       "      <td>2025-03-31 18:59:00</td>\n",
       "      <td>9293</td>\n",
       "      <td>34541</td>\n",
       "      <td>คืนงาน (กะทันหัน)</td>\n",
       "      <td>2025-03-31</td>\n",
       "      <td>18:59:00</td>\n",
       "      <td>2025-03</td>\n",
       "    </tr>\n",
       "    <tr>\n",
       "      <th>1092</th>\n",
       "      <td>2025-03-28 16:45:00</td>\n",
       "      <td>12103</td>\n",
       "      <td>34554</td>\n",
       "      <td>คืนงาน (กะทันหัน)</td>\n",
       "      <td>2025-03-28</td>\n",
       "      <td>16:45:00</td>\n",
       "      <td>2025-03</td>\n",
       "    </tr>\n",
       "    <tr>\n",
       "      <th>1093</th>\n",
       "      <td>2025-03-31 17:54:00</td>\n",
       "      <td>5444</td>\n",
       "      <td>34555</td>\n",
       "      <td>คืนงาน (กะทันหัน)</td>\n",
       "      <td>2025-03-31</td>\n",
       "      <td>17:54:00</td>\n",
       "      <td>2025-03</td>\n",
       "    </tr>\n",
       "  </tbody>\n",
       "</table>\n",
       "<p>635 rows × 7 columns</p>\n",
       "</div>"
      ],
      "text/plain": [
       "              report_date  professional_id  report_problem_id  \\\n",
       "0     2025-01-01 06:55:00             8246              32182   \n",
       "1     2025-01-01 11:03:00            10287              32187   \n",
       "3     2025-01-01 11:50:00            11090              32190   \n",
       "4     2025-01-01 14:45:00             7810              32191   \n",
       "5     2025-01-01 19:28:00            10777              32194   \n",
       "...                   ...              ...                ...   \n",
       "1084  2025-03-31 16:55:00            12426              34537   \n",
       "1087  2025-03-31 18:41:00             9520              34540   \n",
       "1088  2025-03-31 18:59:00             9293              34541   \n",
       "1092  2025-03-28 16:45:00            12103              34554   \n",
       "1093  2025-03-31 17:54:00             5444              34555   \n",
       "\n",
       "           problem_name        date      time report_month  \n",
       "0     คืนงาน (กะทันหัน)  2025-01-01  06:55:00      2025-01  \n",
       "1     คืนงาน (กะทันหัน)  2025-01-01  11:03:00      2025-01  \n",
       "3     คืนงาน (กะทันหัน)  2025-01-01  11:50:00      2025-01  \n",
       "4     คืนงาน (กะทันหัน)  2025-01-01  14:45:00      2025-01  \n",
       "5     คืนงาน (กะทันหัน)  2025-01-01  19:28:00      2025-01  \n",
       "...                 ...         ...       ...          ...  \n",
       "1084  คืนงาน (กะทันหัน)  2025-03-31  16:55:00      2025-03  \n",
       "1087  คืนงาน (กะทันหัน)  2025-03-31  18:41:00      2025-03  \n",
       "1088  คืนงาน (กะทันหัน)  2025-03-31  18:59:00      2025-03  \n",
       "1092  คืนงาน (กะทันหัน)  2025-03-28  16:45:00      2025-03  \n",
       "1093  คืนงาน (กะทันหัน)  2025-03-31  17:54:00      2025-03  \n",
       "\n",
       "[635 rows x 7 columns]"
      ]
     },
     "execution_count": 107,
     "metadata": {},
     "output_type": "execute_result"
    }
   ],
   "source": [
    "filter_cancel = cancel[cancel[\"problem_name\"] == \"คืนงาน (กะทันหัน)\"]\n",
    "filter_cancel = filter_cancel[(filter_cancel[\"report_month\"] >= \"2025-01\") &\n",
    "                              (filter_cancel[\"report_month\"] <= \"2025-03\")]\n",
    "filter_cancel"
   ]
  },
  {
   "cell_type": "code",
   "execution_count": 112,
   "id": "fd59f54a",
   "metadata": {},
   "outputs": [
    {
     "name": "stdout",
     "output_type": "stream",
     "text": [
      "['2025-01' '2025-02' '2025-03']\n",
      "['คืนงาน (กะทันหัน)']\n"
     ]
    }
   ],
   "source": [
    "print(filter_cancel[\"report_month\"].unique())\n",
    "print(filter_cancel[\"problem_name\"].unique())"
   ]
  },
  {
   "cell_type": "markdown",
   "id": "1aacf650",
   "metadata": {},
   "source": [
    "##### **GroupBy:** report_month, professional_id\n",
    "\n",
    "**Calculate:** Count Adruptly Problem"
   ]
  },
  {
   "cell_type": "code",
   "execution_count": 115,
   "id": "f7d095ce",
   "metadata": {},
   "outputs": [
    {
     "data": {
      "text/html": [
       "<div>\n",
       "<style scoped>\n",
       "    .dataframe tbody tr th:only-of-type {\n",
       "        vertical-align: middle;\n",
       "    }\n",
       "\n",
       "    .dataframe tbody tr th {\n",
       "        vertical-align: top;\n",
       "    }\n",
       "\n",
       "    .dataframe thead th {\n",
       "        text-align: right;\n",
       "    }\n",
       "</style>\n",
       "<table border=\"1\" class=\"dataframe\">\n",
       "  <thead>\n",
       "    <tr style=\"text-align: right;\">\n",
       "      <th></th>\n",
       "      <th>report_month</th>\n",
       "      <th>professional_id</th>\n",
       "      <th>total_cancel</th>\n",
       "    </tr>\n",
       "  </thead>\n",
       "  <tbody>\n",
       "    <tr>\n",
       "      <th>0</th>\n",
       "      <td>2025-01</td>\n",
       "      <td>737</td>\n",
       "      <td>2</td>\n",
       "    </tr>\n",
       "    <tr>\n",
       "      <th>1</th>\n",
       "      <td>2025-01</td>\n",
       "      <td>1099</td>\n",
       "      <td>1</td>\n",
       "    </tr>\n",
       "    <tr>\n",
       "      <th>2</th>\n",
       "      <td>2025-01</td>\n",
       "      <td>1360</td>\n",
       "      <td>1</td>\n",
       "    </tr>\n",
       "    <tr>\n",
       "      <th>3</th>\n",
       "      <td>2025-01</td>\n",
       "      <td>2046</td>\n",
       "      <td>1</td>\n",
       "    </tr>\n",
       "    <tr>\n",
       "      <th>4</th>\n",
       "      <td>2025-01</td>\n",
       "      <td>2173</td>\n",
       "      <td>1</td>\n",
       "    </tr>\n",
       "    <tr>\n",
       "      <th>...</th>\n",
       "      <td>...</td>\n",
       "      <td>...</td>\n",
       "      <td>...</td>\n",
       "    </tr>\n",
       "    <tr>\n",
       "      <th>536</th>\n",
       "      <td>2025-03</td>\n",
       "      <td>12492</td>\n",
       "      <td>1</td>\n",
       "    </tr>\n",
       "    <tr>\n",
       "      <th>537</th>\n",
       "      <td>2025-03</td>\n",
       "      <td>12493</td>\n",
       "      <td>1</td>\n",
       "    </tr>\n",
       "    <tr>\n",
       "      <th>538</th>\n",
       "      <td>2025-03</td>\n",
       "      <td>12510</td>\n",
       "      <td>1</td>\n",
       "    </tr>\n",
       "    <tr>\n",
       "      <th>539</th>\n",
       "      <td>2025-03</td>\n",
       "      <td>12521</td>\n",
       "      <td>1</td>\n",
       "    </tr>\n",
       "    <tr>\n",
       "      <th>540</th>\n",
       "      <td>2025-03</td>\n",
       "      <td>12523</td>\n",
       "      <td>1</td>\n",
       "    </tr>\n",
       "  </tbody>\n",
       "</table>\n",
       "<p>541 rows × 3 columns</p>\n",
       "</div>"
      ],
      "text/plain": [
       "    report_month  professional_id  total_cancel\n",
       "0        2025-01              737             2\n",
       "1        2025-01             1099             1\n",
       "2        2025-01             1360             1\n",
       "3        2025-01             2046             1\n",
       "4        2025-01             2173             1\n",
       "..           ...              ...           ...\n",
       "536      2025-03            12492             1\n",
       "537      2025-03            12493             1\n",
       "538      2025-03            12510             1\n",
       "539      2025-03            12521             1\n",
       "540      2025-03            12523             1\n",
       "\n",
       "[541 rows x 3 columns]"
      ]
     },
     "execution_count": 115,
     "metadata": {},
     "output_type": "execute_result"
    }
   ],
   "source": [
    "cancel_group = filter_cancel.groupby([\"report_month\", \"professional_id\"]).agg(\n",
    "                                     total_cancel=(\"problem_name\", \"count\")\n",
    "                                    ).reset_index()\n",
    "cancel_group"
   ]
  },
  {
   "cell_type": "markdown",
   "id": "151aec9d",
   "metadata": {},
   "source": [
    "Checking that the grouped data is valid"
   ]
  },
  {
   "cell_type": "code",
   "execution_count": 118,
   "id": "2239a6d1",
   "metadata": {},
   "outputs": [
    {
     "data": {
      "text/html": [
       "<div>\n",
       "<style scoped>\n",
       "    .dataframe tbody tr th:only-of-type {\n",
       "        vertical-align: middle;\n",
       "    }\n",
       "\n",
       "    .dataframe tbody tr th {\n",
       "        vertical-align: top;\n",
       "    }\n",
       "\n",
       "    .dataframe thead th {\n",
       "        text-align: right;\n",
       "    }\n",
       "</style>\n",
       "<table border=\"1\" class=\"dataframe\">\n",
       "  <thead>\n",
       "    <tr style=\"text-align: right;\">\n",
       "      <th></th>\n",
       "      <th>report_month</th>\n",
       "      <th>professional_id</th>\n",
       "      <th>total_cancel</th>\n",
       "    </tr>\n",
       "  </thead>\n",
       "  <tbody>\n",
       "    <tr>\n",
       "      <th>0</th>\n",
       "      <td>2025-01</td>\n",
       "      <td>737</td>\n",
       "      <td>2</td>\n",
       "    </tr>\n",
       "    <tr>\n",
       "      <th>183</th>\n",
       "      <td>2025-02</td>\n",
       "      <td>737</td>\n",
       "      <td>1</td>\n",
       "    </tr>\n",
       "    <tr>\n",
       "      <th>335</th>\n",
       "      <td>2025-03</td>\n",
       "      <td>737</td>\n",
       "      <td>1</td>\n",
       "    </tr>\n",
       "  </tbody>\n",
       "</table>\n",
       "</div>"
      ],
      "text/plain": [
       "    report_month  professional_id  total_cancel\n",
       "0        2025-01              737             2\n",
       "183      2025-02              737             1\n",
       "335      2025-03              737             1"
      ]
     },
     "execution_count": 118,
     "metadata": {},
     "output_type": "execute_result"
    }
   ],
   "source": [
    "cancel_group[cancel_group[\"professional_id\"] == 737]"
   ]
  },
  {
   "cell_type": "code",
   "execution_count": 119,
   "id": "f331df6f",
   "metadata": {},
   "outputs": [
    {
     "data": {
      "text/html": [
       "<div>\n",
       "<style scoped>\n",
       "    .dataframe tbody tr th:only-of-type {\n",
       "        vertical-align: middle;\n",
       "    }\n",
       "\n",
       "    .dataframe tbody tr th {\n",
       "        vertical-align: top;\n",
       "    }\n",
       "\n",
       "    .dataframe thead th {\n",
       "        text-align: right;\n",
       "    }\n",
       "</style>\n",
       "<table border=\"1\" class=\"dataframe\">\n",
       "  <thead>\n",
       "    <tr style=\"text-align: right;\">\n",
       "      <th></th>\n",
       "      <th>report_date</th>\n",
       "      <th>professional_id</th>\n",
       "      <th>report_problem_id</th>\n",
       "      <th>problem_name</th>\n",
       "      <th>date</th>\n",
       "      <th>time</th>\n",
       "      <th>report_month</th>\n",
       "    </tr>\n",
       "  </thead>\n",
       "  <tbody>\n",
       "    <tr>\n",
       "      <th>100</th>\n",
       "      <td>2025-01-09 10:04:00</td>\n",
       "      <td>737</td>\n",
       "      <td>32381</td>\n",
       "      <td>คืนงาน (กะทันหัน)</td>\n",
       "      <td>2025-01-09</td>\n",
       "      <td>10:04:00</td>\n",
       "      <td>2025-01</td>\n",
       "    </tr>\n",
       "    <tr>\n",
       "      <th>105</th>\n",
       "      <td>2025-01-09 12:55:00</td>\n",
       "      <td>737</td>\n",
       "      <td>32388</td>\n",
       "      <td>คืนงาน (กะทันหัน)</td>\n",
       "      <td>2025-01-09</td>\n",
       "      <td>12:55:00</td>\n",
       "      <td>2025-01</td>\n",
       "    </tr>\n",
       "    <tr>\n",
       "      <th>594</th>\n",
       "      <td>2025-02-21 12:34:00</td>\n",
       "      <td>737</td>\n",
       "      <td>33439</td>\n",
       "      <td>คืนงาน (กะทันหัน)</td>\n",
       "      <td>2025-02-21</td>\n",
       "      <td>12:34:00</td>\n",
       "      <td>2025-02</td>\n",
       "    </tr>\n",
       "    <tr>\n",
       "      <th>693</th>\n",
       "      <td>2025-03-02 09:30:00</td>\n",
       "      <td>737</td>\n",
       "      <td>33679</td>\n",
       "      <td>คืนงาน (กะทันหัน)</td>\n",
       "      <td>2025-03-02</td>\n",
       "      <td>09:30:00</td>\n",
       "      <td>2025-03</td>\n",
       "    </tr>\n",
       "  </tbody>\n",
       "</table>\n",
       "</div>"
      ],
      "text/plain": [
       "             report_date  professional_id  report_problem_id  \\\n",
       "100  2025-01-09 10:04:00              737              32381   \n",
       "105  2025-01-09 12:55:00              737              32388   \n",
       "594  2025-02-21 12:34:00              737              33439   \n",
       "693  2025-03-02 09:30:00              737              33679   \n",
       "\n",
       "          problem_name        date      time report_month  \n",
       "100  คืนงาน (กะทันหัน)  2025-01-09  10:04:00      2025-01  \n",
       "105  คืนงาน (กะทันหัน)  2025-01-09  12:55:00      2025-01  \n",
       "594  คืนงาน (กะทันหัน)  2025-02-21  12:34:00      2025-02  \n",
       "693  คืนงาน (กะทันหัน)  2025-03-02  09:30:00      2025-03  "
      ]
     },
     "execution_count": 119,
     "metadata": {},
     "output_type": "execute_result"
    }
   ],
   "source": [
    "filter_cancel[filter_cancel[\"professional_id\"] == 737]"
   ]
  },
  {
   "cell_type": "markdown",
   "id": "651d72e1",
   "metadata": {},
   "source": [
    "##### **Pivot Table:** report_month for better handling\n",
    "\n",
    "**Calculate:** Percentage Formula\n",
    "\n",
    "<div class=\"alert alert-block alert-info\">\n",
    "\n",
    "Don't forget to **fill NaN value with 0** (it means that there are no abruptly cancellation on that month)\n",
    "\n",
    "</div>"
   ]
  },
  {
   "cell_type": "code",
   "execution_count": 136,
   "id": "18952b33",
   "metadata": {},
   "outputs": [
    {
     "data": {
      "text/html": [
       "<div>\n",
       "<style scoped>\n",
       "    .dataframe tbody tr th:only-of-type {\n",
       "        vertical-align: middle;\n",
       "    }\n",
       "\n",
       "    .dataframe tbody tr th {\n",
       "        vertical-align: top;\n",
       "    }\n",
       "\n",
       "    .dataframe thead th {\n",
       "        text-align: right;\n",
       "    }\n",
       "</style>\n",
       "<table border=\"1\" class=\"dataframe\">\n",
       "  <thead>\n",
       "    <tr style=\"text-align: right;\">\n",
       "      <th>report_month</th>\n",
       "      <th>2025-01</th>\n",
       "      <th>2025-02</th>\n",
       "      <th>2025-03</th>\n",
       "    </tr>\n",
       "    <tr>\n",
       "      <th>professional_id</th>\n",
       "      <th></th>\n",
       "      <th></th>\n",
       "      <th></th>\n",
       "    </tr>\n",
       "  </thead>\n",
       "  <tbody>\n",
       "    <tr>\n",
       "      <th>226</th>\n",
       "      <td>0.0</td>\n",
       "      <td>2.0</td>\n",
       "      <td>2.0</td>\n",
       "    </tr>\n",
       "    <tr>\n",
       "      <th>737</th>\n",
       "      <td>2.0</td>\n",
       "      <td>1.0</td>\n",
       "      <td>1.0</td>\n",
       "    </tr>\n",
       "    <tr>\n",
       "      <th>1099</th>\n",
       "      <td>1.0</td>\n",
       "      <td>0.0</td>\n",
       "      <td>0.0</td>\n",
       "    </tr>\n",
       "    <tr>\n",
       "      <th>1360</th>\n",
       "      <td>1.0</td>\n",
       "      <td>0.0</td>\n",
       "      <td>0.0</td>\n",
       "    </tr>\n",
       "    <tr>\n",
       "      <th>1589</th>\n",
       "      <td>0.0</td>\n",
       "      <td>1.0</td>\n",
       "      <td>0.0</td>\n",
       "    </tr>\n",
       "    <tr>\n",
       "      <th>...</th>\n",
       "      <td>...</td>\n",
       "      <td>...</td>\n",
       "      <td>...</td>\n",
       "    </tr>\n",
       "    <tr>\n",
       "      <th>12492</th>\n",
       "      <td>0.0</td>\n",
       "      <td>0.0</td>\n",
       "      <td>1.0</td>\n",
       "    </tr>\n",
       "    <tr>\n",
       "      <th>12493</th>\n",
       "      <td>0.0</td>\n",
       "      <td>0.0</td>\n",
       "      <td>1.0</td>\n",
       "    </tr>\n",
       "    <tr>\n",
       "      <th>12510</th>\n",
       "      <td>0.0</td>\n",
       "      <td>0.0</td>\n",
       "      <td>1.0</td>\n",
       "    </tr>\n",
       "    <tr>\n",
       "      <th>12521</th>\n",
       "      <td>0.0</td>\n",
       "      <td>0.0</td>\n",
       "      <td>1.0</td>\n",
       "    </tr>\n",
       "    <tr>\n",
       "      <th>12523</th>\n",
       "      <td>0.0</td>\n",
       "      <td>0.0</td>\n",
       "      <td>1.0</td>\n",
       "    </tr>\n",
       "  </tbody>\n",
       "</table>\n",
       "<p>445 rows × 3 columns</p>\n",
       "</div>"
      ],
      "text/plain": [
       "report_month     2025-01  2025-02  2025-03\n",
       "professional_id                           \n",
       "226                  0.0      2.0      2.0\n",
       "737                  2.0      1.0      1.0\n",
       "1099                 1.0      0.0      0.0\n",
       "1360                 1.0      0.0      0.0\n",
       "1589                 0.0      1.0      0.0\n",
       "...                  ...      ...      ...\n",
       "12492                0.0      0.0      1.0\n",
       "12493                0.0      0.0      1.0\n",
       "12510                0.0      0.0      1.0\n",
       "12521                0.0      0.0      1.0\n",
       "12523                0.0      0.0      1.0\n",
       "\n",
       "[445 rows x 3 columns]"
      ]
     },
     "execution_count": 136,
     "metadata": {},
     "output_type": "execute_result"
    }
   ],
   "source": [
    "cancel_pivot = pd.pivot_table(cancel_group,\n",
    "                              values=\"total_cancel\",\n",
    "                              index=\"professional_id\",\n",
    "                              columns=\"report_month\",\n",
    "                              fill_value=0)\n",
    "cancel_pivot"
   ]
  },
  {
   "cell_type": "markdown",
   "id": "3c4dfb74",
   "metadata": {},
   "source": [
    "Apply the formula:\n",
    "\n",
    "<div class=\"alert alert-block alert-info\">\n",
    "\n",
    "**problem%_jan25 = (total_problem_jan25/total_booking_25) * 100**\n",
    "\n",
    "</div>"
   ]
  },
  {
   "cell_type": "markdown",
   "id": "c186be34",
   "metadata": {},
   "source": [
    "Get total_booking_25 from order (not order_pivot)"
   ]
  },
  {
   "cell_type": "code",
   "execution_count": 137,
   "id": "15c2fec9",
   "metadata": {},
   "outputs": [
    {
     "data": {
      "text/html": [
       "<div>\n",
       "<style scoped>\n",
       "    .dataframe tbody tr th:only-of-type {\n",
       "        vertical-align: middle;\n",
       "    }\n",
       "\n",
       "    .dataframe tbody tr th {\n",
       "        vertical-align: top;\n",
       "    }\n",
       "\n",
       "    .dataframe thead th {\n",
       "        text-align: right;\n",
       "    }\n",
       "</style>\n",
       "<table border=\"1\" class=\"dataframe\">\n",
       "  <thead>\n",
       "    <tr style=\"text-align: right;\">\n",
       "      <th></th>\n",
       "      <th>professional_id</th>\n",
       "      <th>total_bookings</th>\n",
       "    </tr>\n",
       "  </thead>\n",
       "  <tbody>\n",
       "    <tr>\n",
       "      <th>2289</th>\n",
       "      <td>12540</td>\n",
       "      <td>3</td>\n",
       "    </tr>\n",
       "    <tr>\n",
       "      <th>2290</th>\n",
       "      <td>12541</td>\n",
       "      <td>3</td>\n",
       "    </tr>\n",
       "    <tr>\n",
       "      <th>2291</th>\n",
       "      <td>12542</td>\n",
       "      <td>1</td>\n",
       "    </tr>\n",
       "    <tr>\n",
       "      <th>2292</th>\n",
       "      <td>12543</td>\n",
       "      <td>3</td>\n",
       "    </tr>\n",
       "    <tr>\n",
       "      <th>2293</th>\n",
       "      <td>12549</td>\n",
       "      <td>5</td>\n",
       "    </tr>\n",
       "  </tbody>\n",
       "</table>\n",
       "</div>"
      ],
      "text/plain": [
       "      professional_id  total_bookings\n",
       "2289            12540               3\n",
       "2290            12541               3\n",
       "2291            12542               1\n",
       "2292            12543               3\n",
       "2293            12549               5"
      ]
     },
     "execution_count": 137,
     "metadata": {},
     "output_type": "execute_result"
    }
   ],
   "source": [
    "# Filter orders for the months January to March 2025\n",
    "filtered_orders = order[(order[\"cleaning_month\"] >= \"2025-01\") & (order[\"cleaning_month\"] <= \"2025-03\")]\n",
    "\n",
    "# Group by professional_id and count the total bookings\n",
    "total_booking_25 = filtered_orders.groupby(\"professional_id\").size()\n",
    "\n",
    "# Convert the result to a DataFrame for better readability\n",
    "total_booking_25 = total_booking_25.reset_index(name=\"total_bookings\")\n",
    "total_booking_25.tail()"
   ]
  },
  {
   "cell_type": "markdown",
   "id": "bf385363",
   "metadata": {},
   "source": [
    "Now total_booking_25 is available for each professional_id"
   ]
  },
  {
   "cell_type": "code",
   "execution_count": 138,
   "id": "9370becd",
   "metadata": {
    "vscode": {
     "languageId": "markdown"
    }
   },
   "outputs": [
    {
     "data": {
      "text/html": [
       "<div>\n",
       "<style scoped>\n",
       "    .dataframe tbody tr th:only-of-type {\n",
       "        vertical-align: middle;\n",
       "    }\n",
       "\n",
       "    .dataframe tbody tr th {\n",
       "        vertical-align: top;\n",
       "    }\n",
       "\n",
       "    .dataframe thead th {\n",
       "        text-align: right;\n",
       "    }\n",
       "</style>\n",
       "<table border=\"1\" class=\"dataframe\">\n",
       "  <thead>\n",
       "    <tr style=\"text-align: right;\">\n",
       "      <th>report_month</th>\n",
       "      <th>cancel_jan25</th>\n",
       "      <th>cancel_feb25</th>\n",
       "      <th>cancel_mar25</th>\n",
       "    </tr>\n",
       "    <tr>\n",
       "      <th>professional_id</th>\n",
       "      <th></th>\n",
       "      <th></th>\n",
       "      <th></th>\n",
       "    </tr>\n",
       "  </thead>\n",
       "  <tbody>\n",
       "    <tr>\n",
       "      <th>12492</th>\n",
       "      <td>NaN</td>\n",
       "      <td>NaN</td>\n",
       "      <td>NaN</td>\n",
       "    </tr>\n",
       "    <tr>\n",
       "      <th>12493</th>\n",
       "      <td>0.0</td>\n",
       "      <td>0.0</td>\n",
       "      <td>7.142857</td>\n",
       "    </tr>\n",
       "    <tr>\n",
       "      <th>12510</th>\n",
       "      <td>0.0</td>\n",
       "      <td>0.0</td>\n",
       "      <td>2.739726</td>\n",
       "    </tr>\n",
       "    <tr>\n",
       "      <th>12521</th>\n",
       "      <td>0.0</td>\n",
       "      <td>0.0</td>\n",
       "      <td>33.333333</td>\n",
       "    </tr>\n",
       "    <tr>\n",
       "      <th>12523</th>\n",
       "      <td>0.0</td>\n",
       "      <td>0.0</td>\n",
       "      <td>50.000000</td>\n",
       "    </tr>\n",
       "  </tbody>\n",
       "</table>\n",
       "</div>"
      ],
      "text/plain": [
       "report_month     cancel_jan25  cancel_feb25  cancel_mar25\n",
       "professional_id                                          \n",
       "12492                     NaN           NaN           NaN\n",
       "12493                     0.0           0.0      7.142857\n",
       "12510                     0.0           0.0      2.739726\n",
       "12521                     0.0           0.0     33.333333\n",
       "12523                     0.0           0.0     50.000000"
      ]
     },
     "execution_count": 138,
     "metadata": {},
     "output_type": "execute_result"
    }
   ],
   "source": [
    "# Replace with the actual total_booking_25 values for each professional_id\n",
    "total_booking_25 = order_pivot.sum(axis=1)  # Example: Sum of bookings across months\n",
    "\n",
    "# Calculate percentages for each month\n",
    "cancel_pivot[\"cancel_jan25\"] = (cancel_pivot[\"2025-01\"] / total_booking_25) * 100\n",
    "cancel_pivot[\"cancel_feb25\"] = (cancel_pivot[\"2025-02\"] / total_booking_25) * 100\n",
    "cancel_pivot[\"cancel_mar25\"] = (cancel_pivot[\"2025-03\"] / total_booking_25) * 100\n",
    "\n",
    "# Replace all values in cancel_pivot with the calculated percentages\n",
    "cancel_pivot = cancel_pivot[[\"cancel_jan25\", \"cancel_feb25\", \"cancel_mar25\"]]\n",
    "cancel_pivot.tail()"
   ]
  },
  {
   "cell_type": "markdown",
   "id": "5f7a58b4",
   "metadata": {},
   "source": [
    "Finally, round the values in `cancel_pivot` to 2 decimal places and deal with missing values"
   ]
  },
  {
   "cell_type": "code",
   "execution_count": 139,
   "id": "76e68c8b",
   "metadata": {
    "vscode": {
     "languageId": "markdown"
    }
   },
   "outputs": [
    {
     "data": {
      "text/html": [
       "<div>\n",
       "<style scoped>\n",
       "    .dataframe tbody tr th:only-of-type {\n",
       "        vertical-align: middle;\n",
       "    }\n",
       "\n",
       "    .dataframe tbody tr th {\n",
       "        vertical-align: top;\n",
       "    }\n",
       "\n",
       "    .dataframe thead th {\n",
       "        text-align: right;\n",
       "    }\n",
       "</style>\n",
       "<table border=\"1\" class=\"dataframe\">\n",
       "  <thead>\n",
       "    <tr style=\"text-align: right;\">\n",
       "      <th>report_month</th>\n",
       "      <th>cancel_jan25</th>\n",
       "      <th>cancel_feb25</th>\n",
       "      <th>cancel_mar25</th>\n",
       "    </tr>\n",
       "    <tr>\n",
       "      <th>professional_id</th>\n",
       "      <th></th>\n",
       "      <th></th>\n",
       "      <th></th>\n",
       "    </tr>\n",
       "  </thead>\n",
       "  <tbody>\n",
       "    <tr>\n",
       "      <th>226</th>\n",
       "      <td>0.00</td>\n",
       "      <td>6.45</td>\n",
       "      <td>6.45</td>\n",
       "    </tr>\n",
       "    <tr>\n",
       "      <th>737</th>\n",
       "      <td>0.70</td>\n",
       "      <td>0.35</td>\n",
       "      <td>0.35</td>\n",
       "    </tr>\n",
       "    <tr>\n",
       "      <th>1099</th>\n",
       "      <td>0.30</td>\n",
       "      <td>0.00</td>\n",
       "      <td>0.00</td>\n",
       "    </tr>\n",
       "    <tr>\n",
       "      <th>1360</th>\n",
       "      <td>0.24</td>\n",
       "      <td>0.00</td>\n",
       "      <td>0.00</td>\n",
       "    </tr>\n",
       "    <tr>\n",
       "      <th>1589</th>\n",
       "      <td>0.00</td>\n",
       "      <td>0.77</td>\n",
       "      <td>0.00</td>\n",
       "    </tr>\n",
       "    <tr>\n",
       "      <th>...</th>\n",
       "      <td>...</td>\n",
       "      <td>...</td>\n",
       "      <td>...</td>\n",
       "    </tr>\n",
       "    <tr>\n",
       "      <th>12492</th>\n",
       "      <td>0.00</td>\n",
       "      <td>0.00</td>\n",
       "      <td>0.00</td>\n",
       "    </tr>\n",
       "    <tr>\n",
       "      <th>12493</th>\n",
       "      <td>0.00</td>\n",
       "      <td>0.00</td>\n",
       "      <td>7.14</td>\n",
       "    </tr>\n",
       "    <tr>\n",
       "      <th>12510</th>\n",
       "      <td>0.00</td>\n",
       "      <td>0.00</td>\n",
       "      <td>2.74</td>\n",
       "    </tr>\n",
       "    <tr>\n",
       "      <th>12521</th>\n",
       "      <td>0.00</td>\n",
       "      <td>0.00</td>\n",
       "      <td>33.33</td>\n",
       "    </tr>\n",
       "    <tr>\n",
       "      <th>12523</th>\n",
       "      <td>0.00</td>\n",
       "      <td>0.00</td>\n",
       "      <td>50.00</td>\n",
       "    </tr>\n",
       "  </tbody>\n",
       "</table>\n",
       "<p>445 rows × 3 columns</p>\n",
       "</div>"
      ],
      "text/plain": [
       "report_month     cancel_jan25  cancel_feb25  cancel_mar25\n",
       "professional_id                                          \n",
       "226                      0.00          6.45          6.45\n",
       "737                      0.70          0.35          0.35\n",
       "1099                     0.30          0.00          0.00\n",
       "1360                     0.24          0.00          0.00\n",
       "1589                     0.00          0.77          0.00\n",
       "...                       ...           ...           ...\n",
       "12492                    0.00          0.00          0.00\n",
       "12493                    0.00          0.00          7.14\n",
       "12510                    0.00          0.00          2.74\n",
       "12521                    0.00          0.00         33.33\n",
       "12523                    0.00          0.00         50.00\n",
       "\n",
       "[445 rows x 3 columns]"
      ]
     },
     "execution_count": 139,
     "metadata": {},
     "output_type": "execute_result"
    }
   ],
   "source": [
    "cancel_pivot = cancel_pivot.round(2)\n",
    "cancel_pivot = cancel_pivot.fillna(0)\n",
    "cancel_pivot"
   ]
  },
  {
   "cell_type": "markdown",
   "id": "24c62830",
   "metadata": {},
   "source": [
    "#### **4th Task: Quality Data Problem**"
   ]
  },
  {
   "cell_type": "code",
   "execution_count": null,
   "id": "a405a1fe",
   "metadata": {},
   "outputs": [
    {
     "data": {
      "text/html": [
       "<div>\n",
       "<style scoped>\n",
       "    .dataframe tbody tr th:only-of-type {\n",
       "        vertical-align: middle;\n",
       "    }\n",
       "\n",
       "    .dataframe tbody tr th {\n",
       "        vertical-align: top;\n",
       "    }\n",
       "\n",
       "    .dataframe thead th {\n",
       "        text-align: right;\n",
       "    }\n",
       "</style>\n",
       "<table border=\"1\" class=\"dataframe\">\n",
       "  <thead>\n",
       "    <tr style=\"text-align: right;\">\n",
       "      <th></th>\n",
       "      <th>report_date</th>\n",
       "      <th>professional_id</th>\n",
       "      <th>report_problem_id</th>\n",
       "      <th>problem_name</th>\n",
       "    </tr>\n",
       "  </thead>\n",
       "  <tbody>\n",
       "    <tr>\n",
       "      <th>0</th>\n",
       "      <td>2025-01-02 15:59:00</td>\n",
       "      <td>9280</td>\n",
       "      <td>32218</td>\n",
       "      <td>เข้าให้บริการสาย</td>\n",
       "    </tr>\n",
       "    <tr>\n",
       "      <th>1</th>\n",
       "      <td>2025-01-11 10:30:00</td>\n",
       "      <td>10555</td>\n",
       "      <td>32434</td>\n",
       "      <td>เข้าให้บริการสาย</td>\n",
       "    </tr>\n",
       "    <tr>\n",
       "      <th>2</th>\n",
       "      <td>2025-01-13 17:22:00</td>\n",
       "      <td>11144</td>\n",
       "      <td>32504</td>\n",
       "      <td>เข้าให้บริการสาย</td>\n",
       "    </tr>\n",
       "    <tr>\n",
       "      <th>3</th>\n",
       "      <td>2025-01-17 18:30:00</td>\n",
       "      <td>11760</td>\n",
       "      <td>32598</td>\n",
       "      <td>เข้าให้บริการสาย</td>\n",
       "    </tr>\n",
       "    <tr>\n",
       "      <th>4</th>\n",
       "      <td>2025-01-18 10:21:00</td>\n",
       "      <td>11760</td>\n",
       "      <td>32606</td>\n",
       "      <td>เข้าให้บริการสาย</td>\n",
       "    </tr>\n",
       "    <tr>\n",
       "      <th>...</th>\n",
       "      <td>...</td>\n",
       "      <td>...</td>\n",
       "      <td>...</td>\n",
       "      <td>...</td>\n",
       "    </tr>\n",
       "    <tr>\n",
       "      <th>897</th>\n",
       "      <td>2025-03-10 06:30:00</td>\n",
       "      <td>12187</td>\n",
       "      <td>33923</td>\n",
       "      <td>แอร์ไม่เย็น</td>\n",
       "    </tr>\n",
       "    <tr>\n",
       "      <th>898</th>\n",
       "      <td>2025-03-10 06:37:00</td>\n",
       "      <td>12187</td>\n",
       "      <td>33931</td>\n",
       "      <td>แอร์ไม่เย็น</td>\n",
       "    </tr>\n",
       "    <tr>\n",
       "      <th>899</th>\n",
       "      <td>2025-02-24 08:06:00</td>\n",
       "      <td>11997</td>\n",
       "      <td>33516</td>\n",
       "      <td>แอร์มีเสียงดัง</td>\n",
       "    </tr>\n",
       "    <tr>\n",
       "      <th>900</th>\n",
       "      <td>2025-02-26 11:02:00</td>\n",
       "      <td>11997</td>\n",
       "      <td>33569</td>\n",
       "      <td>แอร์มีเสียงดัง</td>\n",
       "    </tr>\n",
       "    <tr>\n",
       "      <th>901</th>\n",
       "      <td>2025-03-28 10:51:00</td>\n",
       "      <td>12153</td>\n",
       "      <td>34385</td>\n",
       "      <td>แอร์มีเสียงดัง</td>\n",
       "    </tr>\n",
       "  </tbody>\n",
       "</table>\n",
       "<p>902 rows × 4 columns</p>\n",
       "</div>"
      ],
      "text/plain": [
       "             report_date  professional_id  report_problem_id      problem_name\n",
       "0    2025-01-02 15:59:00             9280              32218  เข้าให้บริการสาย\n",
       "1    2025-01-11 10:30:00            10555              32434  เข้าให้บริการสาย\n",
       "2    2025-01-13 17:22:00            11144              32504  เข้าให้บริการสาย\n",
       "3    2025-01-17 18:30:00            11760              32598  เข้าให้บริการสาย\n",
       "4    2025-01-18 10:21:00            11760              32606  เข้าให้บริการสาย\n",
       "..                   ...              ...                ...               ...\n",
       "897  2025-03-10 06:30:00            12187              33923      แอร์ไม่เย็น \n",
       "898  2025-03-10 06:37:00            12187              33931      แอร์ไม่เย็น \n",
       "899  2025-02-24 08:06:00            11997              33516   แอร์มีเสียงดัง \n",
       "900  2025-02-26 11:02:00            11997              33569   แอร์มีเสียงดัง \n",
       "901  2025-03-28 10:51:00            12153              34385   แอร์มีเสียงดัง \n",
       "\n",
       "[902 rows x 4 columns]"
      ]
     },
     "execution_count": 140,
     "metadata": {},
     "output_type": "execute_result"
    }
   ],
   "source": [
    "quality"
   ]
  },
  {
   "cell_type": "code",
   "execution_count": null,
   "id": "5df8caa6",
   "metadata": {},
   "outputs": [
    {
     "data": {
      "text/plain": [
       "array(['เข้าให้บริการสาย',\n",
       "       'Checkout ก่อนเวลา / ให้บริการไม่ครบชั่วโมงการจอง',\n",
       "       'ขอเลื่อนเวลานัดหมายการให้บริการ', 'ทำความสะอาดไม่เรียบร้อย',\n",
       "       'คุณภาพการให้บริการต่ำกว่า 4 ดาว', 'อุปกรณ์/น้ำยาทำความสะอาด',\n",
       "       'ทิ้งของโดยไม่ถามคุณลูกค้า', 'ประกันคุณภาพ / ความพึงพอใจ',\n",
       "       'รีดผ้าไม่เรียบ', 'รีดผ้าไม่ครบจำนวนชิ้น',\n",
       "       'Checkin ก่อนถึงสถานที่นัดหมาย',\n",
       "       'พื้นที่ \"ล้างแอร์\" ยังไม่สะอาดเรียบร้อย', 'แอร์มีน้ำหยด',\n",
       "       'แอร์ไม่เย็น ', 'แอร์มีเสียงดัง '], dtype=object)"
      ]
     },
     "execution_count": 141,
     "metadata": {},
     "output_type": "execute_result"
    }
   ],
   "source": [
    "quality.problem_name.unique()"
   ]
  },
  {
   "cell_type": "markdown",
   "id": "a27df939",
   "metadata": {},
   "source": [
    "##### **Filter:** Quality Data by Month"
   ]
  },
  {
   "cell_type": "code",
   "execution_count": null,
   "id": "53319ec0",
   "metadata": {},
   "outputs": [
    {
     "data": {
      "text/html": [
       "<div>\n",
       "<style scoped>\n",
       "    .dataframe tbody tr th:only-of-type {\n",
       "        vertical-align: middle;\n",
       "    }\n",
       "\n",
       "    .dataframe tbody tr th {\n",
       "        vertical-align: top;\n",
       "    }\n",
       "\n",
       "    .dataframe thead th {\n",
       "        text-align: right;\n",
       "    }\n",
       "</style>\n",
       "<table border=\"1\" class=\"dataframe\">\n",
       "  <thead>\n",
       "    <tr style=\"text-align: right;\">\n",
       "      <th></th>\n",
       "      <th>report_date</th>\n",
       "      <th>professional_id</th>\n",
       "      <th>report_problem_id</th>\n",
       "      <th>problem_name</th>\n",
       "      <th>date</th>\n",
       "      <th>time</th>\n",
       "      <th>report_month</th>\n",
       "    </tr>\n",
       "  </thead>\n",
       "  <tbody>\n",
       "    <tr>\n",
       "      <th>0</th>\n",
       "      <td>2025-01-02 15:59:00</td>\n",
       "      <td>9280</td>\n",
       "      <td>32218</td>\n",
       "      <td>เข้าให้บริการสาย</td>\n",
       "      <td>2025-01-02</td>\n",
       "      <td>15:59:00</td>\n",
       "      <td>2025-01</td>\n",
       "    </tr>\n",
       "    <tr>\n",
       "      <th>1</th>\n",
       "      <td>2025-01-11 10:30:00</td>\n",
       "      <td>10555</td>\n",
       "      <td>32434</td>\n",
       "      <td>เข้าให้บริการสาย</td>\n",
       "      <td>2025-01-11</td>\n",
       "      <td>10:30:00</td>\n",
       "      <td>2025-01</td>\n",
       "    </tr>\n",
       "    <tr>\n",
       "      <th>2</th>\n",
       "      <td>2025-01-13 17:22:00</td>\n",
       "      <td>11144</td>\n",
       "      <td>32504</td>\n",
       "      <td>เข้าให้บริการสาย</td>\n",
       "      <td>2025-01-13</td>\n",
       "      <td>17:22:00</td>\n",
       "      <td>2025-01</td>\n",
       "    </tr>\n",
       "    <tr>\n",
       "      <th>3</th>\n",
       "      <td>2025-01-17 18:30:00</td>\n",
       "      <td>11760</td>\n",
       "      <td>32598</td>\n",
       "      <td>เข้าให้บริการสาย</td>\n",
       "      <td>2025-01-17</td>\n",
       "      <td>18:30:00</td>\n",
       "      <td>2025-01</td>\n",
       "    </tr>\n",
       "    <tr>\n",
       "      <th>4</th>\n",
       "      <td>2025-01-18 10:21:00</td>\n",
       "      <td>11760</td>\n",
       "      <td>32606</td>\n",
       "      <td>เข้าให้บริการสาย</td>\n",
       "      <td>2025-01-18</td>\n",
       "      <td>10:21:00</td>\n",
       "      <td>2025-01</td>\n",
       "    </tr>\n",
       "    <tr>\n",
       "      <th>...</th>\n",
       "      <td>...</td>\n",
       "      <td>...</td>\n",
       "      <td>...</td>\n",
       "      <td>...</td>\n",
       "      <td>...</td>\n",
       "      <td>...</td>\n",
       "      <td>...</td>\n",
       "    </tr>\n",
       "    <tr>\n",
       "      <th>897</th>\n",
       "      <td>2025-03-10 06:30:00</td>\n",
       "      <td>12187</td>\n",
       "      <td>33923</td>\n",
       "      <td>แอร์ไม่เย็น</td>\n",
       "      <td>2025-03-10</td>\n",
       "      <td>06:30:00</td>\n",
       "      <td>2025-03</td>\n",
       "    </tr>\n",
       "    <tr>\n",
       "      <th>898</th>\n",
       "      <td>2025-03-10 06:37:00</td>\n",
       "      <td>12187</td>\n",
       "      <td>33931</td>\n",
       "      <td>แอร์ไม่เย็น</td>\n",
       "      <td>2025-03-10</td>\n",
       "      <td>06:37:00</td>\n",
       "      <td>2025-03</td>\n",
       "    </tr>\n",
       "    <tr>\n",
       "      <th>899</th>\n",
       "      <td>2025-02-24 08:06:00</td>\n",
       "      <td>11997</td>\n",
       "      <td>33516</td>\n",
       "      <td>แอร์มีเสียงดัง</td>\n",
       "      <td>2025-02-24</td>\n",
       "      <td>08:06:00</td>\n",
       "      <td>2025-02</td>\n",
       "    </tr>\n",
       "    <tr>\n",
       "      <th>900</th>\n",
       "      <td>2025-02-26 11:02:00</td>\n",
       "      <td>11997</td>\n",
       "      <td>33569</td>\n",
       "      <td>แอร์มีเสียงดัง</td>\n",
       "      <td>2025-02-26</td>\n",
       "      <td>11:02:00</td>\n",
       "      <td>2025-02</td>\n",
       "    </tr>\n",
       "    <tr>\n",
       "      <th>901</th>\n",
       "      <td>2025-03-28 10:51:00</td>\n",
       "      <td>12153</td>\n",
       "      <td>34385</td>\n",
       "      <td>แอร์มีเสียงดัง</td>\n",
       "      <td>2025-03-28</td>\n",
       "      <td>10:51:00</td>\n",
       "      <td>2025-03</td>\n",
       "    </tr>\n",
       "  </tbody>\n",
       "</table>\n",
       "<p>902 rows × 7 columns</p>\n",
       "</div>"
      ],
      "text/plain": [
       "             report_date  professional_id  report_problem_id  \\\n",
       "0    2025-01-02 15:59:00             9280              32218   \n",
       "1    2025-01-11 10:30:00            10555              32434   \n",
       "2    2025-01-13 17:22:00            11144              32504   \n",
       "3    2025-01-17 18:30:00            11760              32598   \n",
       "4    2025-01-18 10:21:00            11760              32606   \n",
       "..                   ...              ...                ...   \n",
       "897  2025-03-10 06:30:00            12187              33923   \n",
       "898  2025-03-10 06:37:00            12187              33931   \n",
       "899  2025-02-24 08:06:00            11997              33516   \n",
       "900  2025-02-26 11:02:00            11997              33569   \n",
       "901  2025-03-28 10:51:00            12153              34385   \n",
       "\n",
       "         problem_name        date      time report_month  \n",
       "0    เข้าให้บริการสาย  2025-01-02  15:59:00      2025-01  \n",
       "1    เข้าให้บริการสาย  2025-01-11  10:30:00      2025-01  \n",
       "2    เข้าให้บริการสาย  2025-01-13  17:22:00      2025-01  \n",
       "3    เข้าให้บริการสาย  2025-01-17  18:30:00      2025-01  \n",
       "4    เข้าให้บริการสาย  2025-01-18  10:21:00      2025-01  \n",
       "..                ...         ...       ...          ...  \n",
       "897      แอร์ไม่เย็น   2025-03-10  06:30:00      2025-03  \n",
       "898      แอร์ไม่เย็น   2025-03-10  06:37:00      2025-03  \n",
       "899   แอร์มีเสียงดัง   2025-02-24  08:06:00      2025-02  \n",
       "900   แอร์มีเสียงดัง   2025-02-26  11:02:00      2025-02  \n",
       "901   แอร์มีเสียงดัง   2025-03-28  10:51:00      2025-03  \n",
       "\n",
       "[902 rows x 7 columns]"
      ]
     },
     "execution_count": 142,
     "metadata": {},
     "output_type": "execute_result"
    }
   ],
   "source": [
    "quality[[\"date\", \"time\"]] = quality[\"report_date\"].str.split(\" \", expand=True)\n",
    "quality[\"report_month\"] = quality[\"date\"].str.slice(stop = 7)\n",
    "quality"
   ]
  },
  {
   "cell_type": "code",
   "execution_count": null,
   "id": "1e36c305",
   "metadata": {},
   "outputs": [
    {
     "data": {
      "text/html": [
       "<div>\n",
       "<style scoped>\n",
       "    .dataframe tbody tr th:only-of-type {\n",
       "        vertical-align: middle;\n",
       "    }\n",
       "\n",
       "    .dataframe tbody tr th {\n",
       "        vertical-align: top;\n",
       "    }\n",
       "\n",
       "    .dataframe thead th {\n",
       "        text-align: right;\n",
       "    }\n",
       "</style>\n",
       "<table border=\"1\" class=\"dataframe\">\n",
       "  <thead>\n",
       "    <tr style=\"text-align: right;\">\n",
       "      <th></th>\n",
       "      <th>report_date</th>\n",
       "      <th>professional_id</th>\n",
       "      <th>report_problem_id</th>\n",
       "      <th>problem_name</th>\n",
       "      <th>date</th>\n",
       "      <th>time</th>\n",
       "      <th>report_month</th>\n",
       "    </tr>\n",
       "  </thead>\n",
       "  <tbody>\n",
       "    <tr>\n",
       "      <th>0</th>\n",
       "      <td>2025-01-02 15:59:00</td>\n",
       "      <td>9280</td>\n",
       "      <td>32218</td>\n",
       "      <td>เข้าให้บริการสาย</td>\n",
       "      <td>2025-01-02</td>\n",
       "      <td>15:59:00</td>\n",
       "      <td>2025-01</td>\n",
       "    </tr>\n",
       "    <tr>\n",
       "      <th>1</th>\n",
       "      <td>2025-01-11 10:30:00</td>\n",
       "      <td>10555</td>\n",
       "      <td>32434</td>\n",
       "      <td>เข้าให้บริการสาย</td>\n",
       "      <td>2025-01-11</td>\n",
       "      <td>10:30:00</td>\n",
       "      <td>2025-01</td>\n",
       "    </tr>\n",
       "    <tr>\n",
       "      <th>2</th>\n",
       "      <td>2025-01-13 17:22:00</td>\n",
       "      <td>11144</td>\n",
       "      <td>32504</td>\n",
       "      <td>เข้าให้บริการสาย</td>\n",
       "      <td>2025-01-13</td>\n",
       "      <td>17:22:00</td>\n",
       "      <td>2025-01</td>\n",
       "    </tr>\n",
       "    <tr>\n",
       "      <th>3</th>\n",
       "      <td>2025-01-17 18:30:00</td>\n",
       "      <td>11760</td>\n",
       "      <td>32598</td>\n",
       "      <td>เข้าให้บริการสาย</td>\n",
       "      <td>2025-01-17</td>\n",
       "      <td>18:30:00</td>\n",
       "      <td>2025-01</td>\n",
       "    </tr>\n",
       "    <tr>\n",
       "      <th>4</th>\n",
       "      <td>2025-01-18 10:21:00</td>\n",
       "      <td>11760</td>\n",
       "      <td>32606</td>\n",
       "      <td>เข้าให้บริการสาย</td>\n",
       "      <td>2025-01-18</td>\n",
       "      <td>10:21:00</td>\n",
       "      <td>2025-01</td>\n",
       "    </tr>\n",
       "    <tr>\n",
       "      <th>...</th>\n",
       "      <td>...</td>\n",
       "      <td>...</td>\n",
       "      <td>...</td>\n",
       "      <td>...</td>\n",
       "      <td>...</td>\n",
       "      <td>...</td>\n",
       "      <td>...</td>\n",
       "    </tr>\n",
       "    <tr>\n",
       "      <th>897</th>\n",
       "      <td>2025-03-10 06:30:00</td>\n",
       "      <td>12187</td>\n",
       "      <td>33923</td>\n",
       "      <td>แอร์ไม่เย็น</td>\n",
       "      <td>2025-03-10</td>\n",
       "      <td>06:30:00</td>\n",
       "      <td>2025-03</td>\n",
       "    </tr>\n",
       "    <tr>\n",
       "      <th>898</th>\n",
       "      <td>2025-03-10 06:37:00</td>\n",
       "      <td>12187</td>\n",
       "      <td>33931</td>\n",
       "      <td>แอร์ไม่เย็น</td>\n",
       "      <td>2025-03-10</td>\n",
       "      <td>06:37:00</td>\n",
       "      <td>2025-03</td>\n",
       "    </tr>\n",
       "    <tr>\n",
       "      <th>899</th>\n",
       "      <td>2025-02-24 08:06:00</td>\n",
       "      <td>11997</td>\n",
       "      <td>33516</td>\n",
       "      <td>แอร์มีเสียงดัง</td>\n",
       "      <td>2025-02-24</td>\n",
       "      <td>08:06:00</td>\n",
       "      <td>2025-02</td>\n",
       "    </tr>\n",
       "    <tr>\n",
       "      <th>900</th>\n",
       "      <td>2025-02-26 11:02:00</td>\n",
       "      <td>11997</td>\n",
       "      <td>33569</td>\n",
       "      <td>แอร์มีเสียงดัง</td>\n",
       "      <td>2025-02-26</td>\n",
       "      <td>11:02:00</td>\n",
       "      <td>2025-02</td>\n",
       "    </tr>\n",
       "    <tr>\n",
       "      <th>901</th>\n",
       "      <td>2025-03-28 10:51:00</td>\n",
       "      <td>12153</td>\n",
       "      <td>34385</td>\n",
       "      <td>แอร์มีเสียงดัง</td>\n",
       "      <td>2025-03-28</td>\n",
       "      <td>10:51:00</td>\n",
       "      <td>2025-03</td>\n",
       "    </tr>\n",
       "  </tbody>\n",
       "</table>\n",
       "<p>902 rows × 7 columns</p>\n",
       "</div>"
      ],
      "text/plain": [
       "             report_date  professional_id  report_problem_id  \\\n",
       "0    2025-01-02 15:59:00             9280              32218   \n",
       "1    2025-01-11 10:30:00            10555              32434   \n",
       "2    2025-01-13 17:22:00            11144              32504   \n",
       "3    2025-01-17 18:30:00            11760              32598   \n",
       "4    2025-01-18 10:21:00            11760              32606   \n",
       "..                   ...              ...                ...   \n",
       "897  2025-03-10 06:30:00            12187              33923   \n",
       "898  2025-03-10 06:37:00            12187              33931   \n",
       "899  2025-02-24 08:06:00            11997              33516   \n",
       "900  2025-02-26 11:02:00            11997              33569   \n",
       "901  2025-03-28 10:51:00            12153              34385   \n",
       "\n",
       "         problem_name        date      time report_month  \n",
       "0    เข้าให้บริการสาย  2025-01-02  15:59:00      2025-01  \n",
       "1    เข้าให้บริการสาย  2025-01-11  10:30:00      2025-01  \n",
       "2    เข้าให้บริการสาย  2025-01-13  17:22:00      2025-01  \n",
       "3    เข้าให้บริการสาย  2025-01-17  18:30:00      2025-01  \n",
       "4    เข้าให้บริการสาย  2025-01-18  10:21:00      2025-01  \n",
       "..                ...         ...       ...          ...  \n",
       "897      แอร์ไม่เย็น   2025-03-10  06:30:00      2025-03  \n",
       "898      แอร์ไม่เย็น   2025-03-10  06:37:00      2025-03  \n",
       "899   แอร์มีเสียงดัง   2025-02-24  08:06:00      2025-02  \n",
       "900   แอร์มีเสียงดัง   2025-02-26  11:02:00      2025-02  \n",
       "901   แอร์มีเสียงดัง   2025-03-28  10:51:00      2025-03  \n",
       "\n",
       "[902 rows x 7 columns]"
      ]
     },
     "execution_count": 143,
     "metadata": {},
     "output_type": "execute_result"
    }
   ],
   "source": [
    "filter_quality = quality[(quality[\"report_month\"] >= \"2025-01\") &\n",
    "                         (quality[\"report_month\"] <= \"2025-03\")]\n",
    "filter_quality"
   ]
  },
  {
   "cell_type": "markdown",
   "id": "32df0ac7",
   "metadata": {},
   "source": [
    "##### **GroupBy:** report_month, professional_id"
   ]
  },
  {
   "cell_type": "code",
   "execution_count": 148,
   "id": "c90c3fc5",
   "metadata": {
    "vscode": {
     "languageId": "markdown"
    }
   },
   "outputs": [
    {
     "data": {
      "text/html": [
       "<div>\n",
       "<style scoped>\n",
       "    .dataframe tbody tr th:only-of-type {\n",
       "        vertical-align: middle;\n",
       "    }\n",
       "\n",
       "    .dataframe tbody tr th {\n",
       "        vertical-align: top;\n",
       "    }\n",
       "\n",
       "    .dataframe thead th {\n",
       "        text-align: right;\n",
       "    }\n",
       "</style>\n",
       "<table border=\"1\" class=\"dataframe\">\n",
       "  <thead>\n",
       "    <tr style=\"text-align: right;\">\n",
       "      <th></th>\n",
       "      <th>report_month</th>\n",
       "      <th>professional_id</th>\n",
       "      <th>total_problems</th>\n",
       "    </tr>\n",
       "  </thead>\n",
       "  <tbody>\n",
       "    <tr>\n",
       "      <th>0</th>\n",
       "      <td>2025-01</td>\n",
       "      <td>207</td>\n",
       "      <td>1</td>\n",
       "    </tr>\n",
       "    <tr>\n",
       "      <th>1</th>\n",
       "      <td>2025-01</td>\n",
       "      <td>243</td>\n",
       "      <td>1</td>\n",
       "    </tr>\n",
       "    <tr>\n",
       "      <th>2</th>\n",
       "      <td>2025-01</td>\n",
       "      <td>342</td>\n",
       "      <td>1</td>\n",
       "    </tr>\n",
       "    <tr>\n",
       "      <th>3</th>\n",
       "      <td>2025-01</td>\n",
       "      <td>559</td>\n",
       "      <td>2</td>\n",
       "    </tr>\n",
       "    <tr>\n",
       "      <th>4</th>\n",
       "      <td>2025-01</td>\n",
       "      <td>589</td>\n",
       "      <td>1</td>\n",
       "    </tr>\n",
       "    <tr>\n",
       "      <th>...</th>\n",
       "      <td>...</td>\n",
       "      <td>...</td>\n",
       "      <td>...</td>\n",
       "    </tr>\n",
       "    <tr>\n",
       "      <th>724</th>\n",
       "      <td>2025-03</td>\n",
       "      <td>12437</td>\n",
       "      <td>1</td>\n",
       "    </tr>\n",
       "    <tr>\n",
       "      <th>725</th>\n",
       "      <td>2025-03</td>\n",
       "      <td>12445</td>\n",
       "      <td>1</td>\n",
       "    </tr>\n",
       "    <tr>\n",
       "      <th>726</th>\n",
       "      <td>2025-03</td>\n",
       "      <td>12470</td>\n",
       "      <td>1</td>\n",
       "    </tr>\n",
       "    <tr>\n",
       "      <th>727</th>\n",
       "      <td>2025-03</td>\n",
       "      <td>12484</td>\n",
       "      <td>1</td>\n",
       "    </tr>\n",
       "    <tr>\n",
       "      <th>728</th>\n",
       "      <td>2025-03</td>\n",
       "      <td>12516</td>\n",
       "      <td>2</td>\n",
       "    </tr>\n",
       "  </tbody>\n",
       "</table>\n",
       "<p>729 rows × 3 columns</p>\n",
       "</div>"
      ],
      "text/plain": [
       "    report_month  professional_id  total_problems\n",
       "0        2025-01              207               1\n",
       "1        2025-01              243               1\n",
       "2        2025-01              342               1\n",
       "3        2025-01              559               2\n",
       "4        2025-01              589               1\n",
       "..           ...              ...             ...\n",
       "724      2025-03            12437               1\n",
       "725      2025-03            12445               1\n",
       "726      2025-03            12470               1\n",
       "727      2025-03            12484               1\n",
       "728      2025-03            12516               2\n",
       "\n",
       "[729 rows x 3 columns]"
      ]
     },
     "execution_count": 148,
     "metadata": {},
     "output_type": "execute_result"
    }
   ],
   "source": [
    "quality_group = filter_quality.groupby([\"report_month\", \"professional_id\"]).agg(\n",
    "                                      total_problems=(\"problem_name\", \"count\")\n",
    "                                      ).reset_index()\n",
    "quality_group"
   ]
  },
  {
   "cell_type": "markdown",
   "id": "37a546f9",
   "metadata": {},
   "source": [
    "Checking that the grouped data is valid"
   ]
  },
  {
   "cell_type": "code",
   "execution_count": 155,
   "id": "1aef42f0",
   "metadata": {
    "vscode": {
     "languageId": "markdown"
    }
   },
   "outputs": [
    {
     "data": {
      "text/html": [
       "<div>\n",
       "<style scoped>\n",
       "    .dataframe tbody tr th:only-of-type {\n",
       "        vertical-align: middle;\n",
       "    }\n",
       "\n",
       "    .dataframe tbody tr th {\n",
       "        vertical-align: top;\n",
       "    }\n",
       "\n",
       "    .dataframe thead th {\n",
       "        text-align: right;\n",
       "    }\n",
       "</style>\n",
       "<table border=\"1\" class=\"dataframe\">\n",
       "  <thead>\n",
       "    <tr style=\"text-align: right;\">\n",
       "      <th></th>\n",
       "      <th>report_month</th>\n",
       "      <th>professional_id</th>\n",
       "      <th>total_problems</th>\n",
       "    </tr>\n",
       "  </thead>\n",
       "  <tbody>\n",
       "    <tr>\n",
       "      <th>0</th>\n",
       "      <td>2025-01</td>\n",
       "      <td>207</td>\n",
       "      <td>1</td>\n",
       "    </tr>\n",
       "    <tr>\n",
       "      <th>456</th>\n",
       "      <td>2025-03</td>\n",
       "      <td>207</td>\n",
       "      <td>1</td>\n",
       "    </tr>\n",
       "  </tbody>\n",
       "</table>\n",
       "</div>"
      ],
      "text/plain": [
       "    report_month  professional_id  total_problems\n",
       "0        2025-01              207               1\n",
       "456      2025-03              207               1"
      ]
     },
     "execution_count": 155,
     "metadata": {},
     "output_type": "execute_result"
    }
   ],
   "source": [
    "quality_group[quality_group[\"professional_id\"] == 207]"
   ]
  },
  {
   "cell_type": "code",
   "execution_count": 156,
   "id": "fcd9200f",
   "metadata": {
    "vscode": {
     "languageId": "markdown"
    }
   },
   "outputs": [
    {
     "data": {
      "text/html": [
       "<div>\n",
       "<style scoped>\n",
       "    .dataframe tbody tr th:only-of-type {\n",
       "        vertical-align: middle;\n",
       "    }\n",
       "\n",
       "    .dataframe tbody tr th {\n",
       "        vertical-align: top;\n",
       "    }\n",
       "\n",
       "    .dataframe thead th {\n",
       "        text-align: right;\n",
       "    }\n",
       "</style>\n",
       "<table border=\"1\" class=\"dataframe\">\n",
       "  <thead>\n",
       "    <tr style=\"text-align: right;\">\n",
       "      <th></th>\n",
       "      <th>report_date</th>\n",
       "      <th>professional_id</th>\n",
       "      <th>report_problem_id</th>\n",
       "      <th>problem_name</th>\n",
       "      <th>date</th>\n",
       "      <th>time</th>\n",
       "      <th>report_month</th>\n",
       "    </tr>\n",
       "  </thead>\n",
       "  <tbody>\n",
       "    <tr>\n",
       "      <th>545</th>\n",
       "      <td>2025-01-19 10:39:00</td>\n",
       "      <td>207</td>\n",
       "      <td>32637</td>\n",
       "      <td>คุณภาพการให้บริการต่ำกว่า 4 ดาว</td>\n",
       "      <td>2025-01-19</td>\n",
       "      <td>10:39:00</td>\n",
       "      <td>2025-01</td>\n",
       "    </tr>\n",
       "    <tr>\n",
       "      <th>768</th>\n",
       "      <td>2025-03-15 21:53:00</td>\n",
       "      <td>207</td>\n",
       "      <td>34069</td>\n",
       "      <td>คุณภาพการให้บริการต่ำกว่า 4 ดาว</td>\n",
       "      <td>2025-03-15</td>\n",
       "      <td>21:53:00</td>\n",
       "      <td>2025-03</td>\n",
       "    </tr>\n",
       "  </tbody>\n",
       "</table>\n",
       "</div>"
      ],
      "text/plain": [
       "             report_date  professional_id  report_problem_id  \\\n",
       "545  2025-01-19 10:39:00              207              32637   \n",
       "768  2025-03-15 21:53:00              207              34069   \n",
       "\n",
       "                        problem_name        date      time report_month  \n",
       "545  คุณภาพการให้บริการต่ำกว่า 4 ดาว  2025-01-19  10:39:00      2025-01  \n",
       "768  คุณภาพการให้บริการต่ำกว่า 4 ดาว  2025-03-15  21:53:00      2025-03  "
      ]
     },
     "execution_count": 156,
     "metadata": {},
     "output_type": "execute_result"
    }
   ],
   "source": [
    "filter_quality[filter_quality[\"professional_id\"] == 207]"
   ]
  },
  {
   "cell_type": "markdown",
   "id": "f0c4205e",
   "metadata": {},
   "source": [
    "##### **Pivot Table:** report_month for better summarize\n",
    "\n",
    "**Calculate:** Percentage Formula\n",
    "\n",
    "<div class=\"alert alert-block alert-info\">\n",
    "\n",
    "Don't forget to **fill NaN value with 0** (it means that there are no problem on that month)\n",
    "\n",
    "</div>"
   ]
  },
  {
   "cell_type": "code",
   "execution_count": 160,
   "id": "dc12ed18",
   "metadata": {
    "vscode": {
     "languageId": "markdown"
    }
   },
   "outputs": [
    {
     "data": {
      "text/html": [
       "<div>\n",
       "<style scoped>\n",
       "    .dataframe tbody tr th:only-of-type {\n",
       "        vertical-align: middle;\n",
       "    }\n",
       "\n",
       "    .dataframe tbody tr th {\n",
       "        vertical-align: top;\n",
       "    }\n",
       "\n",
       "    .dataframe thead th {\n",
       "        text-align: right;\n",
       "    }\n",
       "</style>\n",
       "<table border=\"1\" class=\"dataframe\">\n",
       "  <thead>\n",
       "    <tr style=\"text-align: right;\">\n",
       "      <th>report_month</th>\n",
       "      <th>2025-01</th>\n",
       "      <th>2025-02</th>\n",
       "      <th>2025-03</th>\n",
       "    </tr>\n",
       "    <tr>\n",
       "      <th>professional_id</th>\n",
       "      <th></th>\n",
       "      <th></th>\n",
       "      <th></th>\n",
       "    </tr>\n",
       "  </thead>\n",
       "  <tbody>\n",
       "    <tr>\n",
       "      <th>79</th>\n",
       "      <td>0.0</td>\n",
       "      <td>0.0</td>\n",
       "      <td>1.0</td>\n",
       "    </tr>\n",
       "    <tr>\n",
       "      <th>207</th>\n",
       "      <td>1.0</td>\n",
       "      <td>0.0</td>\n",
       "      <td>1.0</td>\n",
       "    </tr>\n",
       "    <tr>\n",
       "      <th>243</th>\n",
       "      <td>1.0</td>\n",
       "      <td>1.0</td>\n",
       "      <td>0.0</td>\n",
       "    </tr>\n",
       "    <tr>\n",
       "      <th>298</th>\n",
       "      <td>0.0</td>\n",
       "      <td>0.0</td>\n",
       "      <td>1.0</td>\n",
       "    </tr>\n",
       "    <tr>\n",
       "      <th>342</th>\n",
       "      <td>1.0</td>\n",
       "      <td>0.0</td>\n",
       "      <td>0.0</td>\n",
       "    </tr>\n",
       "    <tr>\n",
       "      <th>...</th>\n",
       "      <td>...</td>\n",
       "      <td>...</td>\n",
       "      <td>...</td>\n",
       "    </tr>\n",
       "    <tr>\n",
       "      <th>12437</th>\n",
       "      <td>0.0</td>\n",
       "      <td>0.0</td>\n",
       "      <td>1.0</td>\n",
       "    </tr>\n",
       "    <tr>\n",
       "      <th>12445</th>\n",
       "      <td>0.0</td>\n",
       "      <td>0.0</td>\n",
       "      <td>1.0</td>\n",
       "    </tr>\n",
       "    <tr>\n",
       "      <th>12470</th>\n",
       "      <td>0.0</td>\n",
       "      <td>0.0</td>\n",
       "      <td>1.0</td>\n",
       "    </tr>\n",
       "    <tr>\n",
       "      <th>12484</th>\n",
       "      <td>0.0</td>\n",
       "      <td>0.0</td>\n",
       "      <td>1.0</td>\n",
       "    </tr>\n",
       "    <tr>\n",
       "      <th>12516</th>\n",
       "      <td>0.0</td>\n",
       "      <td>0.0</td>\n",
       "      <td>2.0</td>\n",
       "    </tr>\n",
       "  </tbody>\n",
       "</table>\n",
       "<p>584 rows × 3 columns</p>\n",
       "</div>"
      ],
      "text/plain": [
       "report_month     2025-01  2025-02  2025-03\n",
       "professional_id                           \n",
       "79                   0.0      0.0      1.0\n",
       "207                  1.0      0.0      1.0\n",
       "243                  1.0      1.0      0.0\n",
       "298                  0.0      0.0      1.0\n",
       "342                  1.0      0.0      0.0\n",
       "...                  ...      ...      ...\n",
       "12437                0.0      0.0      1.0\n",
       "12445                0.0      0.0      1.0\n",
       "12470                0.0      0.0      1.0\n",
       "12484                0.0      0.0      1.0\n",
       "12516                0.0      0.0      2.0\n",
       "\n",
       "[584 rows x 3 columns]"
      ]
     },
     "execution_count": 160,
     "metadata": {},
     "output_type": "execute_result"
    }
   ],
   "source": [
    "quality_pivot = pd.pivot_table(quality_group,\n",
    "                               values=\"total_problems\",\n",
    "                               index=\"professional_id\",\n",
    "                               columns=\"report_month\",\n",
    "                               fill_value=0)\n",
    "quality_pivot"
   ]
  },
  {
   "cell_type": "markdown",
   "id": "1748294c",
   "metadata": {},
   "source": [
    "Apply the formula:\n",
    "\n",
    "<div class=\"alert alert-block alert-info\">\n",
    "\n",
    "**problem%_jan25 = (total_problem_jan25/total_booking_25) * 100**\n",
    "\n",
    "</div>"
   ]
  },
  {
   "cell_type": "markdown",
   "id": "80943114",
   "metadata": {},
   "source": [
    "Use total_booking_25 DataFrame from 3rd Task"
   ]
  },
  {
   "cell_type": "code",
   "execution_count": 161,
   "id": "12f7f8c9",
   "metadata": {
    "vscode": {
     "languageId": "markdown"
    }
   },
   "outputs": [
    {
     "data": {
      "text/html": [
       "<div>\n",
       "<style scoped>\n",
       "    .dataframe tbody tr th:only-of-type {\n",
       "        vertical-align: middle;\n",
       "    }\n",
       "\n",
       "    .dataframe tbody tr th {\n",
       "        vertical-align: top;\n",
       "    }\n",
       "\n",
       "    .dataframe thead th {\n",
       "        text-align: right;\n",
       "    }\n",
       "</style>\n",
       "<table border=\"1\" class=\"dataframe\">\n",
       "  <thead>\n",
       "    <tr style=\"text-align: right;\">\n",
       "      <th>report_month</th>\n",
       "      <th>problem_jan25</th>\n",
       "      <th>problem_feb25</th>\n",
       "      <th>problem_mar25</th>\n",
       "    </tr>\n",
       "    <tr>\n",
       "      <th>professional_id</th>\n",
       "      <th></th>\n",
       "      <th></th>\n",
       "      <th></th>\n",
       "    </tr>\n",
       "  </thead>\n",
       "  <tbody>\n",
       "    <tr>\n",
       "      <th>12437</th>\n",
       "      <td>0.0</td>\n",
       "      <td>0.0</td>\n",
       "      <td>1.156069</td>\n",
       "    </tr>\n",
       "    <tr>\n",
       "      <th>12445</th>\n",
       "      <td>0.0</td>\n",
       "      <td>0.0</td>\n",
       "      <td>16.666667</td>\n",
       "    </tr>\n",
       "    <tr>\n",
       "      <th>12470</th>\n",
       "      <td>0.0</td>\n",
       "      <td>0.0</td>\n",
       "      <td>7.692308</td>\n",
       "    </tr>\n",
       "    <tr>\n",
       "      <th>12484</th>\n",
       "      <td>0.0</td>\n",
       "      <td>0.0</td>\n",
       "      <td>5.405405</td>\n",
       "    </tr>\n",
       "    <tr>\n",
       "      <th>12516</th>\n",
       "      <td>0.0</td>\n",
       "      <td>0.0</td>\n",
       "      <td>8.695652</td>\n",
       "    </tr>\n",
       "  </tbody>\n",
       "</table>\n",
       "</div>"
      ],
      "text/plain": [
       "report_month     problem_jan25  problem_feb25  problem_mar25\n",
       "professional_id                                             \n",
       "12437                      0.0            0.0       1.156069\n",
       "12445                      0.0            0.0      16.666667\n",
       "12470                      0.0            0.0       7.692308\n",
       "12484                      0.0            0.0       5.405405\n",
       "12516                      0.0            0.0       8.695652"
      ]
     },
     "execution_count": 161,
     "metadata": {},
     "output_type": "execute_result"
    }
   ],
   "source": [
    "# Replace with the actual total_booking_25 values for each professional_id\n",
    "total_booking_25 = order_pivot.sum(axis=1)  # Example: Sum of bookings across months\n",
    "\n",
    "# Calculate percentages for each month\n",
    "quality_pivot[\"problem_jan25\"] = (quality_pivot[\"2025-01\"] / total_booking_25) * 100\n",
    "quality_pivot[\"problem_feb25\"] = (quality_pivot[\"2025-02\"] / total_booking_25) * 100\n",
    "quality_pivot[\"problem_mar25\"] = (quality_pivot[\"2025-03\"] / total_booking_25) * 100\n",
    "\n",
    "# Replace all values in quality_pivot with the calculated percentages\n",
    "quality_pivot = quality_pivot[[\"problem_jan25\", \"problem_feb25\", \"problem_mar25\"]]\n",
    "quality_pivot.tail()"
   ]
  },
  {
   "cell_type": "markdown",
   "id": "3d0b3774",
   "metadata": {},
   "source": [
    "Finally, round the values in `quality_pivot` to 2 decimal places and deal with missing values"
   ]
  },
  {
   "cell_type": "code",
   "execution_count": 162,
   "id": "e873e77e",
   "metadata": {
    "vscode": {
     "languageId": "markdown"
    }
   },
   "outputs": [
    {
     "data": {
      "text/html": [
       "<div>\n",
       "<style scoped>\n",
       "    .dataframe tbody tr th:only-of-type {\n",
       "        vertical-align: middle;\n",
       "    }\n",
       "\n",
       "    .dataframe tbody tr th {\n",
       "        vertical-align: top;\n",
       "    }\n",
       "\n",
       "    .dataframe thead th {\n",
       "        text-align: right;\n",
       "    }\n",
       "</style>\n",
       "<table border=\"1\" class=\"dataframe\">\n",
       "  <thead>\n",
       "    <tr style=\"text-align: right;\">\n",
       "      <th>report_month</th>\n",
       "      <th>problem_jan25</th>\n",
       "      <th>problem_feb25</th>\n",
       "      <th>problem_mar25</th>\n",
       "    </tr>\n",
       "    <tr>\n",
       "      <th>professional_id</th>\n",
       "      <th></th>\n",
       "      <th></th>\n",
       "      <th></th>\n",
       "    </tr>\n",
       "  </thead>\n",
       "  <tbody>\n",
       "    <tr>\n",
       "      <th>79</th>\n",
       "      <td>0.00</td>\n",
       "      <td>0.00</td>\n",
       "      <td>0.97</td>\n",
       "    </tr>\n",
       "    <tr>\n",
       "      <th>207</th>\n",
       "      <td>0.52</td>\n",
       "      <td>0.00</td>\n",
       "      <td>0.52</td>\n",
       "    </tr>\n",
       "    <tr>\n",
       "      <th>243</th>\n",
       "      <td>0.32</td>\n",
       "      <td>0.32</td>\n",
       "      <td>0.00</td>\n",
       "    </tr>\n",
       "    <tr>\n",
       "      <th>298</th>\n",
       "      <td>0.00</td>\n",
       "      <td>0.00</td>\n",
       "      <td>0.87</td>\n",
       "    </tr>\n",
       "    <tr>\n",
       "      <th>342</th>\n",
       "      <td>6.25</td>\n",
       "      <td>0.00</td>\n",
       "      <td>0.00</td>\n",
       "    </tr>\n",
       "    <tr>\n",
       "      <th>...</th>\n",
       "      <td>...</td>\n",
       "      <td>...</td>\n",
       "      <td>...</td>\n",
       "    </tr>\n",
       "    <tr>\n",
       "      <th>12437</th>\n",
       "      <td>0.00</td>\n",
       "      <td>0.00</td>\n",
       "      <td>1.16</td>\n",
       "    </tr>\n",
       "    <tr>\n",
       "      <th>12445</th>\n",
       "      <td>0.00</td>\n",
       "      <td>0.00</td>\n",
       "      <td>16.67</td>\n",
       "    </tr>\n",
       "    <tr>\n",
       "      <th>12470</th>\n",
       "      <td>0.00</td>\n",
       "      <td>0.00</td>\n",
       "      <td>7.69</td>\n",
       "    </tr>\n",
       "    <tr>\n",
       "      <th>12484</th>\n",
       "      <td>0.00</td>\n",
       "      <td>0.00</td>\n",
       "      <td>5.41</td>\n",
       "    </tr>\n",
       "    <tr>\n",
       "      <th>12516</th>\n",
       "      <td>0.00</td>\n",
       "      <td>0.00</td>\n",
       "      <td>8.70</td>\n",
       "    </tr>\n",
       "  </tbody>\n",
       "</table>\n",
       "<p>584 rows × 3 columns</p>\n",
       "</div>"
      ],
      "text/plain": [
       "report_month     problem_jan25  problem_feb25  problem_mar25\n",
       "professional_id                                             \n",
       "79                        0.00           0.00           0.97\n",
       "207                       0.52           0.00           0.52\n",
       "243                       0.32           0.32           0.00\n",
       "298                       0.00           0.00           0.87\n",
       "342                       6.25           0.00           0.00\n",
       "...                        ...            ...            ...\n",
       "12437                     0.00           0.00           1.16\n",
       "12445                     0.00           0.00          16.67\n",
       "12470                     0.00           0.00           7.69\n",
       "12484                     0.00           0.00           5.41\n",
       "12516                     0.00           0.00           8.70\n",
       "\n",
       "[584 rows x 3 columns]"
      ]
     },
     "execution_count": 162,
     "metadata": {},
     "output_type": "execute_result"
    }
   ],
   "source": [
    "quality_pivot = quality_pivot.round(2)\n",
    "quality_pivot = quality_pivot.fillna(0)\n",
    "quality_pivot"
   ]
  }
 ],
 "metadata": {
  "kernelspec": {
   "display_name": "venv",
   "language": "python",
   "name": "python3"
  },
  "language_info": {
   "codemirror_mode": {
    "name": "ipython",
    "version": 3
   },
   "file_extension": ".py",
   "mimetype": "text/x-python",
   "name": "python",
   "nbconvert_exporter": "python",
   "pygments_lexer": "ipython3",
   "version": "3.13.3"
  }
 },
 "nbformat": 4,
 "nbformat_minor": 5
}
